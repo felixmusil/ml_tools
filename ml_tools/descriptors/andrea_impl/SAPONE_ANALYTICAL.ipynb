{
 "cells": [
  {
   "cell_type": "code",
   "execution_count": 2,
   "metadata": {
    "collapsed": true
   },
   "outputs": [],
   "source": [
    "import sys\n",
    "import ase\n",
    "from ase.io import read\n",
    "import numpy as np\n",
    "import mpmath\n",
    "import scipy\n",
    "from scipy import special\n",
    "import itertools\n",
    "import math\n",
    "import time\n",
    "import matplotlib\n",
    "import matplotlib.pyplot as plt\n",
    "from matplotlib import rc as pltrc\n",
    "from scipy.interpolate import interp1d\n",
    "%matplotlib inline\n",
    "from sympy.physics.wigner import wigner_3j"
   ]
  },
  {
   "cell_type": "markdown",
   "metadata": {},
   "source": [
    "# Set parameters"
   ]
  },
  {
   "cell_type": "code",
   "execution_count": 123,
   "metadata": {
    "collapsed": true
   },
   "outputs": [],
   "source": [
    "# SOAP PARAMETERS\n",
    "nmax = 20             # number of radial functions\n",
    "lmax = 6              # number of angular functions\n",
    "rc = 3.0              # environment cutoff\n",
    "rk = .98              # killing cutoff\n",
    "sg = 0.3              # Gaussian width\n",
    "cen = [\"O\"]           # atoms to center on\n",
    "cw = 1.0              # central atom weight\n",
    "lam = 0               # spherical tensor order\n",
    "periodic = False       # True for periodic systems\n",
    "\n",
    "# BUILT IN PARAMETERS\n",
    "nnmax = 40             # Max number of neighbours\n",
    "ncell = 2              # number of cell repetitions for periodic systems\n",
    "ngrid = 1000           # number of points radial 1D-mesh\n",
    "dr = rc/(ngrid-1)      # spacing 1D-mesh\n",
    "nsmax = 26             # max number of species (up to iron)\n",
    "atom_valence = {\"H\": 1,\"He\": 2,\"Li\": 3,\"Be\": 4,\"B\": 5,\"C\": 6,\"N\": 7,\"O\": 8,\"F\": 9,\"Ne\": 10,\"Na\": 11,\"Mg\": 12,\"Al\": 13,\"Si\": 14,\"P\": 15,\"S\": 16,\"Cl\": 17,\"Ar\": 18,\"K\": 19,\"Ca\": 20,\"Sc\": 21,\"Ti\": 22,\"V\": 23,\"Cr\": 24,\"Mn\": 25,\"Fe\": 26,\"Co\": 27,\"Ni\": 28,\"Cu\": 29,\"Zn\": 30} \n",
    "atom_symbols = {1: 'H', 2: 'He', 3: 'Li', 4: 'Be', 5: 'B', 6: 'C', 7: 'N', 8: 'O', 9: 'F', 10: 'Ne', 11: 'Na', 12: 'Mg', 13: 'Al', 14: 'Si', 15: 'P', 16: 'S', 17: 'Cl', 18: 'Ar', 19: 'K', 20: 'Ca', 21: 'Sc', 22: 'Ti', 23: 'V', 24: 'Cr', 25: 'Mn', 26: 'Fe', 27: 'Co', 28: 'Ni', 29: 'Cu', 30: 'Zn'}"
   ]
  },
  {
   "cell_type": "markdown",
   "metadata": {},
   "source": [
    "# Read coordinates and initialize kernel computation"
   ]
  },
  {
   "cell_type": "code",
   "execution_count": 124,
   "metadata": {},
   "outputs": [
    {
     "name": "stdout",
     "output_type": "stream",
     "text": [
      "total = 0.42077207565307617\n"
     ]
    }
   ],
   "source": [
    "start = time.time()\n",
    "\n",
    "xyzfile = read(\"coords_1000_monomer.xyz\",':')[998:1000]\n",
    "npoints = len(xyzfile)\n",
    "all_names = [xyzfile[i].get_chemical_symbols() for i in range(npoints)]\n",
    "coords = [xyzfile[i].get_positions() for i in range(npoints)]\n",
    "\n",
    "# Process input names\n",
    "full_names_list = [name for sublist in all_names for name in sublist]\n",
    "unique_names = list(set(full_names_list))\n",
    "nspecies = len(unique_names)\n",
    "\n",
    "# List all species according to their valence\n",
    "all_species = []\n",
    "for k in unique_names:\n",
    "    all_species.append(atom_valence[k]) \n",
    "\n",
    "# List number of atoms for each configuration\n",
    "natmax = len(max(all_names, key=len))\n",
    "nat = np.zeros(npoints,dtype=int)\n",
    "for i in range(npoints):\n",
    "    nat[i] = len(all_names[i])\n",
    "\n",
    "# List indices for atom of the same species for each configuration\n",
    "atom_indexes = [[[] for j in range(nsmax)] for i in range(npoints)]\n",
    "for i in range(npoints):\n",
    "    for ii in range(nat[i]):\n",
    "        for j in all_species:\n",
    "            if all_names[i][ii] == atom_symbols[j]:\n",
    "                atom_indexes[i][j].append(ii)\n",
    "\n",
    "if len(cen) == 0 :\n",
    "    centers = all_species\n",
    "else:\n",
    "    centers = [atom_valence[i] for i in cen]\n",
    "    \n",
    "end = time.time()\n",
    "print(\"total =\",end-start)"
   ]
  },
  {
   "cell_type": "markdown",
   "metadata": {},
   "source": [
    "# Do neighbour list"
   ]
  },
  {
   "cell_type": "code",
   "execution_count": 125,
   "metadata": {},
   "outputs": [
    {
     "name": "stdout",
     "output_type": "stream",
     "text": [
      "total = 0.002324342727661133\n"
     ]
    }
   ],
   "source": [
    "start = time.time()\n",
    "\n",
    "alpha = 1.0/(2*sg**2)\n",
    "length = np.zeros((npoints,natmax,nspecies,nnmax), dtype=float )\n",
    "efact = np.zeros((npoints,natmax,nspecies,nnmax), dtype=float )\n",
    "harmonic = np.zeros((lmax+1,2*lmax+1,npoints,natmax,nspecies,nnmax), dtype=complex )\n",
    "nneigh = np.zeros((npoints,natmax,nspecies), dtype=int )\n",
    "nat    = np.zeros( npoints, dtype=int )\n",
    "\n",
    "if periodic == False:\n",
    "    \n",
    "    # Loop over configurations\n",
    "    for i in range(npoints):\n",
    "        iat = 0\n",
    "        # Loop over species to center on\n",
    "        for k in centers:\n",
    "            nat[i] += len(atom_indexes[i][k])\n",
    "            # Loop over centers of that species\n",
    "            for l in atom_indexes[i][k]:\n",
    "                # Loop over all the spcecies to use as neighbours \n",
    "                ispe = 0\n",
    "                for ix in all_species:\n",
    "                    n=0\n",
    "                    # Loop over neighbours of that species\n",
    "                    for m in atom_indexes[i][ix]:\n",
    "                        rrm = coords[i][m] \n",
    "                        rr  = rrm - coords[i][l]\n",
    "                        # Is it a neighbour within the spherical cutoff ?\n",
    "                        if np.dot(rr,rr) <= rc**2: \n",
    "                            # Central atom?\n",
    "                            if m == l:\n",
    "                                length[i,iat,ispe,n]  = 0.0\n",
    "                                efact[i,iat,ispe,n]   = cw\n",
    "                                harmonic[0,0,i,iat,ispe,n] = special.sph_harm(0,0,0,0)\n",
    "                                nneigh[i,iat,ispe] += 1\n",
    "                                n +=1\n",
    "                            else:\n",
    "                                length[i,iat,ispe,n]  = np.linalg.norm(rr)\n",
    "                                theta   = np.arccos(rr[2]/length[i,iat,ispe,n])\n",
    "                                phi     = np.arctan2(rr[1],rr[0])\n",
    "                                efact[i,iat,ispe,n]   = np.exp(-alpha*length[i,iat,ispe,n]**2)\n",
    "                                for lval in range(lmax+1): \n",
    "                                    mrange = np.arange(-lval,lval+1)\n",
    "                                    harm = np.conj(special.sph_harm(mrange,lval,phi,theta))\n",
    "                                    for im in range(2*lval+1):\n",
    "                                        harmonic[lval,im,i,iat,ispe,n] = harm[im]\n",
    "                                nneigh[i,iat,ispe] += 1\n",
    "                                n+=1\n",
    "                    ispe += 1\n",
    "                iat +=1\n",
    "                \n",
    "else:\n",
    "        \n",
    "    # Loop over configurations\n",
    "    for i in range(npoints):\n",
    "        # Get unit cell\n",
    "        cell = xyzfile[i].get_cell()\n",
    "        iat = 0\n",
    "        # Loop over species to center on\n",
    "        for k in centers:\n",
    "            nat[i] += len(atom_indexes[i][k])\n",
    "            # Loop over centers of that species\n",
    "            for l in atom_indexes[i][k]:\n",
    "                # Loop over all the spcecies to use as neighbours \n",
    "                ispe = 0\n",
    "                for ix in all_species:\n",
    "                    n=0\n",
    "                    # Loop over neighbours of that species\n",
    "                    for m in atom_indexes[i][ix]:\n",
    "                        rr  = coords[i][m] - coords[i][l]\n",
    "                        # Apply minimum image convention assuming orthorombic cell and rcut < box/2\n",
    "                        rr[0] -= cell[0,0] * int(round(rr[0] / cell[0,0]))\n",
    "                        rr[1] -= cell[1,1] * int(round(rr[1] / cell[1,1]))\n",
    "                        rr[2] -= cell[2,2] * int(round(rr[2] / cell[2,2]))\n",
    "                        if np.dot(rr,rr) <= rc**2: \n",
    "                            # Central atom?\n",
    "                            if m == l:\n",
    "                                length[i,iat,ispe,n]  = 0.0\n",
    "                                efact[i,iat,ispe,n]   = cw\n",
    "                                harmonic[0,0,i,iat,ispe,n] = special.sph_harm(0,0,0,0)\n",
    "                                nneigh[i,iat,ispe] += 1\n",
    "                                n +=1\n",
    "                            else:\n",
    "                                length[i,iat,ispe,n]  = np.linalg.norm(rr)\n",
    "                                theta   = np.arccos(rr[2]/length[i,iat,ispe,n])\n",
    "                                phi     = np.arctan2(rr[1],rr[0])\n",
    "                                efact[i,iat,ispe,n]   = np.exp(-alpha*length[i,iat,ispe,n]**2)\n",
    "                                for lval in range(lmax+1): \n",
    "                                    mrange = np.arange(-lval,lval+1)\n",
    "                                    harm = np.conj(special.sph_harm(mrange,lval,phi,theta))\n",
    "                                    for im in range(2*lval+1):\n",
    "                                        harmonic[lval,im,i,iat,ispe,n] = harm[im]\n",
    "                                nneigh[i,iat,ispe] += 1\n",
    "                                n+=1\n",
    "                    ispe += 1\n",
    "                iat +=1\n",
    "\n",
    "end = time.time()\n",
    "print(\"total =\",end-start)"
   ]
  },
  {
   "cell_type": "markdown",
   "metadata": {},
   "source": [
    "# Compute Lowdin orthogonalization matrix"
   ]
  },
  {
   "cell_type": "code",
   "execution_count": 132,
   "metadata": {
    "collapsed": true
   },
   "outputs": [],
   "source": [
    "sigma = np.zeros(nmax,float)\n",
    "dsigma = 0.12*rc/float(nmax)\n",
    "sigma[0] = 0.1*rc/float(nmax)\n",
    "for i in range(1,nmax):\n",
    "    sigma[i] = sigma[i-1] + dsigma\n",
    "\n",
    "overlap = np.zeros((nmax,nmax),float)\n",
    "for n1 in range(nmax):\n",
    "    for n2 in range(nmax):\n",
    "        overlap[n1,n2] = (0.5/(sigma[n1])**2 + 0.5/(sigma[n2])**2)**(-0.5*(3.0 +n1 +n2)) \\\n",
    "                         /(sigma[n1]**n1 * sigma[n2]**n2)*\\\n",
    "                          special.gamma(0.5*(3.0 + n1 + n2))/ (  \\\n",
    "                (sigma[n1]*sigma[n2])**1.5 * np.sqrt(special.gamma(1.5+n1)*special.gamma(1.5+n2)) )    \n",
    "\n",
    "eigenvalues, unitary = np.linalg.eig(overlap)\n",
    "sqrteigen = np.sqrt(eigenvalues) \n",
    "diagoverlap = np.diag(sqrteigen)\n",
    "newoverlap = np.dot(np.conj(unitary),np.dot(diagoverlap,unitary.T))\n",
    "orthomatrix = np.linalg.inv(newoverlap)"
   ]
  },
  {
   "cell_type": "markdown",
   "metadata": {},
   "source": [
    "# Plot radial functions"
   ]
  },
  {
   "cell_type": "code",
   "execution_count": 133,
   "metadata": {},
   "outputs": [
    {
     "data": {
      "image/png": "[encoded data removed]",
      "text/plain": [
       "<Figure size 432x288 with 1 Axes>"
      ]
     },
     "metadata": {},
     "output_type": "display_data"
    }
   ],
   "source": [
    "def gauss(rval,sigma,nval):\n",
    "    \"\"\"Evaluate normalized Gaussian function\"\"\"\n",
    "    f = np.sqrt(2.0/(special.gamma(1.5+nval)*sigma**(3.0+2.0*nval)))*rval**nval*np.exp(-(rval)**2/(2*sigma**2))\n",
    "    return f\n",
    "\n",
    "radial = np.zeros((nmax,ngrid),dtype=float)\n",
    "rvec = np.zeros(ngrid,float)\n",
    "for n in range(nmax):        \n",
    "    for ir in range(ngrid):\n",
    "        r = ir*dr\n",
    "        rvec[ir] = r\n",
    "        radial[n][ir] = gauss(r,sigma[n],n)\n",
    "            \n",
    "newradial = np.dot(orthomatrix,radial) \n",
    "\n",
    "rradial = np.zeros((nmax,ngrid),dtype=float)\n",
    "for ir in range(ngrid):\n",
    "    r = ir*dr\n",
    "    for n in range(nmax):\n",
    "        rradial[n,ir] = newradial[n,ir] * r \n",
    "        \n",
    "for n in range(nmax):\n",
    "    plt.plot(rvec,rradial[n])\n",
    "\n",
    "matplotlib.rcParams.update({'font.size': 22})\n",
    "pltrc('xtick', labelsize=15) \n",
    "pltrc('ytick', labelsize=15) \n",
    "plt.xlabel(\"r [angs]\")\n",
    "plt.ylabel(\"r R$_n$(r)\")\n",
    "plt.show()"
   ]
  },
  {
   "cell_type": "markdown",
   "metadata": {},
   "source": [
    "# Check ortho-normality: $\\int_0^{r_\\text{cut}} dr\\ r^2\\ R_n(r)\\ R_{n'}(r) = \\delta_{nn'}$"
   ]
  },
  {
   "cell_type": "code",
   "execution_count": 138,
   "metadata": {},
   "outputs": [
    {
     "name": "stdout",
     "output_type": "stream",
     "text": [
      "Overlap primitive = 1.0000000000000007\n",
      "Overlap orthogonal = 5.292516902805066e-06\n"
     ]
    }
   ],
   "source": [
    "over = 0.0\n",
    "for ir in range(ngrid):\n",
    "    r = ir*dr\n",
    "    over += r*r*radial[2][ir]*radial[2][ir]\n",
    "over *= dr\n",
    "print(\"Overlap primitive = \"+str(over)) \n",
    "\n",
    "over = 0.0\n",
    "for ir in range(ngrid):\n",
    "    r = ir*dr\n",
    "    over += r*r*newradial[1][ir]*newradial[0][ir]\n",
    "over *= dr\n",
    "print(\"Overlap orthogonal = \"+str(over)) "
   ]
  },
  {
   "cell_type": "markdown",
   "metadata": {},
   "source": [
    "# Compute analytic integrals of primitive radial functions\n",
    "\n",
    "# $c_{nl}(\\mathcal X_c,i) = \\exp\\left\\{-\\frac{r_i^2}{2\\sigma^2}\\right\\}\\times \\int_0^{r_\\text{cut}} dr\\ r^2\\ g_n(r)\\ \\exp\\left\\{-\\frac{r^2}{2\\sigma^2}\\right\\}\\times \\iota_l\\left(\\frac{rr_i}{\\sigma^2}\\right)$"
   ]
  },
  {
   "cell_type": "code",
   "execution_count": 139,
   "metadata": {},
   "outputs": [
    {
     "name": "stdout",
     "output_type": "stream",
     "text": [
      "0.009078025817871094\n"
     ]
    }
   ],
   "source": [
    "start = time.time()\n",
    "sg2 = sg**2\n",
    "radint = np.zeros((nmax,lmax+1,npoints,natmax,nspecies,nnmax),float)\n",
    "for n in range(nmax):        \n",
    "    normfact = np.sqrt(2.0/(special.gamma(1.5+n)*sigma[n]**(3.0+2.0*n)))\n",
    "    sigmafact = (sg2**2+sg2*sigma[n]**2)/sigma[n]**2\n",
    "    for l in range(lmax+1):\n",
    "        radint[n,l,:,:,:,:] = efact[:,:,:,:] \\\n",
    "                            * 2.0**(-0.5*(1.0+l-n)) \\\n",
    "                            * (1.0/sg2 + 1.0/sigma[n]**2)**(-0.5*(3.0+l+n)) \\\n",
    "                            * special.gamma(0.5*(3.0+l+n))/special.gamma(1.5+l) \\\n",
    "                            * (length[:,:,:,:]/sg2)**l \\\n",
    "                            * special.hyp1f1(0.5*(3.0+l+n), 1.5+l, 0.5*length[:,:,:,:]**2/sigmafact)   \n",
    "    radint[n] *= normfact\n",
    "radint *= np.sqrt(np.pi)\n",
    "end = time.time()\n",
    "print(end-start)"
   ]
  },
  {
   "cell_type": "markdown",
   "metadata": {},
   "source": [
    "# Orthogonalize integrated radial functions $c'_{nl}(\\mathcal X_c,i) = \\sum_{n'}S_{nn'}^{-1/2}c_{n'l}(\\mathcal X_c,i)$"
   ]
  },
  {
   "cell_type": "code",
   "execution_count": 140,
   "metadata": {},
   "outputs": [
    {
     "name": "stdout",
     "output_type": "stream",
     "text": [
      "0.001657247543334961\n"
     ]
    }
   ],
   "source": [
    "start = time.time()\n",
    "orthoradint = np.einsum(\"nb,bliash->lniash\",orthomatrix,radint)\n",
    "end = time.time()\n",
    "print(end-start)"
   ]
  },
  {
   "cell_type": "markdown",
   "metadata": {},
   "source": [
    "# Compute expansion coefficients\n",
    "\n",
    "# $\\omega^\\alpha_{nlm}(\\mathcal X_c) = \\sum_i c'_{nl}(\\mathcal X_c,i)\\ Y^{\\star}_{lm}(\\mathcal X_c,i)$"
   ]
  },
  {
   "cell_type": "code",
   "execution_count": 141,
   "metadata": {},
   "outputs": [
    {
     "name": "stdout",
     "output_type": "stream",
     "text": [
      "0.004453182220458984\n"
     ]
    }
   ],
   "source": [
    "start = time.time()\n",
    "omega = np.einsum('lniash,lmiash->iaslmn',orthoradint,harmonic)\n",
    "end = time.time()\n",
    "print(end-start)"
   ]
  },
  {
   "cell_type": "markdown",
   "metadata": {},
   "source": [
    "# Compute the $\\lambda$-SOAP power spectrum \n",
    "\n",
    "# $P^{\\lambda\\mu}_{\\alpha,\\beta,n,n',l,l'}(\\mathcal X_c) = \\sum_m \\omega^{\\alpha}_{nlm}(\\mathcal X_c)\\ \\omega^{\\beta\\star}_{n'l'(m-\\mu)}(\\mathcal X_c)\\times (-1)^m\n",
    "\\ 3J(\\lambda,l',l;\\mu,m-\\mu,-m)$\n",
    "\n"
   ]
  },
  {
   "cell_type": "code",
   "execution_count": 142,
   "metadata": {},
   "outputs": [
    {
     "name": "stdout",
     "output_type": "stream",
     "text": [
      "0.006984233856201172\n"
     ]
    }
   ],
   "source": [
    "start = time.time()\n",
    "\n",
    "if lam==0:\n",
    "                \n",
    "    # PRECOMPUTE OMEGA CONJUGATE\n",
    "    omegatrue = np.zeros((npoints,natmax,nspecies,nmax,lmax+1,2*lmax+1),complex)\n",
    "    omegaconj = np.zeros((npoints,natmax,nspecies,nmax,lmax+1,2*lmax+1),complex)\n",
    "    for l in range(lmax+1):\n",
    "        for m in range(2*l+1):\n",
    "            omegatrue[:,:,:,:,l,m] = omega[:,:,:,l,m,:]/np.sqrt(np.sqrt(2*l+1))\n",
    "            omegaconj[:,:,:,:,l,m] = np.conj(omega[:,:,:,l,m,:])/np.sqrt(np.sqrt(2*l+1))\n",
    "                     \n",
    "    # COMPUTE POWER SPECTRUM\n",
    "    power = np.einsum('iasblm,iadnlm->iasdbnl',omegatrue,omegaconj)\n",
    "    power = power.reshape(npoints,natmax,nspecies*nspecies*nmax**2*(lmax+1))\n",
    "\n",
    "    \n",
    "    #NORMALIZE POWER SPECTRUM\n",
    "    for i in range(npoints):\n",
    "        for iat in range(nat[i]):\n",
    "            inner = np.real(np.dot(power[i,iat],np.conj(power[i,iat])))\n",
    "            power[i,iat] /= np.sqrt(inner)   \n",
    "                \n",
    "    power = power.reshape(npoints*natmax,nspecies*nspecies*nmax**2*(lmax+1))\n",
    "    \n",
    "else:\n",
    "    \n",
    "    # PRECOMPUTE WIGNER-3J SYMBOLS\n",
    "    w3j = np.zeros((lmax+1,lmax+1,2*lmax+1,2*lam+1),float)\n",
    "    for l1 in range(lmax+1):\n",
    "        for l2 in range(lmax+1):\n",
    "            for m in range(2*l1+1):\n",
    "                for mu in range(2*lam+1):\n",
    "                    w3j[l1,l2,m,mu] = wigner_3j(lam,l2,l1,mu-lam,m-l1-mu+lam,-m+l1)* (-1.0)**(m-l1)\n",
    "                    \n",
    "    # PRECOMPUTE OMEGA CONJUGATE\n",
    "    omegaconj = np.zeros((npoints,natmax,nspecies,nmax,lmax+1,2*lmax+1,2*lam+1),complex)\n",
    "    for l in range(lmax+1):\n",
    "        for m in range(2*l+1):\n",
    "            for mu in range(2*lam+1):\n",
    "                omegaconj[:,:,:,:,l,m,mu] = np.conj(omega[:,:,:,l,m-mu,:])\n",
    "                           \n",
    "    # COMPUTE POWER SPECTRUM\n",
    "    power = np.einsum('iaslvn,iadmkvx,lkvx->iaxsdnmlk',omega,omegaconj,w3j)\n",
    "    power = power.reshape(npoints,natmax,2*lam+1,nspecies*nspecies*nmax**2*(lmax+1)**2) \n",
    "    \n",
    "    #NORMALIZE POWER SPECTRUM\n",
    "    for i in range(npoints):\n",
    "        for iat in range(nat[i]):\n",
    "            inner = 0.0\n",
    "            for mu in range(2*lam+1):\n",
    "                inner += np.real(np.dot(power[i,iat,mu],np.conj(power[i,iat,mu])))\n",
    "            power[i,iat] /= np.sqrt(inner)   \n",
    "                \n",
    "    power = power.reshape(npoints*natmax*(2*lam+1),nspecies*nspecies*nmax**2*(lmax+1)**2)\n",
    "\n",
    "end = time.time()\n",
    "print(end-start)"
   ]
  },
  {
   "cell_type": "markdown",
   "metadata": {},
   "source": [
    "# Compute kernel of local environments\n",
    "\n",
    "# $k^{\\lambda}_{\\mu\\nu}(\\mathcal X_c,\\mathcal X'_{c'}) = \\sum_{\\alpha\\beta n n' l l'} P^{\\lambda\\mu}_{\\alpha,\\beta,n,n',l,l'}(\\mathcal X_c)\\ P^{\\lambda\\nu\\star}_{\\alpha,\\beta,n,n',l,l'}(\\mathcal X'_{c'})$"
   ]
  },
  {
   "cell_type": "code",
   "execution_count": 143,
   "metadata": {},
   "outputs": [
    {
     "name": "stdout",
     "output_type": "stream",
     "text": [
      "0.0022192001342773438\n",
      "[1.         0.99872577 0.99872577 1.        ]\n"
     ]
    }
   ],
   "source": [
    "start = time.time()\n",
    "kernel = np.dot(power[:],np.conj(power[:].T))\n",
    "end = time.time()\n",
    "print(end-start)\n",
    "if lam==0:\n",
    "    print(np.real(kernel[kernel!=0]))\n",
    "else:\n",
    "    print(kernel[kernel!=0])"
   ]
  },
  {
   "cell_type": "code",
   "execution_count": null,
   "metadata": {
    "collapsed": true
   },
   "outputs": [],
   "source": [
    "[ 1.          0.98118783  0.98537256 ...,  0.95434726  0.98941646  1.        ]"
   ]
  },
  {
   "cell_type": "markdown",
   "metadata": {},
   "source": [
    "# Expected kernel for $n \\to \\infty$ for the last two structures:\n",
    "\n",
    "1.0 \n",
    "\n",
    "0.998725770104\n",
    "\n",
    "0.998725770104  \n",
    "\n",
    "1.0"
   ]
  }
 ],
 "metadata": {
  "kernelspec": {
   "display_name": "Python 2",
   "language": "python",
   "name": "python2"
  },
  "language_info": {
   "codemirror_mode": {
    "name": "ipython",
    "version": 2
   },
   "file_extension": ".py",
   "mimetype": "text/x-python",
   "name": "python",
   "nbconvert_exporter": "python",
   "pygments_lexer": "ipython2",
   "version": "2.7.12"
  }
 },
 "nbformat": 4,
 "nbformat_minor": 1
}
