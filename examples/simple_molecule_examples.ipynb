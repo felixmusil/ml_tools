{
 "cells": [
  {
   "cell_type": "code",
   "execution_count": null,
   "metadata": {},
   "outputs": [],
   "source": [
    "%env NUMBA_NUM_THREADS=2\n",
    "%env OMP_NUM_THREADS=2"
   ]
  },
  {
   "cell_type": "code",
   "execution_count": null,
   "metadata": {
    "scrolled": true
   },
   "outputs": [],
   "source": [
    "%matplotlib inline\n",
    "import matplotlib.pyplot as plt"
   ]
  },
  {
   "cell_type": "code",
   "execution_count": null,
   "metadata": {},
   "outputs": [],
   "source": [
    "import sys,os\n",
    "sys.path.insert(0,'../')"
   ]
  },
  {
   "cell_type": "code",
   "execution_count": null,
   "metadata": {},
   "outputs": [],
   "source": [
    "from ml_tools.descriptors import RawSoapInternal\n",
    "from ml_tools.models import FullCovarianceTrainer,SoRTrainer\n",
    "from ml_tools.utils import get_mae,get_rmse,get_sup,get_spearman,get_score,load_pck,dump_obj,load_obj\n",
    "from ml_tools.split import KFold,LCSplit,ShuffleSplit\n",
    "from ml_tools.model_selection import KRRFastCVScorer,CrossValidationScorer,GridSearch,LearningCurve\n",
    "from ml_tools.compressor import FPSFilter\n",
    "from ml_tools.kernels import make_kernel"
   ]
  },
  {
   "cell_type": "code",
   "execution_count": null,
   "metadata": {},
   "outputs": [],
   "source": [
    "import numpy as np\n",
    "from ase.io import read,write\n",
    "from ase.visualize import view"
   ]
  },
  {
   "cell_type": "code",
   "execution_count": null,
   "metadata": {},
   "outputs": [],
   "source": [
    "frames = read('/local/scratch/density_paper/xyz/dft-smiles_30000.xyz',index=':')\n",
    "pp = np.load('/local/scratch/density_paper/xyz/dft-smiles_eV_30000.dHf_peratom.npy')\n",
    "N = 1000\n",
    "np.random.seed(10)\n",
    "ids = np.arange(len(frames))\n",
    "np.random.shuffle(ids)\n",
    "subset = []\n",
    "target_property = []\n",
    "\n",
    "for it,ii in enumerate(ids):\n",
    "    if 9 in frames[ii].get_atomic_numbers():\n",
    "        continue\n",
    "    if it >= N: \n",
    "        break \n",
    "        \n",
    "    subset.append(frames[ii])\n",
    "    subset[-1].info['dft_formation_energy_per_atom_in_eV'] = pp[ii]\n",
    "    subset[-1].set_pbc(False)\n",
    "    subset[-1].set_cell(np.eye(3)*14)\n",
    "    pos = frames[ii].get_positions()\n",
    "    CM = np.mean(pos,axis=0)\n",
    "    subset[-1].set_positions(pos - CM + 7*np.ones(3))\n",
    "    target_property.append(pp[ii])\n",
    "    \n",
    "target_property = np.array(target_property)\n",
    "frames = subset"
   ]
  },
  {
   "cell_type": "code",
   "execution_count": null,
   "metadata": {},
   "outputs": [],
   "source": [
    "global_species = []\n",
    "for frame in frames:\n",
    "    global_species.extend(frame.get_atomic_numbers())\n",
    "global_species = np.unique(global_species)\n",
    "\n",
    "\n",
    "# set up the soap parameters\n",
    "soap_params = dict(rc=3.5, nmax=2, lmax=1, awidth=0.4,\n",
    "                   global_species=global_species,nocenters=[])\n",
    "\n",
    "representation = RawSoapInternal(**soap_params)\n",
    "\n",
    "# the reference energies are already formation energies per atom.\n",
    "self_contribution = {1:0.,6:0.,7:0.,8:0.,9:0.}"
   ]
  },
  {
   "cell_type": "code",
   "execution_count": null,
   "metadata": {
    "code_folding": [
     0,
     11
    ]
   },
   "outputs": [],
   "source": [
    "def split_dataset(frames, test_fraction, seed=10):\n",
    "    N = len(frames)\n",
    "    ids = np.arange(N)\n",
    "    np.random.seed(seed)\n",
    "    np.random.shuffle(ids)\n",
    "    Ntrain = int(N*test_fraction)\n",
    "    train = ids[:Ntrain]\n",
    "    test = ids[Ntrain:]\n",
    "    targets = extract_energy(frames)\n",
    "    return [frames[ii] for ii in train],targets[train],[frames[ii] for ii in test],targets[test]\n",
    "\n",
    "def extract_energy(frames):\n",
    "    prop = [[]]*len(frames)\n",
    "    for ii,cc in enumerate(frames):\n",
    "        prop[ii] = cc.info['dft_formation_energy_per_atom_in_eV']\n",
    "    y = np.array(prop)\n",
    "    return y"
   ]
  },
  {
   "cell_type": "markdown",
   "metadata": {
    "heading_collapsed": true
   },
   "source": [
    "# Build a kernel Matrix"
   ]
  },
  {
   "cell_type": "code",
   "execution_count": null,
   "metadata": {
    "hidden": true
   },
   "outputs": [],
   "source": [
    "frames_train, y_train, frames_test, y_test = split_dataset(frames,0.8)"
   ]
  },
  {
   "cell_type": "code",
   "execution_count": null,
   "metadata": {
    "hidden": true
   },
   "outputs": [],
   "source": [
    "# set up the kernel parameters\n",
    "kernel = make_kernel(name='power_sum',zeta=2)"
   ]
  },
  {
   "cell_type": "code",
   "execution_count": null,
   "metadata": {
    "hidden": true
   },
   "outputs": [],
   "source": [
    "# compute the soap vectors\n",
    "X_train = representation.transform(frames_train)\n",
    "\n",
    "# compute the soap vectors\n",
    "X_test = representation.transform(frames_test)"
   ]
  },
  {
   "cell_type": "code",
   "execution_count": null,
   "metadata": {
    "hidden": true
   },
   "outputs": [],
   "source": [
    "# compute the square kernel matrix\n",
    "Kmat = kernel.transform(X_train)"
   ]
  },
  {
   "cell_type": "code",
   "execution_count": null,
   "metadata": {
    "hidden": true
   },
   "outputs": [],
   "source": [
    "# compute a rectangular kernel matrix\n",
    "Kmat_rect = kernel.transform(X_test,X_train)"
   ]
  },
  {
   "cell_type": "markdown",
   "metadata": {
    "heading_collapsed": true
   },
   "source": [
    "# Train a regression model"
   ]
  },
  {
   "cell_type": "code",
   "execution_count": null,
   "metadata": {
    "hidden": true
   },
   "outputs": [],
   "source": [
    "frames_train, y_train, frames_test, y_test = split_dataset(frames,0.8)\n",
    "\n",
    "trainer = FullCovarianceTrainer(zeta=2, model_name='krr', kernel_name='power_sum',\n",
    "                                self_contribution=self_contribution,feature_transformations=representation)"
   ]
  },
  {
   "cell_type": "code",
   "execution_count": null,
   "metadata": {
    "hidden": true
   },
   "outputs": [],
   "source": [
    "X_train = representation.transform(frames_train)"
   ]
  },
  {
   "cell_type": "code",
   "execution_count": null,
   "metadata": {
    "hidden": true
   },
   "outputs": [],
   "source": [
    "y_test = extract_energy(frames_test)\n",
    "X_test = representation.transform(frames_test)"
   ]
  },
  {
   "cell_type": "code",
   "execution_count": null,
   "metadata": {
    "hidden": true
   },
   "outputs": [],
   "source": [
    "trainer.precompute(y_train, X_train)"
   ]
  },
  {
   "cell_type": "code",
   "execution_count": null,
   "metadata": {
    "hidden": true
   },
   "outputs": [],
   "source": [
    "model = trainer.fit(lambdas=[5e-3])"
   ]
  },
  {
   "cell_type": "code",
   "execution_count": null,
   "metadata": {
    "hidden": true,
    "scrolled": true
   },
   "outputs": [],
   "source": [
    "y_pred = model.predict(X_test)\n",
    "get_score(y_pred,y_test)"
   ]
  },
  {
   "cell_type": "code",
   "execution_count": null,
   "metadata": {
    "hidden": true
   },
   "outputs": [],
   "source": [
    "plt.plot(y_pred,y_test,'o')"
   ]
  },
  {
   "cell_type": "markdown",
   "metadata": {
    "heading_collapsed": true
   },
   "source": [
    "# FPS selection of the samples"
   ]
  },
  {
   "cell_type": "code",
   "execution_count": null,
   "metadata": {
    "hidden": true
   },
   "outputs": [],
   "source": [
    "# set up the kernel parameters\n",
    "kernel = make_kernel(name='power_sum',zeta = 2)"
   ]
  },
  {
   "cell_type": "code",
   "execution_count": null,
   "metadata": {
    "hidden": true
   },
   "outputs": [],
   "source": [
    "# compute the soap vectors\n",
    "rawsoaps = representation.transform(frames)"
   ]
  },
  {
   "cell_type": "code",
   "execution_count": null,
   "metadata": {
    "hidden": true,
    "scrolled": true
   },
   "outputs": [],
   "source": [
    "# run the fps selection on the set and plot the minmax distance\n",
    "Nselect = 250\n",
    "compressor = FPSFilter(Nselect,kernel,act_on='sample',precompute_kernel=True,disable_pbar=True)\n",
    "compressor.fit(rawsoaps,dry_run=True)\n",
    "compressor.plot()"
   ]
  },
  {
   "cell_type": "code",
   "execution_count": null,
   "metadata": {
    "hidden": true
   },
   "outputs": [],
   "source": [
    "# select the appropriate number of samples to select\n",
    "compressor.Nselect = 250\n",
    "# and compress\n",
    "rawsoaps_compressed = compressor.transform(rawsoaps)"
   ]
  },
  {
   "cell_type": "markdown",
   "metadata": {},
   "source": [
    "# get a cross validation score"
   ]
  },
  {
   "cell_type": "code",
   "execution_count": null,
   "metadata": {},
   "outputs": [],
   "source": [
    "zeta = 2\n",
    "sigma = 5e-4\n",
    "\n",
    "representation = RawSoapInternal(**soap_params)\n",
    "trainer = FullCovarianceTrainer(zeta=2, model_name='krr', kernel_name='power_sum',\n",
    "                                self_contribution=self_contribution,feature_transformations=representation)\n",
    "cv = KFold(n_splits=5,random_state=10,shuffle=True)\n",
    "scorer = KRRFastCVScorer([sigma],trainer,cv)"
   ]
  },
  {
   "cell_type": "code",
   "execution_count": null,
   "metadata": {},
   "outputs": [],
   "source": [
    "# compute the soap vectors\n",
    "rawsoaps = representation.transform(frames)\n",
    "y = extract_energy(frames)"
   ]
  },
  {
   "cell_type": "code",
   "execution_count": null,
   "metadata": {},
   "outputs": [],
   "source": [
    "# fit the model\n",
    "scorer.fit(rawsoaps,y)\n",
    "\n",
    "print(scorer.get_summary(txt=True))"
   ]
  },
  {
   "cell_type": "markdown",
   "metadata": {},
   "source": [
    "# LC"
   ]
  },
  {
   "cell_type": "code",
   "execution_count": null,
   "metadata": {},
   "outputs": [],
   "source": [
    "zeta = 2\n",
    "sigma = 5e-4\n",
    "\n",
    "trainer = FullCovarianceTrainer(zeta=2, model_name='krr', kernel_name='power_sum', \n",
    "                                self_contribution=self_contribution,feature_transformations=representation)"
   ]
  },
  {
   "cell_type": "code",
   "execution_count": null,
   "metadata": {},
   "outputs": [],
   "source": [
    "# compute the soap vectors\n",
    "rawsoaps = representation.transform(frames)\n",
    "y = extract_energy(frames)"
   ]
  },
  {
   "cell_type": "code",
   "execution_count": null,
   "metadata": {},
   "outputs": [],
   "source": [
    "n_repeats=[10,5,5,3]\n",
    "train_sizes=[50,100,200,300]\n",
    "test_size=100\n",
    "seed=10\n",
    "model_params = {'lambdas':[sigma]}\n",
    "lc = LearningCurve(trainer,model_params,n_repeats,train_sizes,test_size,seed)\n",
    "lc.fit(rawsoaps,y)"
   ]
  },
  {
   "cell_type": "code",
   "execution_count": null,
   "metadata": {},
   "outputs": [],
   "source": [
    "ax = lc.plot('RMSE')\n",
    "ax.set_ylabel('RMSE [eV/atom]')\n",
    "ax.set_xlabel('Number of Training Molecule')\n",
    "ax.set_title('Learning Curve')\n"
   ]
  },
  {
   "cell_type": "code",
   "execution_count": null,
   "metadata": {},
   "outputs": [],
   "source": [
    "\n"
   ]
  }
 ],
 "metadata": {
  "kernelspec": {
   "display_name": "Python 3.7 GAP",
   "language": "python",
   "name": "gap37"
  },
  "language_info": {
   "codemirror_mode": {
    "name": "ipython",
    "version": 3
   },
   "file_extension": ".py",
   "mimetype": "text/x-python",
   "name": "python",
   "nbconvert_exporter": "python",
   "pygments_lexer": "ipython3",
   "version": "3.7.3"
  },
  "toc": {
   "base_numbering": 1,
   "nav_menu": {},
   "number_sections": true,
   "sideBar": true,
   "skip_h1_title": false,
   "title_cell": "Table of Contents",
   "title_sidebar": "Contents",
   "toc_cell": false,
   "toc_position": {},
   "toc_section_display": "block",
   "toc_window_display": false
  }
 },
 "nbformat": 4,
 "nbformat_minor": 2
}
