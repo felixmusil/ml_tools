{
 "cells": [
  {
   "cell_type": "code",
   "execution_count": null,
   "metadata": {},
   "outputs": [],
   "source": [
    "%matplotlib inline\n",
    "import matplotlib.pyplot as plt"
   ]
  },
  {
   "cell_type": "code",
   "execution_count": null,
   "metadata": {},
   "outputs": [],
   "source": [
    "import sys,os\n",
    "sys.path.insert(0,'../')"
   ]
  },
  {
   "cell_type": "code",
   "execution_count": null,
   "metadata": {},
   "outputs": [],
   "source": [
    "from ml_tools.descriptors import RawSoapInternal\n",
    "from ml_tools.models.KRR import KRR,TrainerCholesky,KRRFastCV\n",
    "from ml_tools.kernels import KernelPower,KernelSum\n",
    "from ml_tools.utils import get_mae,get_rmse,get_sup,get_spearman,get_score,load_pck,tqdm_cs\n",
    "from ml_tools.split import KFold,LCSplit,ShuffleSplit\n",
    "from ml_tools.compressor import FPSFilter"
   ]
  },
  {
   "cell_type": "code",
   "execution_count": null,
   "metadata": {},
   "outputs": [],
   "source": [
    "import numpy as np\n",
    "from ase.io import read,write\n",
    "from ase.visualize import view"
   ]
  },
  {
   "cell_type": "markdown",
   "metadata": {
    "heading_collapsed": true
   },
   "source": [
    "# Build a kernel Matrix"
   ]
  },
  {
   "cell_type": "code",
   "execution_count": null,
   "metadata": {
    "hidden": true
   },
   "outputs": [],
   "source": [
    "# load the structures\n",
    "frames = read('data/dft-smiles_500.xyz',':')\n",
    "global_species = []\n",
    "for frame in frames:\n",
    "    global_species.extend(frame.get_atomic_numbers())\n",
    "global_species = np.unique(global_species)\n",
    "\n",
    "# split the structures in 2 sets\n",
    "frames_train = frames[:300]\n",
    "frames_test = frames[300:]"
   ]
  },
  {
   "cell_type": "code",
   "execution_count": null,
   "metadata": {
    "hidden": true
   },
   "outputs": [],
   "source": [
    "# set up the soap parameters\n",
    "soap_params = dict(rc=3.5, nmax=6, lmax=6, awidth=0.4,\n",
    "                   global_species=global_species,nocenters=[])\n",
    "\n",
    "representation = RawSoapInternal(**soap_params)\n",
    "\n",
    "# set up the kernel parameters\n",
    "kernel = KernelSum(KernelPower(zeta = 2),chunk_shape=[100,100])\n"
   ]
  },
  {
   "cell_type": "code",
   "execution_count": null,
   "metadata": {
    "hidden": true
   },
   "outputs": [],
   "source": [
    "# compute the soap vectors\n",
    "rawsoaps = representation.transform(frames_train)\n",
    "X_train = dict(feature_matrix=rawsoaps,strides=representation.strides)\n",
    "\n",
    "# compute the soap vectors\n",
    "rawsoaps = representation.transform(frames_test)\n",
    "X_test = dict(feature_matrix=rawsoaps,strides=representation.strides)"
   ]
  },
  {
   "cell_type": "code",
   "execution_count": null,
   "metadata": {
    "hidden": true
   },
   "outputs": [],
   "source": [
    "# compute the square kernel matrix\n",
    "Kmat = kernel.transform(X_train)"
   ]
  },
  {
   "cell_type": "code",
   "execution_count": null,
   "metadata": {
    "hidden": true
   },
   "outputs": [],
   "source": [
    "# compute a rectangular kernel matrix\n",
    "Kmat_rect = kernel.transform(X_test,X_train)"
   ]
  },
  {
   "cell_type": "markdown",
   "metadata": {},
   "source": [
    "# FPS selection of the samples"
   ]
  },
  {
   "cell_type": "code",
   "execution_count": null,
   "metadata": {},
   "outputs": [],
   "source": [
    "# load the structures\n",
    "frames = read('data/dft-smiles_500.xyz',':300')\n",
    "global_species = []\n",
    "for frame in frames:\n",
    "    global_species.extend(frame.get_atomic_numbers())\n",
    "global_species = np.unique(global_species)"
   ]
  },
  {
   "cell_type": "code",
   "execution_count": null,
   "metadata": {},
   "outputs": [],
   "source": [
    "# set up the soap parameters\n",
    "soap_params = dict(rc=3.5, nmax=6, lmax=6, awidth=0.4,\n",
    "                   global_species=global_species,nocenters=[])\n",
    "\n",
    "representation = RawSoapInternal(**soap_params)\n",
    "\n",
    "# set up the kernel parameters\n",
    "kernel = KernelSum(KernelPower(zeta = 2),chunk_shape=[100,100])\n"
   ]
  },
  {
   "cell_type": "code",
   "execution_count": null,
   "metadata": {},
   "outputs": [],
   "source": [
    "# compute the soap vectors\n",
    "rawsoaps = representation.transform(frames)\n",
    "X = dict(feature_matrix=rawsoaps,strides=representation.strides)"
   ]
  },
  {
   "cell_type": "code",
   "execution_count": null,
   "metadata": {
    "scrolled": true
   },
   "outputs": [],
   "source": [
    "# run the fps selection on the set and plot the minmax distance\n",
    "Nselect = 250\n",
    "compressor = FPSFilter(Nselect,kernel,act_on='sample',precompute_kernel=True,disable_pbar=True)\n",
    "compressor.fit(X,dry_run=True)\n",
    "compressor.plot()"
   ]
  },
  {
   "cell_type": "code",
   "execution_count": null,
   "metadata": {},
   "outputs": [],
   "source": [
    "# select the appropriate number of samples to select\n",
    "compressor.Nselect = 250\n",
    "# and compress\n",
    "X_compressed = compressor.transform(X)"
   ]
  },
  {
   "cell_type": "code",
   "execution_count": null,
   "metadata": {},
   "outputs": [],
   "source": [
    "compressor.selected_ids[:compressor.Nselect]"
   ]
  },
  {
   "cell_type": "code",
   "execution_count": null,
   "metadata": {},
   "outputs": [],
   "source": [
    "X['feature_matrix'].shape"
   ]
  },
  {
   "cell_type": "code",
   "execution_count": null,
   "metadata": {},
   "outputs": [],
   "source": [
    "X_compressed['feature_matrix'].shape"
   ]
  },
  {
   "cell_type": "code",
   "execution_count": null,
   "metadata": {},
   "outputs": [],
   "source": [
    "X_compressed['strides'].shape"
   ]
  },
  {
   "cell_type": "markdown",
   "metadata": {},
   "source": [
    "# FPS selection of the features"
   ]
  },
  {
   "cell_type": "code",
   "execution_count": null,
   "metadata": {},
   "outputs": [],
   "source": [
    "# load the structures\n",
    "frames = read('data/dft-smiles_500.xyz',':300')\n",
    "global_species = []\n",
    "for frame in frames:\n",
    "    global_species.extend(frame.get_atomic_numbers())\n",
    "global_species = np.unique(global_species)"
   ]
  },
  {
   "cell_type": "code",
   "execution_count": null,
   "metadata": {},
   "outputs": [],
   "source": [
    "# set up the soap parameters\n",
    "soap_params = dict(rc=3.5, nmax=6, lmax=6, awidth=0.4,\n",
    "                   global_species=global_species,nocenters=[])\n",
    "\n",
    "representation = RawSoapInternal(**soap_params)\n",
    "\n",
    "# set up the kernel parameters\n",
    "kernel = KernelPower(zeta = 2)\n"
   ]
  },
  {
   "cell_type": "code",
   "execution_count": null,
   "metadata": {},
   "outputs": [],
   "source": [
    "# compute the soap vectors\n",
    "X = representation.transform(frames)"
   ]
  },
  {
   "cell_type": "code",
   "execution_count": null,
   "metadata": {},
   "outputs": [],
   "source": [
    "# run the fps selection on the set and plot the minmax distance\n",
    "Nselect = 250\n",
    "compressor = FPSFilter(Nselect,kernel,act_on='feature',precompute_kernel=True,disable_pbar=True)\n",
    "compressor.fit(X,dry_run=True)\n",
    "compressor.plot()"
   ]
  },
  {
   "cell_type": "code",
   "execution_count": null,
   "metadata": {},
   "outputs": [],
   "source": [
    "# select the appropriate number of samples to select\n",
    "compressor.Nselect = 500\n",
    "# and compress\n",
    "X_compressed = compressor.transform(X)"
   ]
  },
  {
   "cell_type": "code",
   "execution_count": null,
   "metadata": {},
   "outputs": [],
   "source": [
    "compressor.selected_ids[:compressor.Nselect]"
   ]
  },
  {
   "cell_type": "markdown",
   "metadata": {
    "heading_collapsed": true
   },
   "source": [
    "# get a cross validation score"
   ]
  },
  {
   "cell_type": "code",
   "execution_count": null,
   "metadata": {
    "hidden": true
   },
   "outputs": [],
   "source": [
    "# load the structures\n",
    "frames = read('data/dft-smiles_500.xyz',':')\n",
    "global_species = []\n",
    "y = []\n",
    "for frame in frames:\n",
    "    global_species.extend(frame.get_atomic_numbers())\n",
    "    y.append(frame.info['dft_formation_energy_per_atom_in_eV'])\n",
    "y = np.array(y)\n",
    "global_species = np.unique(global_species)"
   ]
  },
  {
   "cell_type": "code",
   "execution_count": null,
   "metadata": {
    "hidden": true
   },
   "outputs": [],
   "source": [
    "# set up the soap parameters\n",
    "soap_params = dict(rc=3.5, nmax=6, lmax=6, awidth=0.4,\n",
    "                   global_species=global_species,nocenters=[])\n",
    "\n",
    "representation = RawSoapInternal(**soap_params)\n",
    "\n",
    "# set up the kernel parameters\n",
    "kernel = KernelSum(KernelPower(zeta = 2),chunk_shape=[100,100])\n",
    "\n",
    "# set the splitting rational\n",
    "cv = KFold(n_splits=6,random_state=10,shuffle=True)\n",
    "# set up the regression model\n",
    "jitter = 1e-8\n",
    "krr = KRRFastCV(jitter, 1.,cv)"
   ]
  },
  {
   "cell_type": "code",
   "execution_count": null,
   "metadata": {
    "hidden": true
   },
   "outputs": [],
   "source": [
    "# compute the soap vectors\n",
    "rawsoaps = representation.transform(frames)\n",
    "X = dict(feature_matrix=rawsoaps,strides=representation.strides)\n",
    "rawsoaps.shape"
   ]
  },
  {
   "cell_type": "code",
   "execution_count": null,
   "metadata": {
    "hidden": true
   },
   "outputs": [],
   "source": [
    "# compute the kernel matrix for the dataset\n",
    "Kmat = kernel.transform(X)\n",
    "# fit the model\n",
    "krr.fit(Kmat,y)\n",
    "# get the predictions for each folds\n",
    "y_pred = krr.predict()\n",
    "# compute the CV score for the dataset\n",
    "get_score(y_pred,y)"
   ]
  },
  {
   "cell_type": "markdown",
   "metadata": {
    "heading_collapsed": true
   },
   "source": [
    "# LC"
   ]
  },
  {
   "cell_type": "code",
   "execution_count": null,
   "metadata": {
    "hidden": true
   },
   "outputs": [],
   "source": [
    "# load the structures\n",
    "frames = read('data/dft-smiles_500.xyz',':')\n",
    "global_species = []\n",
    "y = []\n",
    "for frame in frames:\n",
    "    global_species.extend(frame.get_atomic_numbers())\n",
    "    y.append(frame.info['dft_formation_energy_per_atom_in_eV'])\n",
    "y = np.array(y)\n",
    "global_species = np.unique(global_species)"
   ]
  },
  {
   "cell_type": "code",
   "execution_count": null,
   "metadata": {
    "hidden": true
   },
   "outputs": [],
   "source": [
    "# set up the soap parameters\n",
    "soap_params = dict(rc=3.5, nmax=6, lmax=6, awidth=0.4,\n",
    "                   global_species=global_species,nocenters=[])\n",
    "\n",
    "representation = RawSoapInternal(**soap_params)\n",
    "\n",
    "# set up the kernel parameters\n",
    "kernel = KernelSum(KernelPower(zeta = 2),chunk_shape=[100,100])\n",
    "\n",
    "# set the splitting rational\n",
    "trainer = TrainerCholesky(memory_efficient=True)\n",
    "# set up the regression model\n",
    "jitter = 1e-8\n",
    "krr = KRR(jitter,1.,trainer)\n",
    "train_sizes=[20,50,100]\n",
    "lc = LCSplit(ShuffleSplit, n_repeats=[20,20,20],train_sizes=train_sizes,test_size=100, random_state=10)"
   ]
  },
  {
   "cell_type": "code",
   "execution_count": null,
   "metadata": {
    "hidden": true
   },
   "outputs": [],
   "source": [
    "rawsoaps = representation.transform(frames)\n",
    "X = dict(feature_matrix=rawsoaps,strides=representation.strides)\n",
    "K = kernel.transform(X)"
   ]
  },
  {
   "cell_type": "code",
   "execution_count": null,
   "metadata": {
    "hidden": true
   },
   "outputs": [],
   "source": [
    "scores = {size:[] for size in train_sizes}\n",
    "for train,test in tqdm_cs(lc.split(y),total=lc.n_splits):\n",
    "    Ntrain = len(train)\n",
    "    k_train = K[np.ix_(train,train)]\n",
    "    y_train = y[train]\n",
    "    k_test = K[np.ix_(test,train)]\n",
    "    krr.fit(k_train,y_train)\n",
    "    y_pred = krr.predict(k_test)\n",
    "    scores[Ntrain].append(get_score(y_pred,y[test]))"
   ]
  },
  {
   "cell_type": "code",
   "execution_count": null,
   "metadata": {
    "hidden": true
   },
   "outputs": [],
   "source": [
    "sc_name = 'RMSE'\n",
    "Ntrains = []\n",
    "avg_scores = []\n",
    "for Ntrain, score in scores.items():\n",
    "    avg = 0\n",
    "    for sc in score:\n",
    "        avg += sc[sc_name]\n",
    "    avg /= len(score)\n",
    "    avg_scores.append(avg)\n",
    "    Ntrains.append(Ntrain)"
   ]
  },
  {
   "cell_type": "code",
   "execution_count": null,
   "metadata": {
    "hidden": true
   },
   "outputs": [],
   "source": [
    "plt.plot(Ntrains,avg_scores,'--o')\n",
    "plt.xlabel('Number of training samples')\n",
    "plt.ylabel('Test {}'.format(sc_name))\n",
    "plt.xscale('log')\n",
    "plt.yscale('log')"
   ]
  },
  {
   "cell_type": "code",
   "execution_count": null,
   "metadata": {
    "hidden": true
   },
   "outputs": [],
   "source": []
  }
 ],
 "metadata": {
  "kernelspec": {
   "display_name": "Python 2.7 GAP",
   "language": "python",
   "name": "gap"
  },
  "language_info": {
   "codemirror_mode": {
    "name": "ipython",
    "version": 2
   },
   "file_extension": ".py",
   "mimetype": "text/x-python",
   "name": "python",
   "nbconvert_exporter": "python",
   "pygments_lexer": "ipython2",
   "version": "2.7.15"
  },
  "toc": {
   "base_numbering": 1,
   "nav_menu": {},
   "number_sections": true,
   "sideBar": true,
   "skip_h1_title": false,
   "title_cell": "Table of Contents",
   "title_sidebar": "Contents",
   "toc_cell": false,
   "toc_position": {},
   "toc_section_display": "block",
   "toc_window_display": false
  }
 },
 "nbformat": 4,
 "nbformat_minor": 2
}
