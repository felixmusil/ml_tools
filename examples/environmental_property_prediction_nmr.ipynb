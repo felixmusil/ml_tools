{
 "cells": [
  {
   "cell_type": "code",
   "execution_count": 1,
   "metadata": {},
   "outputs": [],
   "source": [
    "%matplotlib inline\n",
    "import matplotlib.pyplot as plt"
   ]
  },
  {
   "cell_type": "code",
   "execution_count": 2,
   "metadata": {},
   "outputs": [],
   "source": [
    "import numpy as np\n",
    "import ase\n",
    "from ase.io import read,write\n",
    "from ase.visualize import view\n",
    "from glob import glob\n",
    "from copy import copy\n",
    "from tqdm import tqdm_notebook\n",
    "import cPickle as pck"
   ]
  },
  {
   "cell_type": "code",
   "execution_count": 3,
   "metadata": {},
   "outputs": [],
   "source": [
    "import sys,os\n",
    "sys.path.insert(0,'../')"
   ]
  },
  {
   "cell_type": "code",
   "execution_count": 4,
   "metadata": {},
   "outputs": [],
   "source": [
    "from ml_tools.descriptors import RawSoapInternal\n",
    "from ml_tools.models import FullCovarianceTrainer,SoRTrainer\n",
    "from ml_tools.utils import get_mae,get_rmse,get_sup,get_spearman,get_score,load_pck\n",
    "from ml_tools.split import KFold,LCSplit,ShuffleSplit\n",
    "from ml_tools.model_selection import CrossValidationScorer\n",
    "from ml_tools.model_selection import GridSearch\n",
    "from ml_tools.compressor import FPSFilter"
   ]
  },
  {
   "cell_type": "code",
   "execution_count": 5,
   "metadata": {},
   "outputs": [],
   "source": [
    "# filename of the molecular crystal structures\n",
    "fn = './data/CSD500.xyz'\n",
    "# atomic type for which to predict chemical shieldings\n",
    "sp = 1\n",
    "# atomic types present in the structures\n",
    "global_species=[1, 6, 7, 8]\n",
    "nocenters = copy(global_species)\n",
    "nocenters.remove(sp)\n",
    "# parameters for the soap descriptor\n",
    "soap_params = dict(rc=4, nmax=8, lmax=6, awidth=0.4,\n",
    "                   global_species=global_species,\n",
    "                   nocenters=nocenters,\n",
    "                   disable_pbar=True)\n",
    "\n",
    "self_contribution = {1:0., 6:0., 7:0., 8:0.}"
   ]
  },
  {
   "cell_type": "markdown",
   "metadata": {},
   "source": [
    "## utils"
   ]
  },
  {
   "cell_type": "code",
   "execution_count": 6,
   "metadata": {
    "code_folding": [
     0,
     10
    ]
   },
   "outputs": [],
   "source": [
    "def get_sp_mapping(frames,sp):\n",
    "    ii = 0\n",
    "    fid2gids = {it:[] for it in range(len(frames))}\n",
    "    for iframe,cc in enumerate(frames):\n",
    "        for ss in cc.get_atomic_numbers():\n",
    "            if ss == sp:\n",
    "                fid2gids[iframe].append(ii)\n",
    "                ii += 1\n",
    "    return fid2gids\n",
    "\n",
    "def extract_chemical_shielding(frames,sp):\n",
    "    prop = []\n",
    "    for cc in frames:\n",
    "        numb = cc.get_atomic_numbers()\n",
    "        prop.extend(cc.get_array('CS')[numb==sp])\n",
    "    y = np.array(prop)\n",
    "    return y"
   ]
  },
  {
   "cell_type": "markdown",
   "metadata": {},
   "source": [
    "# train and predict"
   ]
  },
  {
   "cell_type": "code",
   "execution_count": 7,
   "metadata": {},
   "outputs": [],
   "source": [
    "frames_train = read(fn,index=':10')\n",
    "y_train = extract_chemical_shielding(frames_train,sp)"
   ]
  },
  {
   "cell_type": "code",
   "execution_count": 10,
   "metadata": {},
   "outputs": [
    {
     "name": "stderr",
     "output_type": "stream",
     "text": [
      "[autoreload of ml_tools.models.trainers failed: Traceback (most recent call last):\n",
      "  File \"/local/ssd/miniconda/envs/gap/lib/python2.7/site-packages/IPython/extensions/autoreload.py\", line 247, in check\n",
      "    superreload(m, reload, self.old_objects)\n",
      "ImportError: No module named abc\n",
      "]\n"
     ]
    }
   ],
   "source": [
    "dict.items?"
   ]
  },
  {
   "cell_type": "code",
   "execution_count": 9,
   "metadata": {},
   "outputs": [
    {
     "ename": "AttributeError",
     "evalue": "'NoneType' object has no attribute 'disable_pbar'",
     "output_type": "error",
     "traceback": [
      "\u001b[0;31m---------------------------------------------------------------------------\u001b[0m",
      "\u001b[0;31mAttributeError\u001b[0m                            Traceback (most recent call last)",
      "\u001b[0;32m<ipython-input-9-772cf6a0f61d>\u001b[0m in \u001b[0;36m<module>\u001b[0;34m()\u001b[0m\n\u001b[1;32m      1\u001b[0m \u001b[0mzeta\u001b[0m \u001b[0;34m=\u001b[0m \u001b[0;36m2\u001b[0m\u001b[0;34m\u001b[0m\u001b[0m\n\u001b[1;32m      2\u001b[0m \u001b[0;34m\u001b[0m\u001b[0m\n\u001b[0;32m----> 3\u001b[0;31m \u001b[0mtrainer\u001b[0m \u001b[0;34m=\u001b[0m \u001b[0mFullCovarianceTrainer\u001b[0m\u001b[0;34m(\u001b[0m\u001b[0mzeta\u001b[0m\u001b[0;34m=\u001b[0m\u001b[0;36m2\u001b[0m\u001b[0;34m,\u001b[0m \u001b[0mmodel_name\u001b[0m\u001b[0;34m=\u001b[0m\u001b[0;34m'krr'\u001b[0m\u001b[0;34m,\u001b[0m \u001b[0mkernel_name\u001b[0m\u001b[0;34m=\u001b[0m\u001b[0;34m'power'\u001b[0m\u001b[0;34m,\u001b[0m \u001b[0mself_contribution\u001b[0m\u001b[0;34m=\u001b[0m\u001b[0mself_contribution\u001b[0m\u001b[0;34m)\u001b[0m\u001b[0;34m\u001b[0m\u001b[0m\n\u001b[0m\u001b[1;32m      4\u001b[0m \u001b[0mrepresentation\u001b[0m \u001b[0;34m=\u001b[0m \u001b[0mRawSoapInternal\u001b[0m\u001b[0;34m(\u001b[0m\u001b[0;34m**\u001b[0m\u001b[0msoap_params\u001b[0m\u001b[0;34m)\u001b[0m\u001b[0;34m\u001b[0m\u001b[0m\n",
      "\u001b[0;32m/local/git/ml_tools/ml_tools/models/trainers.pyc\u001b[0m in \u001b[0;36m__init__\u001b[0;34m(self, model_name, kernel_name, self_contribution, representation, is_precomputed, has_forces, **kwargs)\u001b[0m\n\u001b[1;32m     16\u001b[0m         \u001b[0mself\u001b[0m\u001b[0;34m.\u001b[0m\u001b[0mhas_forces\u001b[0m \u001b[0;34m=\u001b[0m \u001b[0mhas_forces\u001b[0m\u001b[0;34m\u001b[0m\u001b[0m\n\u001b[1;32m     17\u001b[0m         \u001b[0mself\u001b[0m\u001b[0;34m.\u001b[0m\u001b[0mrepresentation\u001b[0m \u001b[0;34m=\u001b[0m \u001b[0mrepresentation\u001b[0m\u001b[0;34m\u001b[0m\u001b[0m\n\u001b[0;32m---> 18\u001b[0;31m         \u001b[0mself\u001b[0m\u001b[0;34m.\u001b[0m\u001b[0mrepresentation\u001b[0m\u001b[0;34m.\u001b[0m\u001b[0mdisable_pbar\u001b[0m \u001b[0;34m=\u001b[0m \u001b[0mTrue\u001b[0m\u001b[0;34m\u001b[0m\u001b[0m\n\u001b[0m\u001b[1;32m     19\u001b[0m         \u001b[0mself\u001b[0m\u001b[0;34m.\u001b[0m\u001b[0mself_contribution\u001b[0m \u001b[0;34m=\u001b[0m \u001b[0mself_contribution\u001b[0m\u001b[0;34m\u001b[0m\u001b[0m\n\u001b[1;32m     20\u001b[0m \u001b[0;34m\u001b[0m\u001b[0m\n",
      "\u001b[0;31mAttributeError\u001b[0m: 'NoneType' object has no attribute 'disable_pbar'"
     ]
    }
   ],
   "source": [
    "zeta = 2\n",
    "\n",
    "representation = RawSoapInternal(**soap_params)\n",
    "\n",
    "trainer = FullCovarianceTrainer(zeta=2, model_name='krr', kernel_name='power', self_contribution=self_contribution,feature_transformations=representation)\n",
    "\n"
   ]
  },
  {
   "cell_type": "code",
   "execution_count": null,
   "metadata": {},
   "outputs": [],
   "source": [
    "X_train = representation.transform(frames_train)\n",
    "trainer.precompute(y_train, X_train)"
   ]
  },
  {
   "cell_type": "code",
   "execution_count": null,
   "metadata": {},
   "outputs": [],
   "source": [
    "model = trainer.fit(sigmas=[1e-2])"
   ]
  },
  {
   "cell_type": "code",
   "execution_count": null,
   "metadata": {},
   "outputs": [],
   "source": [
    "frames_test = read(fn,index='10:20')\n",
    "y_test = extract_chemical_shielding(frames_test,sp)"
   ]
  },
  {
   "cell_type": "code",
   "execution_count": null,
   "metadata": {},
   "outputs": [],
   "source": [
    "y_pred = model.predict(kk_test)\n",
    "get_score(y_pred,y_test)"
   ]
  },
  {
   "cell_type": "code",
   "execution_count": null,
   "metadata": {},
   "outputs": [],
   "source": []
  },
  {
   "cell_type": "markdown",
   "metadata": {
    "heading_collapsed": true
   },
   "source": [
    "# FPS selection of the samples"
   ]
  },
  {
   "cell_type": "code",
   "execution_count": null,
   "metadata": {
    "hidden": true
   },
   "outputs": [],
   "source": [
    "sp = 1\n",
    "path = './'\n",
    "xyzPath = path + ''\n",
    "fn = xyzPath + 'CSD500.xyz'\n",
    "frames_train = read(fn,index=':10')\n",
    "global_species=[1, 6, 7, 8]\n",
    "nocenters = copy(global_species)\n",
    "nocenters.remove(sp)\n",
    "prop = []\n",
    "for cc in frames_train:\n",
    "    numb = cc.get_atomic_numbers()\n",
    "    prop.extend(cc.get_array('CS')[numb==sp])\n",
    "y_train = np.array(prop)"
   ]
  },
  {
   "cell_type": "code",
   "execution_count": null,
   "metadata": {
    "hidden": true
   },
   "outputs": [],
   "source": [
    "delta = np.std(y_train)\n",
    "zeta = 2\n",
    "Nselect = 6\n",
    "\n",
    "soap_params = dict(rc=5, nmax=12, lmax=9, awidth=0.4,\n",
    "                    cutoff_transition_width=0.5,\n",
    "                    cutoff_dexp=0, cutoff_scale=1,cutoff_rate=1,\n",
    "                    centerweight=1.,global_species=global_species,nocenters=nocenters,\n",
    "                   fast_avg=False,is_sparse=False,disable_pbar=True)\n",
    "\n",
    "kernel = KernelPower(zeta,delta)\n",
    "representation = RawSoapQUIP(**soap_params)\n",
    "compressor = FPSFilter(Nselect,kernel,act_on='sample',precompute_kernel=True,disable_pbar=True)"
   ]
  },
  {
   "cell_type": "code",
   "execution_count": null,
   "metadata": {
    "hidden": true
   },
   "outputs": [],
   "source": [
    "rawsoaps = representation.transform(frames_train)\n",
    "rawsoaps.shape"
   ]
  },
  {
   "cell_type": "code",
   "execution_count": null,
   "metadata": {
    "hidden": true
   },
   "outputs": [],
   "source": [
    "compressor.fit(rawsoaps,dry_run=True)\n",
    "compressor.plot()"
   ]
  },
  {
   "cell_type": "code",
   "execution_count": null,
   "metadata": {
    "hidden": true
   },
   "outputs": [],
   "source": [
    "Nselect = 250\n",
    "compressor = FPSFilter(Nselect,kernel,act_on='sample',precompute_kernel=True,disable_pbar=True)\n",
    "compressor.fit(rawsoaps)"
   ]
  },
  {
   "cell_type": "markdown",
   "metadata": {
    "heading_collapsed": true
   },
   "source": [
    "# Filter equivalent atoms"
   ]
  },
  {
   "cell_type": "code",
   "execution_count": null,
   "metadata": {
    "hidden": true
   },
   "outputs": [],
   "source": [
    "sp = 1\n",
    "path = './'\n",
    "xyzPath = path + ''\n",
    "fn = xyzPath + 'CSD500.xyz'\n",
    "frames_train = read(fn,index=':50')\n",
    "global_species=[1, 6, 7, 8]\n",
    "nocenters = copy(global_species)\n",
    "nocenters.remove(sp)\n",
    "prop = []\n",
    "for cc in frames_train:\n",
    "    numb = cc.get_atomic_numbers()\n",
    "    prop.extend(cc.get_array('CS')[numb==sp])\n",
    "y_train = np.array(prop)"
   ]
  },
  {
   "cell_type": "code",
   "execution_count": null,
   "metadata": {
    "hidden": true
   },
   "outputs": [],
   "source": [
    "delta = np.std(y_train)\n",
    "zeta = 2\n",
    "\n",
    "soap_params = dict(rc=5, nmax=9, lmax=6, awidth=0.4,\n",
    "                    cutoff_transition_width=0.5,\n",
    "                    cutoff_dexp=0, cutoff_scale=1,cutoff_rate=1,\n",
    "                    centerweight=1.,global_species=global_species,nocenters=nocenters,\n",
    "                   fast_avg=False,is_sparse=False,disable_pbar=True)\n",
    "representation = RawSoapQUIP(**soap_params)"
   ]
  },
  {
   "cell_type": "code",
   "execution_count": null,
   "metadata": {
    "hidden": true
   },
   "outputs": [],
   "source": [
    "rawsoaps = representation.transform(frames_train)"
   ]
  },
  {
   "cell_type": "code",
   "execution_count": null,
   "metadata": {
    "hidden": true
   },
   "outputs": [],
   "source": [
    "filt = SymmetryFilter(threshold=1e-4,species=[sp])\n",
    "X_filt, y_filt = filt.fit_transform(dict(frames=frames_train,feature_matrix=rawsoaps),y=y_train)\n",
    "print X_filt.shape,filt.strides[-1]\n",
    "print len(filt.filter_ids_inv)\n",
    "a,b = filt.inverse_transform(X_filt,y_filt)\n",
    "print np.allclose(rawsoaps,a,atol=1e-4),np.allclose(y_train,b,atol=1e-4)\n",
    "\n"
   ]
  },
  {
   "cell_type": "code",
   "execution_count": null,
   "metadata": {
    "hidden": true
   },
   "outputs": [],
   "source": [
    "plt.plot(y_train-b,'o',ms=1)"
   ]
  },
  {
   "cell_type": "code",
   "execution_count": null,
   "metadata": {
    "hidden": true
   },
   "outputs": [],
   "source": []
  },
  {
   "cell_type": "markdown",
   "metadata": {
    "heading_collapsed": true
   },
   "source": [
    "# CV"
   ]
  },
  {
   "cell_type": "code",
   "execution_count": null,
   "metadata": {
    "hidden": true
   },
   "outputs": [],
   "source": [
    "sp = 1\n",
    "path = './'\n",
    "xyzPath = path + ''\n",
    "fn = xyzPath + 'CSD500.xyz'\n",
    "frames = read(fn,index=':100')\n",
    "global_species=[1, 6, 7, 8]\n",
    "nocenters = copy(global_species)\n",
    "nocenters.remove(sp)\n",
    "prop = []\n",
    "for cc in frames:\n",
    "    numb = cc.get_atomic_numbers()\n",
    "    prop.extend(cc.get_array('CS')[numb==sp])\n",
    "y = np.array(prop)\n",
    "mapping = get_sp_mapping(frames,sp)"
   ]
  },
  {
   "cell_type": "code",
   "execution_count": null,
   "metadata": {
    "hidden": true
   },
   "outputs": [],
   "source": [
    "delta = np.std(y)*0.01\n",
    "zeta = 2\n",
    "jitter = 1e-8\n",
    "\n",
    "soap_params = dict(rc=5, nmax=12, lmax=9, awidth=0.4,\n",
    "                    cutoff_transition_width=0.5,\n",
    "                    cutoff_dexp=0, cutoff_scale=1,cutoff_rate=1,\n",
    "                    centerweight=1.,global_species=global_species,nocenters=nocenters,\n",
    "                   fast_avg=False,is_sparse=False,disable_pbar=True)\n",
    "\n",
    "kernel = KernelPower(zeta,delta)\n",
    "trainer = TrainerCholesky(memory_efficient=True)\n",
    "representation = RawSoapQUIP(**soap_params)\n",
    "\n",
    "\n",
    "cv = EnvironmentalKFold(n_splits=6,random_state=10,shuffle=True,mapping=mapping)\n",
    "krr = KRRFastCV(jitter,cv)"
   ]
  },
  {
   "cell_type": "code",
   "execution_count": null,
   "metadata": {
    "hidden": true
   },
   "outputs": [],
   "source": [
    "rawsoaps = representation.transform(frames)"
   ]
  },
  {
   "cell_type": "code",
   "execution_count": null,
   "metadata": {
    "hidden": true
   },
   "outputs": [],
   "source": [
    "Kmat = kernel.transform(rawsoaps)\n",
    "krr.fit(Kmat,y)\n",
    "y_pred = krr.predict()\n",
    "get_score(y_pred,y)"
   ]
  },
  {
   "cell_type": "markdown",
   "metadata": {
    "hidden": true
   },
   "source": [
    "## test with sparse kernel"
   ]
  },
  {
   "cell_type": "markdown",
   "metadata": {
    "hidden": true
   },
   "source": [
    "### ref"
   ]
  },
  {
   "cell_type": "code",
   "execution_count": null,
   "metadata": {
    "hidden": true
   },
   "outputs": [],
   "source": [
    "sp = 1\n",
    "path = './'\n",
    "xyzPath = path + ''\n",
    "fn = xyzPath + 'CSD500.xyz'\n",
    "frames = read(fn,index=':100')\n",
    "global_species=[1, 6, 7, 8]\n",
    "nocenters = copy(global_species)\n",
    "nocenters.remove(sp)\n",
    "prop = []\n",
    "for cc in frames:\n",
    "    numb = cc.get_atomic_numbers()\n",
    "    prop.extend(cc.get_array('CS')[numb==sp])\n",
    "y = np.array(prop)\n",
    "mapping = get_sp_mapping(frames,sp)"
   ]
  },
  {
   "cell_type": "code",
   "execution_count": null,
   "metadata": {
    "hidden": true
   },
   "outputs": [],
   "source": [
    "delta = np.std(y)*0.01\n",
    "zeta = 2\n",
    "jitter = 1e-8\n",
    "Nselect = 10\n",
    "\n",
    "soap_params = dict(rc=5, nmax=12, lmax=9, awidth=0.4,\n",
    "                    cutoff_transition_width=0.5,\n",
    "                    cutoff_dexp=0, cutoff_scale=1,cutoff_rate=1,\n",
    "                    centerweight=1.,global_species=global_species,nocenters=nocenters,\n",
    "                   fast_avg=False,is_sparse=False,disable_pbar=True)\n",
    "\n",
    "kern = KernelPower(zeta)\n",
    "trainer = TrainerCholesky(memory_efficient=True)\n",
    "representation = RawSoapQUIP(**soap_params)\n",
    "compressor = FPSFilter(Nselect,kern,act_on='sample',precompute_kernel=True,disable_pbar=True)\n",
    "#filt = SymmetryFilter(threshold=1e-4,species=[sp])\n",
    "\n",
    "cv = EnvironmentalKFold(n_splits=6,random_state=10,shuffle=True,mapping=mapping)\n",
    "krr = KRR(jitter,delta,trainer)"
   ]
  },
  {
   "cell_type": "code",
   "execution_count": null,
   "metadata": {
    "hidden": true
   },
   "outputs": [],
   "source": [
    "rawsoaps = representation.transform(frames)"
   ]
  },
  {
   "cell_type": "code",
   "execution_count": null,
   "metadata": {
    "hidden": true
   },
   "outputs": [],
   "source": [
    "#X_filt, y_filt = filt.fit_transform(dict(frames=frames,feature_matrix=rawsoaps),y=y)"
   ]
  },
  {
   "cell_type": "code",
   "execution_count": null,
   "metadata": {
    "hidden": true
   },
   "outputs": [],
   "source": [
    "compressor.fit(rawsoaps,dry_run=True)\n",
    "compressor.plot()"
   ]
  },
  {
   "cell_type": "code",
   "execution_count": null,
   "metadata": {
    "hidden": true
   },
   "outputs": [],
   "source": [
    "X_pseudo = rawsoaps[compressor.selected_ids[:3000]]\n",
    "kernel = KernelSparseSoR(kern,X_pseudo=X_pseudo,Lambda=0.1)\n",
    "scores = []\n",
    "error = []\n",
    "y_pred = np.ones(y.shape)\n",
    "for train,test in cv.split(rawsoaps):\n",
    "    Ktrain,ytrain = kernel.transform(X=rawsoaps[train],y=y[train]) \n",
    "    Ktest = kernel.transform(X=rawsoaps[test]) \n",
    "    krr.fit(Ktrain,ytrain)\n",
    "    y_pred[test] = krr.predict(Ktest)\n",
    "    #error.extend(y_pred-y[test])\n",
    "    #scores.append(get_score(y_pred,y[test]))\n",
    "#score = (np.mean(np.abs(error)),np.sqrt(np.mean(np.square(error))))\n",
    "score = get_score(y_pred,y)\n",
    "print score"
   ]
  },
  {
   "cell_type": "markdown",
   "metadata": {
    "heading_collapsed": true
   },
   "source": [
    "# LC"
   ]
  },
  {
   "cell_type": "code",
   "execution_count": null,
   "metadata": {
    "hidden": true
   },
   "outputs": [],
   "source": [
    "sp = 1\n",
    "path = './'\n",
    "xyzPath = path + ''\n",
    "fn = xyzPath + 'CSD500.xyz'\n",
    "frames = read(fn,index=':20')\n",
    "global_species=[1, 6, 7, 8]\n",
    "nocenters = copy(global_species)\n",
    "nocenters.remove(sp)\n",
    "prop = []\n",
    "for cc in frames:\n",
    "    numb = cc.get_atomic_numbers()\n",
    "    prop.extend(cc.get_array('CS')[numb==sp])\n",
    "y = np.array(prop)\n",
    "mapping = get_sp_mapping(frames,sp)"
   ]
  },
  {
   "cell_type": "code",
   "execution_count": null,
   "metadata": {
    "hidden": true
   },
   "outputs": [],
   "source": [
    "delta = np.std(y)\n",
    "zeta = 2\n",
    "jitter = 1e-8\n",
    "\n",
    "soap_params = dict(rc=5, nmax=12, lmax=9, awidth=0.4,\n",
    "                    cutoff_transition_width=0.5,\n",
    "                    cutoff_dexp=0, cutoff_scale=1,cutoff_rate=1,\n",
    "                    centerweight=1.,global_species=global_species,nocenters=nocenters,\n",
    "                   fast_avg=False,is_sparse=False,disable_pbar=True)\n",
    "\n",
    "kernel = KernelPower(zeta,delta)\n",
    "trainer = TrainerCholesky(memory_efficient=True)\n",
    "representation = RawSoapQUIP(**soap_params)\n",
    "krr = KRR(jitter,trainer)\n"
   ]
  },
  {
   "cell_type": "code",
   "execution_count": null,
   "metadata": {
    "hidden": true
   },
   "outputs": [],
   "source": [
    "rawsoaps = representation.transform(frames)\n",
    "K = kernel.transform(rawsoaps)"
   ]
  },
  {
   "cell_type": "code",
   "execution_count": null,
   "metadata": {
    "hidden": true
   },
   "outputs": [],
   "source": [
    "lc = LCSplit(EnvironmentalShuffleSplit, n_repeats=[5,5],train_sizes=[5,10],test_size=10, random_state=10,mapping=mapping)\n"
   ]
  },
  {
   "cell_type": "code",
   "execution_count": null,
   "metadata": {
    "hidden": true
   },
   "outputs": [],
   "source": [
    "score = []\n",
    "for train,test in tqdm_notebook(lc.split(rawsoaps),total=lc.n_splits):\n",
    "    k_train = K[np.ix_(train,train)]\n",
    "    y_train = y[train]\n",
    "    k_test = K[np.ix_(test,train)]\n",
    "    krr.fit(k_train,y_train)\n",
    "    y_pred = krr.predict(k_test)\n",
    "    score.append(get_score(y_pred,y[test]))"
   ]
  },
  {
   "cell_type": "code",
   "execution_count": null,
   "metadata": {
    "hidden": true
   },
   "outputs": [],
   "source": [
    "35000**2*8/1e9"
   ]
  },
  {
   "cell_type": "markdown",
   "metadata": {},
   "source": [
    "# Procedure of the paper (updated)"
   ]
  },
  {
   "cell_type": "markdown",
   "metadata": {
    "heading_collapsed": true
   },
   "source": [
    "## detect outlier in the train set"
   ]
  },
  {
   "cell_type": "code",
   "execution_count": null,
   "metadata": {
    "hidden": true
   },
   "outputs": [],
   "source": [
    "sp = 1\n",
    "path = './'\n",
    "xyzPath = path + ''\n",
    "fn = xyzPath + 'CSD500.xyz'\n",
    "frames_train = read(fn,index=':50')\n",
    "global_species=[1, 6, 7, 8]\n",
    "nocenters = copy(global_species)\n",
    "nocenters.remove(sp)\n",
    "prop = []\n",
    "for cc in frames_train:\n",
    "    numb = cc.get_atomic_numbers()\n",
    "    prop.extend(cc.get_array('CS')[numb==sp])\n",
    "y_train = np.array(prop)\n"
   ]
  },
  {
   "cell_type": "code",
   "execution_count": null,
   "metadata": {
    "hidden": true
   },
   "outputs": [],
   "source": [
    "delta = np.std(y_train)*0.1\n",
    "zeta = 2\n",
    "jitter = 1e-8\n",
    "\n",
    "soap_params = dict(rc=3.5, nmax=9, lmax=6, awidth=0.4,\n",
    "                    cutoff_transition_width=0.5,\n",
    "                    cutoff_dexp=0, cutoff_scale=1,cutoff_rate=1,\n",
    "                    centerweight=1.,global_species=global_species,nocenters=nocenters,\n",
    "                   fast_avg=False,is_sparse=False,disable_pbar=True)\n",
    "\n",
    "kernel = KernelPower(zeta,delta)\n",
    "representation = RawSoapQUIP(**soap_params)\n",
    "filt = SymmetryFilter(threshold=1e-4,species=[sp])\n"
   ]
  },
  {
   "cell_type": "code",
   "execution_count": null,
   "metadata": {
    "hidden": true
   },
   "outputs": [],
   "source": [
    "rawsoaps = representation.transform(frames_train)\n",
    "\n",
    "X_filt, y_filt = filt.fit_transform(dict(frames=frames_train,feature_matrix=rawsoaps),y=y_train)\n",
    "Kmat = kernel.transform(X_filt)"
   ]
  },
  {
   "cell_type": "code",
   "execution_count": null,
   "metadata": {
    "hidden": true
   },
   "outputs": [],
   "source": [
    "mapping = {}\n",
    "for iframe,(st,nd) in enumerate(zip(filt.strides[:-1],filt.strides[1:])):\n",
    "    mapping[iframe] = range(st,nd)"
   ]
  },
  {
   "cell_type": "code",
   "execution_count": null,
   "metadata": {
    "hidden": true
   },
   "outputs": [],
   "source": [
    "np.random.seed(10)\n",
    "seeds = np.random.randint(low=0,high=1000,size=(100,))\n",
    "preds = []\n",
    "for seed in tqdm_notebook(seeds):\n",
    "    cv = EnvironmentalKFold(n_splits=3,random_state=seed,shuffle=True,mapping=mapping)\n",
    "    krr = KRRFastCV(jitter,cv)\n",
    "    \n",
    "    krr.fit(Kmat,y_filt)\n",
    "    \n",
    "    yp_filt = krr.predict()\n",
    "    _,y_pred = filt.inverse_transform(y=yp_filt)\n",
    "    preds.append(y_pred)\n",
    "preds = np.array(preds)"
   ]
  },
  {
   "cell_type": "code",
   "execution_count": null,
   "metadata": {
    "hidden": true
   },
   "outputs": [],
   "source": [
    "m = np.mean(preds-y_train,axis=0)\n",
    "s = np.std(preds-y_train,axis=0)"
   ]
  },
  {
   "cell_type": "code",
   "execution_count": null,
   "metadata": {
    "hidden": true
   },
   "outputs": [],
   "source": [
    "plt.plot(s,'o',ms=2,)\n",
    "plt.plot(3*s.mean()*np.ones(len(m)),'-',ms=2,)"
   ]
  },
  {
   "cell_type": "code",
   "execution_count": null,
   "metadata": {
    "hidden": true
   },
   "outputs": [],
   "source": [
    "plt.plot(y_train,'o',ms=2)\n",
    "plt.plot(np.where(s>3*s.mean())[0],y_train[s>3*s.mean()],'ro',ms=2,)"
   ]
  },
  {
   "cell_type": "code",
   "execution_count": null,
   "metadata": {
    "hidden": true
   },
   "outputs": [],
   "source": [
    "mapping_sp = get_sp_mapping(frames_train,sp)\n",
    "\n",
    "iii = np.where(s>3*s.mean())[0]\n",
    "suspicious_center = iii\n",
    "sp,name=1,'ccsd'\n",
    "suspicious_frame = []\n",
    "for icenter in iii:\n",
    "    for iframe,centers in mapping_sp.iteritems():\n",
    "        if icenter in centers:\n",
    "            suspicious_frame.append(iframe)\n",
    "            break\n",
    "\n",
    "#print np.unique(suspicious_frame)\n",
    "suspicious_frame = np.unique(suspicious_frame)\n",
    "suspicious_frame"
   ]
  },
  {
   "cell_type": "markdown",
   "metadata": {
    "heading_collapsed": true
   },
   "source": [
    "## FPS filtering"
   ]
  },
  {
   "cell_type": "code",
   "execution_count": null,
   "metadata": {
    "hidden": true
   },
   "outputs": [],
   "source": [
    "sp = 1\n",
    "path = './'\n",
    "xyzPath = path + ''\n",
    "fn = xyzPath + 'CSD500.xyz'\n",
    "frames_train = read(fn,index=':50')\n",
    "global_species=[1, 6, 7, 8]\n",
    "nocenters = copy(global_species)\n",
    "nocenters.remove(sp)"
   ]
  },
  {
   "cell_type": "code",
   "execution_count": null,
   "metadata": {
    "hidden": true
   },
   "outputs": [],
   "source": [
    "suspicious_frames = [18]\n",
    "for idx in suspicious_frames:\n",
    "    frames_train.pop(idx)\n",
    "print len(frames_train)\n",
    "\n",
    "prop = []\n",
    "for cc in frames_train:\n",
    "    numb = cc.get_atomic_numbers()\n",
    "    prop.extend(cc.get_array('CS')[numb==sp])\n",
    "y_train = np.array(prop)"
   ]
  },
  {
   "cell_type": "code",
   "execution_count": null,
   "metadata": {
    "hidden": true
   },
   "outputs": [],
   "source": [
    "delta = np.std(y_train)\n",
    "zeta = 2\n",
    "Nselect = 6\n",
    "\n",
    "soap_params = dict(rc=5, nmax=12, lmax=9, awidth=0.4,\n",
    "                    cutoff_transition_width=0.5,\n",
    "                    cutoff_dexp=0, cutoff_scale=1,cutoff_rate=1,\n",
    "                    centerweight=1.,global_species=global_species,nocenters=nocenters,\n",
    "                   fast_avg=False,is_sparse=False,disable_pbar=True)\n",
    "\n",
    "kernel = KernelPower(zeta,delta)\n",
    "representation = RawSoapQUIP(**soap_params)\n",
    "compressor = FPSFilter(Nselect,kernel,act_on='sample',precompute_kernel=True,disable_pbar=True)\n",
    "filt = SymmetryFilter(threshold=1e-4,species=[sp])"
   ]
  },
  {
   "cell_type": "code",
   "execution_count": null,
   "metadata": {
    "hidden": true
   },
   "outputs": [],
   "source": [
    "rawsoaps = representation.transform(frames_train)\n",
    "\n",
    "X_filt, y_filt = filt.fit_transform(dict(frames=frames_train,feature_matrix=rawsoaps),y=y_train)\n"
   ]
  },
  {
   "cell_type": "code",
   "execution_count": null,
   "metadata": {
    "hidden": true,
    "scrolled": true
   },
   "outputs": [],
   "source": [
    "compressor.fit(X_filt,dry_run=True)\n",
    "compressor.plot()"
   ]
  },
  {
   "cell_type": "markdown",
   "metadata": {
    "heading_collapsed": true
   },
   "source": [
    "## CV score for a model"
   ]
  },
  {
   "cell_type": "code",
   "execution_count": null,
   "metadata": {
    "hidden": true
   },
   "outputs": [],
   "source": [
    "sp = 1\n",
    "path = './'\n",
    "xyzPath = path + ''\n",
    "fn = xyzPath + 'CSD500.xyz'\n",
    "frames_train = read(fn,index=':50')\n",
    "global_species=[1, 6, 7, 8]\n",
    "nocenters = copy(global_species)\n",
    "nocenters.remove(sp)"
   ]
  },
  {
   "cell_type": "code",
   "execution_count": null,
   "metadata": {
    "hidden": true
   },
   "outputs": [],
   "source": [
    "suspicious_frames = [18]\n",
    "for idx in suspicious_frames:\n",
    "    frames_train.pop(idx)\n",
    "print len(frames_train)"
   ]
  },
  {
   "cell_type": "code",
   "execution_count": null,
   "metadata": {
    "hidden": true
   },
   "outputs": [],
   "source": [
    "prop = []\n",
    "for cc in frames_train:\n",
    "    numb = cc.get_atomic_numbers()\n",
    "    prop.extend(cc.get_array('CS')[numb==sp])\n",
    "y_train = np.array(prop)"
   ]
  },
  {
   "cell_type": "code",
   "execution_count": null,
   "metadata": {
    "hidden": true
   },
   "outputs": [],
   "source": [
    "delta = np.std(y_train)*0.1\n",
    "zeta = 2\n",
    "jitter = 1e-8\n",
    "Nselect = 1000\n",
    "\n",
    "soap_params = dict(rc=3.5, nmax=9, lmax=6, awidth=0.4,\n",
    "                    cutoff_transition_width=0.5,\n",
    "                    cutoff_dexp=0, cutoff_scale=1,cutoff_rate=1,\n",
    "                    centerweight=1.,global_species=global_species,nocenters=nocenters,\n",
    "                   fast_avg=False,is_sparse=False,disable_pbar=True)\n",
    "\n",
    "kernel = KernelPower(zeta)\n",
    "representation = RawSoapQUIP(**soap_params)\n",
    "filt = SymmetryFilter(threshold=1e-4,species=[sp])\n",
    "compressor = FPSFilter(Nselect,kernel,act_on='sample',precompute_kernel=True,disable_pbar=True)\n"
   ]
  },
  {
   "cell_type": "code",
   "execution_count": null,
   "metadata": {
    "hidden": true
   },
   "outputs": [],
   "source": [
    "rawsoaps = representation.transform(frames_train)\n",
    "\n",
    "X_filt, y_filt = filt.fit_transform(dict(frames=frames_train,feature_matrix=rawsoaps),y=y_train)\n",
    "Kmat = kernel.transform(X_filt)"
   ]
  },
  {
   "cell_type": "code",
   "execution_count": null,
   "metadata": {
    "hidden": true
   },
   "outputs": [],
   "source": [
    "mapping = {}\n",
    "for iframe,(st,nd) in enumerate(zip(filt.strides[:-1],filt.strides[1:])):\n",
    "    mapping[iframe] = range(st,nd)"
   ]
  },
  {
   "cell_type": "code",
   "execution_count": null,
   "metadata": {
    "hidden": true
   },
   "outputs": [],
   "source": [
    "cv = EnvironmentalKFold(n_splits=10,random_state=seed,shuffle=True,mapping=mapping)\n",
    "krr = KRRFastCV(jitter,delta,cv)"
   ]
  },
  {
   "cell_type": "code",
   "execution_count": null,
   "metadata": {
    "hidden": true
   },
   "outputs": [],
   "source": [
    "\n",
    "krr.fit(Kmat,y_filt)\n",
    "\n",
    "yp_filt = krr.predict()\n",
    "_,y_pred = filt.inverse_transform(y=yp_filt)\n",
    "\n",
    "get_score(y_train,y_pred)"
   ]
  },
  {
   "cell_type": "code",
   "execution_count": null,
   "metadata": {
    "hidden": true
   },
   "outputs": [],
   "source": [
    "rawsoaps = representation.transform(frames_test)\n",
    "\n",
    "Ktest = kernel.transform(X_filt,rawsoaps)"
   ]
  },
  {
   "cell_type": "code",
   "execution_count": null,
   "metadata": {
    "hidden": true
   },
   "outputs": [],
   "source": [
    "trainer = TrainerCholesky(memory_efficient=True)\n",
    "krr = KRR(jitter,delta,trainer)\n",
    "krr.fit(Kmat,y)\n",
    "y_pred = krr.prediction(Ktest)\n"
   ]
  }
 ],
 "metadata": {
  "kernelspec": {
   "display_name": "Python 2.7 GAP",
   "language": "python",
   "name": "gap"
  },
  "language_info": {
   "codemirror_mode": {
    "name": "ipython",
    "version": 2
   },
   "file_extension": ".py",
   "mimetype": "text/x-python",
   "name": "python",
   "nbconvert_exporter": "python",
   "pygments_lexer": "ipython2",
   "version": "2.7.15"
  },
  "toc": {
   "base_numbering": 1,
   "nav_menu": {},
   "number_sections": true,
   "sideBar": true,
   "skip_h1_title": false,
   "title_cell": "Table of Contents",
   "title_sidebar": "Contents",
   "toc_cell": false,
   "toc_position": {},
   "toc_section_display": "block",
   "toc_window_display": false
  }
 },
 "nbformat": 4,
 "nbformat_minor": 2
}
