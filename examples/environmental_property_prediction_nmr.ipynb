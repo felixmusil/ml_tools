{
 "cells": [
  {
   "cell_type": "code",
   "execution_count": 1,
   "metadata": {},
   "outputs": [],
   "source": [
    "%matplotlib inline\n",
    "import matplotlib.pyplot as plt"
   ]
  },
  {
   "cell_type": "code",
   "execution_count": 2,
   "metadata": {},
   "outputs": [],
   "source": [
    "import numpy as np\n",
    "import ase\n",
    "from ase.io import read,write\n",
    "from ase.visualize import view\n",
    "from glob import glob\n",
    "from copy import copy\n",
    "from tqdm import tqdm_notebook\n",
    "import cPickle as pck"
   ]
  },
  {
   "cell_type": "code",
   "execution_count": 3,
   "metadata": {},
   "outputs": [],
   "source": [
    "import sys,os\n",
    "sys.path.insert(0,'../')"
   ]
  },
  {
   "cell_type": "code",
   "execution_count": 4,
   "metadata": {},
   "outputs": [],
   "source": [
    "from ml_tools.descriptors import RawSoapInternal\n",
    "from ml_tools.models import FullCovarianceTrainer,SoRTrainer\n",
    "from ml_tools.utils import get_mae,get_rmse,get_sup,get_spearman,get_score,load_pck,dump_obj,load_obj\n",
    "from ml_tools.split import KFold,LCSplit,ShuffleSplit\n",
    "from ml_tools.model_selection import KRRFastCVScorer,CrossValidationScorer,GridSearch,LearningCurve\n",
    "from ml_tools.compressor import FPSFilter\n"
   ]
  },
  {
   "cell_type": "code",
   "execution_count": 5,
   "metadata": {
    "code_folding": [
     9
    ]
   },
   "outputs": [],
   "source": [
    "# filename of the molecular crystal structures\n",
    "fn = './data/CSD500.xyz'\n",
    "# atomic type for which to predict chemical shieldings\n",
    "sp = 1\n",
    "# atomic types present in the structures\n",
    "global_species=[1, 6, 7, 8]\n",
    "nocenters = copy(global_species)\n",
    "nocenters.remove(sp)\n",
    "# parameters for the soap descriptor\n",
    "soap_params = dict(rc=4, nmax=8, lmax=6, awidth=0.4,\n",
    "                   global_species=global_species,\n",
    "                   nocenters=nocenters,\n",
    "                   disable_pbar=True)\n",
    "\n",
    "self_contribution = {1:0., 6:0., 7:0., 8:0.}"
   ]
  },
  {
   "cell_type": "markdown",
   "metadata": {},
   "source": [
    "## utils"
   ]
  },
  {
   "cell_type": "code",
   "execution_count": 6,
   "metadata": {
    "code_folding": [
     0
    ]
   },
   "outputs": [],
   "source": [
    "def get_sp_mapping(frames,sp):\n",
    "    ii = 0\n",
    "    fid2gids = {it:[] for it in range(len(frames))}\n",
    "    for iframe,cc in enumerate(frames):\n",
    "        for ss in cc.get_atomic_numbers():\n",
    "            if ss == sp:\n",
    "                fid2gids[iframe].append(ii)\n",
    "                ii += 1\n",
    "    return fid2gids\n",
    "\n",
    "def extract_chemical_shielding(frames,sp):\n",
    "    prop = []\n",
    "    for cc in frames:\n",
    "        numb = cc.get_atomic_numbers()\n",
    "        prop.extend(cc.get_array('CS')[numb==sp])\n",
    "    y = np.array(prop)\n",
    "    return y"
   ]
  },
  {
   "cell_type": "markdown",
   "metadata": {},
   "source": [
    "# train and predict"
   ]
  },
  {
   "cell_type": "code",
   "execution_count": null,
   "metadata": {},
   "outputs": [],
   "source": [
    "frames_train = read(fn,index=':10')\n",
    "y_train = extract_chemical_shielding(frames_train,sp)"
   ]
  },
  {
   "cell_type": "code",
   "execution_count": null,
   "metadata": {},
   "outputs": [],
   "source": [
    "zeta = 2\n",
    "\n",
    "representation = RawSoapInternal(**soap_params)\n",
    "\n",
    "trainer = FullCovarianceTrainer(zeta=2, model_name='krr', kernel_name='power', has_global_targets=False,self_contribution=self_contribution,feature_transformations=representation)\n",
    "\n"
   ]
  },
  {
   "cell_type": "code",
   "execution_count": 9,
   "metadata": {},
   "outputs": [
    {
     "name": "stdout",
     "output_type": "stream",
     "text": [
      "(650, 650) (650, 7168) (650, 7168)\n"
     ]
    }
   ],
   "source": [
    "X_train = representation.transform(frames_train)\n",
    "trainer.precompute(y_train, X_train)"
   ]
  },
  {
   "cell_type": "code",
   "execution_count": 10,
   "metadata": {},
   "outputs": [],
   "source": [
    "model = trainer.fit(lambdas=[1e-2])"
   ]
  },
  {
   "cell_type": "code",
   "execution_count": 11,
   "metadata": {},
   "outputs": [],
   "source": [
    "frames_test = read(fn,index='10:20')\n",
    "y_test = extract_chemical_shielding(frames_test,sp)"
   ]
  },
  {
   "cell_type": "code",
   "execution_count": 12,
   "metadata": {},
   "outputs": [
    {
     "name": "stdout",
     "output_type": "stream",
     "text": [
      "(486, 650) (486, 7168) (650, 7168)\n"
     ]
    },
    {
     "data": {
      "text/plain": [
       "{'CORR': 0.8549624772823136,\n",
       " 'MAE': 1.335958006886679,\n",
       " 'R2': 0.7235301553149263,\n",
       " 'RMSE': 1.9001659625937717,\n",
       " 'SUP': 8.263027376724523}"
      ]
     },
     "execution_count": 12,
     "metadata": {},
     "output_type": "execute_result"
    }
   ],
   "source": [
    "y_pred = model.predict(frames_test)\n",
    "get_score(y_pred,y_test)"
   ]
  },
  {
   "cell_type": "markdown",
   "metadata": {
    "heading_collapsed": true
   },
   "source": [
    "# FPS selection of the samples"
   ]
  },
  {
   "cell_type": "code",
   "execution_count": 7,
   "metadata": {
    "hidden": true
   },
   "outputs": [],
   "source": [
    "frames_train = read(fn,index=':10')\n",
    "y_train = extract_chemical_shielding(frames_train,sp)"
   ]
  },
  {
   "cell_type": "code",
   "execution_count": 8,
   "metadata": {
    "hidden": true
   },
   "outputs": [],
   "source": [
    "zeta = 2\n",
    "Nselect = 10\n",
    "representation = RawSoapInternal(**soap_params)\n",
    "\n",
    "trainer = FullCovarianceTrainer(zeta=2, model_name='krr', kernel_name='power', has_global_targets=False,self_contribution=self_contribution,feature_transformations=representation)\n",
    "\n",
    "kernel = trainer.kernel\n",
    "compressor = FPSFilter(Nselect,kernel,act_on='sample',precompute_kernel=False,disable_pbar=False)"
   ]
  },
  {
   "cell_type": "code",
   "execution_count": 9,
   "metadata": {
    "hidden": true
   },
   "outputs": [],
   "source": [
    "rawsoaps = representation.transform(frames_train)"
   ]
  },
  {
   "cell_type": "code",
   "execution_count": 26,
   "metadata": {
    "hidden": true
   },
   "outputs": [
    {
     "name": "stdout",
     "output_type": "stream",
     "text": [
      "650\n",
      "(650, 1)\n",
      "(650,) 1.2915376058443324\n",
      "(650,) 0\n"
     ]
    },
    {
     "data": {
      "application/vnd.jupyter.widget-view+json": {
       "model_id": "",
       "version_major": 2,
       "version_minor": 0
      },
      "text/plain": [
       "SEJveChjaGlsZHJlbj0oSW50UHJvZ3Jlc3ModmFsdWU9MCwgZGVzY3JpcHRpb249dSdmcHMnLCBtYXg9NjQ5LCBzdHlsZT1Qcm9ncmVzc1N0eWxlKGRlc2NyaXB0aW9uX3dpZHRoPXUnaW5pdGnigKY=\n"
      ]
     },
     "metadata": {},
     "output_type": "display_data"
    },
    {
     "name": "stdout",
     "output_type": "stream",
     "text": [
      "\r"
     ]
    },
    {
     "data": {
      "image/png": "[encoded data removed]",
      "text/plain": [
       "<Figure size 432x288 with 1 Axes>"
      ]
     },
     "metadata": {
      "needs_background": "light"
     },
     "output_type": "display_data"
    }
   ],
   "source": [
    "compressor.fit(rawsoaps,dry_run=True)\n",
    "compressor.plot()"
   ]
  },
  {
   "cell_type": "code",
   "execution_count": 27,
   "metadata": {
    "hidden": true
   },
   "outputs": [],
   "source": [
    "compressor.Nselect = 250\n",
    "X = compressor.transform(rawsoaps)"
   ]
  },
  {
   "cell_type": "markdown",
   "metadata": {
    "heading_collapsed": true
   },
   "source": [
    "# FPS selection of the features"
   ]
  },
  {
   "cell_type": "code",
   "execution_count": 8,
   "metadata": {
    "hidden": true
   },
   "outputs": [],
   "source": [
    "frames_train = read(fn,index=':10')\n",
    "y_train = extract_chemical_shielding(frames_train,sp)"
   ]
  },
  {
   "cell_type": "code",
   "execution_count": 15,
   "metadata": {
    "hidden": true
   },
   "outputs": [],
   "source": [
    "KRRFastCVScorer?"
   ]
  },
  {
   "cell_type": "code",
   "execution_count": 9,
   "metadata": {
    "hidden": true
   },
   "outputs": [],
   "source": [
    "zeta = 2\n",
    "Nselect = 10\n",
    "representation = RawSoapInternal(**soap_params)\n",
    "\n",
    "trainer = FullCovarianceTrainer(zeta=2, model_name='krr', kernel_name='power', has_global_targets=False,self_contribution=self_contribution,feature_transformations=representation)\n",
    "\n",
    "kernel = trainer.kernel\n",
    "compressor = FPSFilter(Nselect,kernel,act_on='feature',precompute_kernel=False,disable_pbar=True)"
   ]
  },
  {
   "cell_type": "code",
   "execution_count": 10,
   "metadata": {
    "hidden": true
   },
   "outputs": [],
   "source": [
    "rawsoaps = representation.transform(frames_train)"
   ]
  },
  {
   "cell_type": "code",
   "execution_count": 10,
   "metadata": {
    "hidden": true
   },
   "outputs": [
    {
     "data": {
      "image/png": "[encoded data removed]",
      "text/plain": [
       "<Figure size 432x288 with 1 Axes>"
      ]
     },
     "metadata": {
      "needs_background": "light"
     },
     "output_type": "display_data"
    }
   ],
   "source": [
    "compressor.fit(rawsoaps,dry_run=True)\n",
    "compressor.plot()"
   ]
  },
  {
   "cell_type": "code",
   "execution_count": 11,
   "metadata": {
    "hidden": true
   },
   "outputs": [],
   "source": [
    "compressor.Nselect = 250\n",
    "X = compressor.transform(rawsoaps)"
   ]
  },
  {
   "cell_type": "markdown",
   "metadata": {},
   "source": [
    "# CV"
   ]
  },
  {
   "cell_type": "code",
   "execution_count": 7,
   "metadata": {},
   "outputs": [],
   "source": [
    "frames_train = read(fn,index=':10')\n",
    "y_train = extract_chemical_shielding(frames_train,sp)"
   ]
  },
  {
   "cell_type": "code",
   "execution_count": 8,
   "metadata": {},
   "outputs": [],
   "source": [
    "zeta = 2\n",
    "sigma = 1e-2\n",
    "\n",
    "representation = RawSoapInternal(**soap_params)\n",
    "trainer = FullCovarianceTrainer(zeta=2, model_name='krr', kernel_name='power', has_global_targets=False,self_contribution=self_contribution,feature_transformations=representation)\n",
    "cv = KFold(n_splits=6,random_state=10,shuffle=True)\n",
    "scorer = KRRFastCVScorer([sigma],trainer,cv)"
   ]
  },
  {
   "cell_type": "code",
   "execution_count": 9,
   "metadata": {},
   "outputs": [],
   "source": [
    "rawsoaps = representation.transform(frames_train)"
   ]
  },
  {
   "cell_type": "code",
   "execution_count": 10,
   "metadata": {},
   "outputs": [],
   "source": [
    "scorer.fit(rawsoaps,y_train)"
   ]
  },
  {
   "cell_type": "code",
   "execution_count": 11,
   "metadata": {},
   "outputs": [
    {
     "name": "stdout",
     "output_type": "stream",
     "text": [
      "RMSE=1.545e-01 MAE=3.124e-02 R2=9.957e-01 CORR=9.969e-01 SUP=1.041e+00\n"
     ]
    }
   ],
   "source": [
    "print scorer.get_summary(txt=True)"
   ]
  },
  {
   "cell_type": "code",
   "execution_count": 12,
   "metadata": {},
   "outputs": [],
   "source": [
    "trainer = FullCovarianceTrainer(zeta=2, model_name='krr', kernel_name='power', has_global_targets=False,self_contribution=self_contribution,feature_transformations=representation)\n",
    "cv = KFold(n_splits=6,random_state=10,shuffle=True)\n",
    "scorer = CrossValidationScorer(trainer,cv,{'lambdas':[sigma]})"
   ]
  },
  {
   "cell_type": "code",
   "execution_count": 13,
   "metadata": {
    "scrolled": true
   },
   "outputs": [
    {
     "name": "stdout",
     "output_type": "stream",
     "text": [
      "RMSE=1.545e-01 MAE=3.124e-02 R2=9.957e-01 CORR=9.969e-01 SUP=1.040e+00\n"
     ]
    }
   ],
   "source": [
    "scorer.fit(rawsoaps,y_train)\n",
    "print scorer.get_summary(txt=True)"
   ]
  },
  {
   "cell_type": "code",
   "execution_count": 14,
   "metadata": {},
   "outputs": [],
   "source": [
    "trainer = SoRTrainer(zeta=2, model_name='krr', kernel_name='power', has_global_targets=False,self_contribution=self_contribution,feature_transformations=representation)\n",
    "cv = KFold(n_splits=6,random_state=10,shuffle=True)"
   ]
  },
  {
   "cell_type": "code",
   "execution_count": 38,
   "metadata": {},
   "outputs": [],
   "source": [
    "X_pseudo = rawsoaps.extract_pseudo_input(np.arange(650))\n",
    "scorer = CrossValidationScorer(trainer,cv,{'lambdas':[sigma],'X_pseudo':X_pseudo,'jitter':1e-6})"
   ]
  },
  {
   "cell_type": "code",
   "execution_count": 39,
   "metadata": {},
   "outputs": [
    {
     "data": {
      "text/plain": [
       "False"
      ]
     },
     "execution_count": 39,
     "metadata": {},
     "output_type": "execute_result"
    }
   ],
   "source": [
    "trainer.has_global_targets"
   ]
  },
  {
   "cell_type": "code",
   "execution_count": 40,
   "metadata": {
    "scrolled": true
   },
   "outputs": [
    {
     "name": "stdout",
     "output_type": "stream",
     "text": [
      "RMSE=1.545e-01 MAE=3.123e-02 R2=9.957e-01 CORR=9.969e-01 SUP=1.040e+00\n"
     ]
    }
   ],
   "source": [
    "scorer.fit(rawsoaps,y_train)\n",
    "print scorer.get_summary(txt=True)"
   ]
  },
  {
   "cell_type": "markdown",
   "metadata": {},
   "source": [
    "# LC"
   ]
  },
  {
   "cell_type": "code",
   "execution_count": 7,
   "metadata": {},
   "outputs": [],
   "source": [
    "frames_train = read(fn,index=':30')\n",
    "y_train = extract_chemical_shielding(frames_train,sp)"
   ]
  },
  {
   "cell_type": "code",
   "execution_count": 8,
   "metadata": {},
   "outputs": [],
   "source": [
    "zeta = 2\n",
    "sigma = 1e-2\n",
    "\n",
    "representation = RawSoapInternal(**soap_params)\n",
    "trainer = FullCovarianceTrainer(zeta=2, model_name='krr', kernel_name='power', has_global_targets=False,self_contribution=self_contribution,feature_transformations=representation)\n",
    "\n"
   ]
  },
  {
   "cell_type": "code",
   "execution_count": 10,
   "metadata": {},
   "outputs": [],
   "source": [
    "rawsoaps = representation.transform(frames_train)"
   ]
  },
  {
   "cell_type": "code",
   "execution_count": 24,
   "metadata": {},
   "outputs": [],
   "source": [
    "n_repeats=[5,5,5,5]\n",
    "train_sizes=[5,10,15,20]\n",
    "test_size=10\n",
    "seed=10\n",
    "model_params = {'lambdas':[sigma]}\n",
    "lc = LearningCurve(trainer,model_params,n_repeats,train_sizes,test_size,seed)\n",
    "lc.fit(rawsoaps,y_train)"
   ]
  },
  {
   "cell_type": "code",
   "execution_count": 31,
   "metadata": {},
   "outputs": [
    {
     "data": {
      "text/plain": [
       "Text(0.5,1,'Learning Curve')"
      ]
     },
     "execution_count": 31,
     "metadata": {},
     "output_type": "execute_result"
    },
    {
     "data": {
      "image/png": "[encoded data removed]",
      "text/plain": [
       "<Figure size 432x288 with 1 Axes>"
      ]
     },
     "metadata": {
      "needs_background": "light"
     },
     "output_type": "display_data"
    }
   ],
   "source": [
    "ax = lc.plot('MAE')\n",
    "ax.set_ylabel('MAE [ppm]')\n",
    "ax.set_xlabel('Number of Training 1H')\n",
    "ax.set_title('Learning Curve')\n"
   ]
  },
  {
   "cell_type": "code",
   "execution_count": null,
   "metadata": {},
   "outputs": [],
   "source": []
  }
 ],
 "metadata": {
  "kernelspec": {
   "display_name": "Python 2.7 GAP",
   "language": "python",
   "name": "gap"
  },
  "language_info": {
   "codemirror_mode": {
    "name": "ipython",
    "version": 2
   },
   "file_extension": ".py",
   "mimetype": "text/x-python",
   "name": "python",
   "nbconvert_exporter": "python",
   "pygments_lexer": "ipython2",
   "version": "2.7.15"
  },
  "toc": {
   "base_numbering": 1,
   "nav_menu": {},
   "number_sections": true,
   "sideBar": true,
   "skip_h1_title": false,
   "title_cell": "Table of Contents",
   "title_sidebar": "Contents",
   "toc_cell": false,
   "toc_position": {},
   "toc_section_display": "block",
   "toc_window_display": false
  }
 },
 "nbformat": 4,
 "nbformat_minor": 2
}
