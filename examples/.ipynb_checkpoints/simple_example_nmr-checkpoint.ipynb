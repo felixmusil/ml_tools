{
 "cells": [
  {
   "cell_type": "code",
   "execution_count": 1,
   "metadata": {},
   "outputs": [],
   "source": [
    "%matplotlib inline\n",
    "import matplotlib.pyplot as plt"
   ]
  },
  {
   "cell_type": "code",
   "execution_count": 2,
   "metadata": {},
   "outputs": [],
   "source": [
    "import numpy as np\n",
    "import ase\n",
    "from ase.io import read,write\n",
    "from ase.visualize import view\n",
    "import sys,os\n",
    "from glob import glob\n",
    "from copy import copy\n",
    "from tqdm import tqdm_notebook\n",
    "import cPickle as pck"
   ]
  },
  {
   "cell_type": "code",
   "execution_count": 3,
   "metadata": {},
   "outputs": [],
   "source": [
    "sys.path.insert(0,'/local/git/ml_tools/')"
   ]
  },
  {
   "cell_type": "code",
   "execution_count": 4,
   "metadata": {},
   "outputs": [],
   "source": [
    "import quippy as qp"
   ]
  },
  {
   "cell_type": "code",
   "execution_count": null,
   "metadata": {},
   "outputs": [],
   "source": []
  },
  {
   "cell_type": "code",
   "execution_count": null,
   "metadata": {},
   "outputs": [],
   "source": []
  },
  {
   "cell_type": "code",
   "execution_count": 5,
   "metadata": {},
   "outputs": [],
   "source": [
    "import sh"
   ]
  },
  {
   "cell_type": "code",
   "execution_count": 6,
   "metadata": {},
   "outputs": [],
   "source": [
    "def get_sp_mapping(frames,sp):\n",
    "    ii = 0\n",
    "    fid2gids = {it:[] for it in range(len(frames))}\n",
    "    for iframe,cc in enumerate(frames):\n",
    "        for ss in cc.get_atomic_numbers():\n",
    "            if ss == sp:\n",
    "                fid2gids[iframe].append(ii)\n",
    "                ii += 1\n",
    "    return fid2gids\n"
   ]
  },
  {
   "cell_type": "code",
   "execution_count": 7,
   "metadata": {},
   "outputs": [],
   "source": [
    "from ml_tools.descriptors.quippy_interface import RawSoapQUIP\n",
    "from ml_tools.models.KRR import KRR,TrainerCholesky\n",
    "from ml_tools.models.pipelines import RegressorPipeline\n",
    "from ml_tools.models.handlers import HashJsonHandler\n",
    "from ml_tools.kernels.kernels import KernelPower\n",
    "from ml_tools.io_utils import load_pck\n",
    "from ml_tools.utils import get_mae,get_rmse,get_sup,get_spearman,get_score\n",
    "from ml_tools.split.spliter import KFold,EnvironmentalKFold,LCSplit,ShuffleSplit,EnvironmentalShuffleSplit\n",
    "from ml_tools.model_selection.scorer import CrossValidationScorer\n",
    "from ml_tools.model_selection.gs import GridSearch\n",
    "from ml_tools.base import KernelBase\n",
    "from ml_tools.math_utils.optimized import power"
   ]
  },
  {
   "cell_type": "markdown",
   "metadata": {
    "heading_collapsed": true
   },
   "source": [
    "# train and predict"
   ]
  },
  {
   "cell_type": "code",
   "execution_count": 22,
   "metadata": {
    "hidden": true
   },
   "outputs": [],
   "source": [
    "sp = 1\n",
    "path = './'\n",
    "xyzPath = path + ''\n",
    "fn = xyzPath + 'CSD500.xyz'\n",
    "frames_train = read(fn,index=':10')\n",
    "global_species=[1, 6, 7, 8]\n",
    "nocenters = copy(global_species)\n",
    "nocenters.remove(sp)\n",
    "prop = []\n",
    "for cc in frames_train:\n",
    "    numb = cc.get_atomic_numbers()\n",
    "    prop.extend(cc.get_array('CS')[numb==sp])\n",
    "y_train = np.array(prop)"
   ]
  },
  {
   "cell_type": "code",
   "execution_count": 23,
   "metadata": {
    "hidden": true
   },
   "outputs": [],
   "source": [
    "delta = np.std(y)\n",
    "zeta = 2\n",
    "jitter = 1e-8\n",
    "\n",
    "soap_params = dict(rc=5, nmax=12, lmax=9, awidth=0.4,\n",
    "                    cutoff_transition_width=0.5,\n",
    "                    cutoff_dexp=0, cutoff_scale=1,cutoff_rate=1,\n",
    "                    centerweight=1.,global_species=global_species,nocenters=nocenters,\n",
    "                   fast_avg=False,is_sparse=False,disable_pbar=True)\n",
    "\n",
    "kernel = KernelPower(zeta,delta)\n",
    "trainer = TrainerCholesky(memory_efficient=True)\n",
    "representation = RawSoapQUIP(**soap_params)\n",
    "krr = KRR(jitter,trainer)"
   ]
  },
  {
   "cell_type": "code",
   "execution_count": 24,
   "metadata": {
    "hidden": true
   },
   "outputs": [],
   "source": [
    "rawsoaps = representation.transform(frames_train)\n",
    "kk = kernel.transform(rawsoaps)\n",
    "krr.fit(kk,y_train)"
   ]
  },
  {
   "cell_type": "code",
   "execution_count": 25,
   "metadata": {
    "hidden": true
   },
   "outputs": [],
   "source": [
    "frames_test = read(fn,index='10:20')\n",
    "prop = []\n",
    "for cc in frames_test:\n",
    "    numb = cc.get_atomic_numbers()\n",
    "    prop.extend(cc.get_array('CS')[numb==sp])\n",
    "y_true = np.array(prop)"
   ]
  },
  {
   "cell_type": "code",
   "execution_count": 27,
   "metadata": {
    "hidden": true
   },
   "outputs": [
    {
     "data": {
      "text/plain": [
       "(1.8079299206273776,\n",
       " 2.4277177081353867,\n",
       " 7.322334419945037,\n",
       " 0.4631398849450846,\n",
       " 0.7504786883833238)"
      ]
     },
     "execution_count": 27,
     "metadata": {},
     "output_type": "execute_result"
    }
   ],
   "source": [
    "rawsoaps_test = representation.transform(frames_test)\n",
    "kk_test = kernel.transform(rawsoaps_test,X_train=rawsoaps)\n",
    "y_pred = krr.predict(kk_test)\n",
    "get_score(y_pred,y_true)"
   ]
  },
  {
   "cell_type": "code",
   "execution_count": null,
   "metadata": {
    "hidden": true
   },
   "outputs": [],
   "source": []
  },
  {
   "cell_type": "markdown",
   "metadata": {
    "heading_collapsed": true
   },
   "source": [
    "# CV"
   ]
  },
  {
   "cell_type": "code",
   "execution_count": 35,
   "metadata": {
    "hidden": true
   },
   "outputs": [],
   "source": [
    "sp = 1\n",
    "path = './'\n",
    "xyzPath = path + ''\n",
    "fn = xyzPath + 'CSD500.xyz'\n",
    "frames = read(fn,index=':10')\n",
    "global_species=[1, 6, 7, 8]\n",
    "nocenters = copy(global_species)\n",
    "nocenters.remove(sp)\n",
    "prop = []\n",
    "for cc in frames:\n",
    "    numb = cc.get_atomic_numbers()\n",
    "    prop.extend(cc.get_array('CS')[numb==sp])\n",
    "y = np.array(prop)\n",
    "mapping = get_sp_mapping(frames,sp)"
   ]
  },
  {
   "cell_type": "code",
   "execution_count": 36,
   "metadata": {
    "hidden": true
   },
   "outputs": [],
   "source": [
    "delta = np.std(y)\n",
    "zeta = 2\n",
    "jitter = 1e-8\n",
    "\n",
    "soap_params = dict(rc=5, nmax=12, lmax=9, awidth=0.4,\n",
    "                    cutoff_transition_width=0.5,\n",
    "                    cutoff_dexp=0, cutoff_scale=1,cutoff_rate=1,\n",
    "                    centerweight=1.,global_species=global_species,nocenters=nocenters,\n",
    "                   fast_avg=False,is_sparse=False,disable_pbar=True)\n",
    "\n",
    "kernel = KernelPower(zeta,delta)\n",
    "trainer = TrainerCholesky(memory_efficient=True)\n",
    "representation = RawSoapQUIP(**soap_params)\n",
    "krr = KRR(jitter,trainer)\n",
    "\n",
    "cv = EnvironmentalKFold(n_splits=6,random_state=10,shuffle=True,mapping=mapping)\n"
   ]
  },
  {
   "cell_type": "code",
   "execution_count": 37,
   "metadata": {
    "hidden": true
   },
   "outputs": [],
   "source": [
    "rawsoaps = representation.transform(frames)"
   ]
  },
  {
   "cell_type": "code",
   "execution_count": 40,
   "metadata": {
    "hidden": true
   },
   "outputs": [],
   "source": [
    "\n",
    "def compute_cross_validation_error(rawsoaps,y,kernel,jitter,cv):\n",
    "    K = kernel.transform(rawsoaps)\n",
    "    Q = K + np.diag(jitter*np.ones(K.shape[0]))\n",
    "    Q_inv = np.linalg.inv(Q)\n",
    "    alpha = np.dot(Q_inv,y)\n",
    "    Cii = []\n",
    "    beta = np.zeros(alpha.shape)\n",
    "    error = np.zeros(y.shape)\n",
    "    for train,test in cv.split(rawsoaps):\n",
    "        Cii = Q_inv[np.ix_(test,test)]\n",
    "        beta = np.linalg.solve(Cii,alpha[test])\n",
    "        error[test] = beta # beta = y_true - y_pred \n",
    "    return error"
   ]
  },
  {
   "cell_type": "code",
   "execution_count": 43,
   "metadata": {
    "hidden": true
   },
   "outputs": [
    {
     "data": {
      "application/vnd.jupyter.widget-view+json": {
       "model_id": "dbeeb2c76dc541d79172b5c814cf78f8",
       "version_major": 2,
       "version_minor": 0
      },
      "text/html": [
       "<p>Failed to display Jupyter Widget of type <code>HBox</code>.</p>\n",
       "<p>\n",
       "  If you're reading this message in the Jupyter Notebook or JupyterLab Notebook, it may mean\n",
       "  that the widgets JavaScript is still loading. If this message persists, it\n",
       "  likely means that the widgets JavaScript library is either not installed or\n",
       "  not enabled. See the <a href=\"https://ipywidgets.readthedocs.io/en/stable/user_install.html\">Jupyter\n",
       "  Widgets Documentation</a> for setup instructions.\n",
       "</p>\n",
       "<p>\n",
       "  If you're reading this message in another frontend (for example, a static\n",
       "  rendering on GitHub or <a href=\"https://nbviewer.jupyter.org/\">NBViewer</a>),\n",
       "  it may mean that your frontend doesn't currently support widgets.\n",
       "</p>\n"
      ],
      "text/plain": [
       "HBox(children=(IntProgress(value=0, max=6), HTML(value=u'')))"
      ]
     },
     "metadata": {},
     "output_type": "display_data"
    },
    {
     "name": "stdout",
     "output_type": "stream",
     "text": [
      "\n",
      "1.975558350171262\n",
      "[-5.38835793e-01 -5.44934236e-01 -5.38827481e-01 -5.44942394e-01\n",
      "  1.19339224e+00  1.17967875e+00  1.19341209e+00  1.17966460e+00\n",
      " -6.77844718e-01 -6.85082210e-01 -6.77843657e-01 -6.85076229e-01\n",
      "  7.32893975e-01  7.38643107e-01  7.32909128e-01  7.38648855e-01\n",
      "  9.67222176e-01  9.63415471e-01  9.67225483e-01  9.63418982e-01\n",
      "  1.44494831e+00  1.44281050e+00  1.44496489e+00  1.44281265e+00\n",
      " -4.01776629e-01 -4.31315976e-01 -4.01763944e-01 -4.31289025e-01\n",
      " -1.52790804e+00 -1.53104061e+00 -1.52791281e+00 -1.53105148e+00\n",
      " -2.47070846e+00 -2.47447121e+00 -2.47072362e+00 -2.47448512e+00\n",
      "  1.26198601e+00  1.26653595e+00  1.26199495e+00  1.26653194e+00\n",
      " -1.44213284e+00 -1.44081971e+00 -1.44212790e+00 -1.44081305e+00\n",
      " -1.91712728e+00 -1.91781939e+00 -1.91712609e+00 -1.91782232e+00\n",
      "  2.58334975e-01  2.45891594e-01  2.58329186e-01  2.45887107e-01\n",
      " -9.43765082e-01 -9.42280688e-01 -9.43761392e-01 -9.42282589e-01\n",
      " -1.67182781e+00 -1.68471648e+00 -1.67182975e+00 -1.68471589e+00\n",
      " -2.63547092e+00 -2.63689189e+00 -2.63546869e+00 -2.63689264e+00\n",
      "  4.93314170e-01  4.92236812e-01  4.93315517e-01  4.92246824e-01\n",
      " -4.60037757e+00 -4.59104983e+00 -4.60037914e+00 -4.59104755e+00\n",
      " -2.87669349e+00 -2.86270660e+00 -2.87668228e+00 -2.86271211e+00\n",
      " -8.58304246e-01 -8.62231571e-01 -8.58302090e-01 -8.62225068e-01\n",
      "  1.37457238e+00  1.37326329e+00  1.37457638e+00  1.37327227e+00\n",
      "  1.04777265e+00  1.03833053e+00  1.04780796e+00  1.03833386e+00\n",
      "  4.30102535e+00  4.30096326e+00  4.30103759e+00  4.30095381e+00\n",
      "  9.93506438e-01  9.89485412e-01  9.93509869e-01  9.89462254e-01\n",
      " -5.16308858e-01 -5.18852317e-01 -5.16299027e-01 -5.18853907e-01\n",
      "  3.73806507e+00  3.73807860e+00  3.73806490e+00  3.73805033e+00\n",
      "  2.09558856e+00  2.09556734e+00  2.09556317e+00  2.09557283e+00\n",
      "  1.36129960e+00  1.36129477e+00  1.36129977e+00  1.36126425e+00\n",
      "  2.86568812e+00  2.86564958e+00  2.86564964e+00  2.86567500e+00\n",
      "  6.08962566e-01  6.08991169e-01  6.08994349e-01  6.08966547e-01\n",
      "  5.70600535e-01  5.70578128e-01  5.70595379e-01  5.70603596e-01\n",
      "  1.83554458e+00  1.83554423e+00  1.83556685e+00  1.83557643e+00\n",
      "  4.05488998e-01  4.05450770e-01  4.05435104e-01  4.05461521e-01\n",
      "  8.70627273e-01  8.70596665e-01  8.70552425e-01  8.70608616e-01\n",
      "  4.01729362e+00  4.01725434e+00  4.01721370e+00  4.01729991e+00\n",
      " -8.03517060e-01 -8.03545706e-01 -8.03526658e-01 -8.03532015e-01\n",
      " -1.59908813e-01 -1.59914129e-01 -1.59954865e-01 -1.59945494e-01\n",
      "  1.64566897e+00  1.64567956e+00  1.64567502e+00  1.64559595e+00\n",
      " -6.56494343e-01 -6.56443617e-01 -6.56510866e-01 -6.56494628e-01\n",
      "  5.23565217e-01  5.23531478e-01  5.23544816e-01  5.23510654e-01\n",
      "  1.38576171e+00  1.38575583e+00  1.38573391e+00  1.38575491e+00\n",
      "  3.00056358e-01  3.00059207e-01  3.00060192e-01  3.00027077e-01\n",
      " -1.46923243e+00 -1.46921053e+00 -1.46917929e+00 -1.46919658e+00\n",
      " -1.98029366e+00 -1.98030329e+00 -1.98030766e+00 -1.98031416e+00\n",
      "  3.06199142e-01  3.06256195e-01  3.06200721e-01  3.06206400e-01\n",
      " -4.14021923e-01 -4.13993235e-01 -4.13998661e-01 -4.14014428e-01\n",
      " -3.50348302e+00 -3.50349676e+00 -3.50345373e+00 -3.50353121e+00\n",
      " -5.35574962e-01 -5.35618588e-01 -5.35645116e-01 -5.35645713e-01\n",
      " -3.50998647e-01 -3.50958498e-01 -3.50977521e-01 -3.50986803e-01\n",
      " -5.78016806e-01 -5.77993088e-01 -5.78052137e-01 -5.77972792e-01\n",
      " -7.29704954e-01 -7.29694471e-01 -7.29673112e-01 -7.29674547e-01\n",
      " -3.56149619e-01 -3.56134469e-01 -3.56099598e-01 -3.56107205e-01\n",
      " -1.09276100e+00 -1.09277487e+00 -1.09271428e+00 -1.09274714e+00\n",
      " -2.92394100e-01 -2.92356647e-01 -2.92365100e-01 -2.92329848e-01\n",
      " -1.56911462e-01 -1.56930766e-01 -1.56883761e-01 -1.56885504e-01\n",
      "  3.64618739e-01  3.64632525e-01  3.64612278e-01  3.64646733e-01\n",
      "  1.08029069e+00  1.08028859e+00  1.08031770e+00  1.08034551e+00\n",
      "  1.37443743e-01  1.37440694e-01  1.37450551e-01  1.37437548e-01\n",
      " -1.68616441e+00 -1.68617104e+00 -1.68617779e+00 -1.68616547e+00\n",
      " -8.62656727e-01 -8.62665985e-01 -8.62665632e-01 -8.62664101e-01\n",
      " -6.02497368e+00 -6.02493288e+00 -6.02496248e+00 -6.02494614e+00\n",
      "  9.65035329e-01  9.65030289e-01  9.65028970e-01  9.65028788e-01\n",
      " -4.00305682e-01 -4.00315388e-01 -4.00308067e-01 -4.00309080e-01\n",
      "  6.20446994e-01  6.20416620e-01  6.20454499e-01  6.20460837e-01\n",
      " -7.47473274e+00 -7.47473712e+00 -7.47474414e+00 -7.47472613e+00\n",
      " -1.60729692e+00 -1.60732131e+00 -1.60730861e+00 -1.60726785e+00\n",
      " -1.32084569e+00 -1.32088991e+00 -1.32085902e+00 -1.32085584e+00\n",
      " -1.03768533e-03 -1.03774269e-03 -1.00874821e-03 -1.03670855e-03\n",
      "  3.59467511e-01  3.59455311e-01  3.59483517e-01  3.59487021e-01\n",
      "  9.48871437e-01  9.48847015e-01  9.48817468e-01  9.48852163e-01\n",
      "  9.50002831e-01  9.49967596e-01  9.49958699e-01  9.49973999e-01\n",
      "  5.13501671e-01  5.13525276e-01  5.13511495e-01  5.13506171e-01\n",
      "  2.29275465e-01  2.29269763e-01  2.29292759e-01  2.29285421e-01\n",
      "  4.69154831e-01  4.69131800e-01  4.69112511e-01  4.69123251e-01\n",
      "  1.14294916e+00  1.14292657e+00  1.14291540e+00  1.14291143e+00\n",
      "  2.75090719e+00  2.74092183e+00  2.75096464e+00  2.74092727e+00\n",
      "  4.94893879e-01  4.94893176e-01  4.94919369e-01  4.94896952e-01\n",
      "  1.37811866e+00  1.37812170e+00  1.37813645e+00  1.37813952e+00\n",
      " -3.65541491e-01 -3.65540983e-01 -3.65520993e-01 -3.65529826e-01\n",
      "  3.38664672e-01  3.38675292e-01  3.38666486e-01  3.38675273e-01\n",
      " -6.08347567e+00 -6.08347472e+00 -6.08348557e+00 -6.08347980e+00\n",
      "  8.35557168e-01  8.51283719e-01  8.35560832e-01  8.51308750e-01\n",
      "  1.50391079e+00  1.49856029e+00  1.50387563e+00  1.49859048e+00\n",
      "  1.45653091e+00  1.47597168e+00  1.45651328e+00  1.47596289e+00\n",
      " -1.15588109e+00 -1.14207525e+00 -1.15585129e+00 -1.14207791e+00\n",
      "  1.66122638e+00  1.66828808e+00  1.66125210e+00  1.66829413e+00\n",
      "  1.57597429e+00  1.59499779e+00  1.57598421e+00  1.59500593e+00\n",
      "  1.77078934e+00  1.76151145e+00  1.77078817e+00  1.76151401e+00\n",
      "  1.48531561e+00  1.47926007e+00  1.48529644e+00  1.47928720e+00\n",
      "  2.50306478e+00  2.49871304e+00  2.50305713e+00  2.49875973e+00\n",
      " -3.08986807e+00 -3.08988013e+00 -3.29732331e+00 -3.29733886e+00\n",
      " -2.19066506e+00 -2.19067448e+00 -1.41393763e+00 -1.41391527e+00\n",
      " -1.04764103e+00 -1.04760950e+00  2.47877406e+00  2.47875975e+00\n",
      " -5.73430924e-01 -5.73448335e-01 -1.58767214e+00 -1.58765798e+00\n",
      " -2.87428648e-01 -2.87405241e-01  1.17622658e+00  1.17622025e+00\n",
      "  1.99616456e+00  1.99617374e+00  1.23717558e+00  1.23713324e+00\n",
      " -3.93805952e+00 -3.93800629e+00 -2.07334312e+00 -2.07334493e+00\n",
      " -2.65315675e+00 -2.65320042e+00  7.70529315e-01  7.70490367e-01\n",
      " -1.68864389e+00 -1.68863175e+00  2.53834641e-01  2.53822278e-01\n",
      "  2.99615528e+00  2.99614750e+00 -2.09091144e+00 -2.09090218e+00\n",
      " -2.40394464e-01 -2.40380639e-01 -8.48731647e-01 -8.48703945e-01\n",
      "  6.24330587e-02  6.24511221e-02  3.47573194e-02  3.48097869e-02\n",
      "  7.32401223e+00  7.32400214e+00 -1.84609161e+00 -1.84608478e+00\n",
      " -3.41348571e+00 -3.41340250e+00 -5.86604157e-01 -5.86652785e-01\n",
      "  3.79224594e+00  3.79222260e+00  1.68348637e+00  1.68350203e+00\n",
      "  2.42343591e+00  2.42343358e+00  4.46951990e+00  4.46956975e+00\n",
      "  1.62395340e+00  1.62394978e+00  1.58267975e-01  1.58305246e-01\n",
      "  2.71698864e+00  2.71709816e+00  1.92222723e+00  1.92222325e+00\n",
      "  3.36511191e+00  3.36503811e+00  5.93332719e-01  5.93333603e-01\n",
      "  3.62620168e+00  3.62615796e+00  9.32992849e-01  9.32999959e-01\n",
      "  1.23102435e+00  1.23102899e+00  2.22581585e+00  2.22583936e+00\n",
      "  4.81479369e+00  4.81480303e+00  3.53479516e+00  3.53473927e+00\n",
      "  3.34111548e+00  3.34108846e+00  2.41369089e+00  2.41369626e+00\n",
      "  1.54656413e+00  1.54656034e+00  3.14573116e+00  3.14573611e+00\n",
      "  8.47555088e-01  8.47582133e-01  1.78826858e+00  1.78823306e+00\n",
      "  1.49975947e+00  1.49970661e+00  2.02905869e+00  2.02904368e+00\n",
      "  1.30296330e+00  1.30299781e+00  9.78292678e-01  9.78253260e-01\n",
      " -7.27977072e-02 -7.28210850e-02 -2.21152682e-01 -2.21193867e-01\n",
      " -3.96163258e-01 -3.96147868e-01  3.99568156e-01  3.99578656e-01\n",
      "  2.72682812e-02  2.72084952e-02 -1.52810033e+00 -1.52813644e+00\n",
      "  2.34244082e+00  2.34246135e+00  2.34244345e+00  2.34243842e+00\n",
      "  1.27716004e+00  1.27717813e+00  1.27719023e+00  1.27716287e+00\n",
      "  2.70408893e-01  2.70442504e-01  2.70458056e-01  2.70410992e-01\n",
      "  2.05459578e+00  2.05453306e+00  2.05459265e+00  2.05462917e+00\n",
      " -1.50289622e+00 -1.50292760e+00 -1.50292612e+00 -1.50292244e+00\n",
      "  3.74169730e+00  3.74161144e+00  3.74161162e+00  3.74169099e+00\n",
      "  1.36564933e+00  1.36561938e+00  1.36565360e+00  1.36566084e+00\n",
      "  6.45242016e-01  6.45271156e-01  6.45276552e-01  6.45249284e-01\n",
      "  4.69156329e-01  4.69144093e-01  4.69141588e-01  4.69061563e-01\n",
      "  3.75251650e-01  3.75211992e-01  3.75226062e-01  3.75263603e-01\n",
      " -2.29361287e-01 -2.29375399e-01 -2.29360349e-01 -2.29382335e-01\n",
      "  2.33863319e+00  2.33860303e+00  2.33860372e+00  2.33867204e+00\n",
      " -2.01303758e+00 -2.01306760e+00 -2.01302941e+00 -2.01302480e+00\n",
      "  2.68746698e+00  2.68752960e+00  2.68753241e+00  2.68747275e+00\n",
      "  1.23492275e+00  1.23492488e+00  1.23490493e+00  1.23496367e+00\n",
      "  4.34788942e-04  4.84815814e-04  4.40598925e-04  4.29248885e-04\n",
      "  2.62796543e+00  2.62804984e+00  2.62802145e+00  2.62805249e+00\n",
      " -4.35891135e-01 -4.35937001e-01 -4.35928364e-01 -4.35902633e-01\n",
      " -1.75300494e-01 -1.75300172e-01 -1.75294619e-01 -1.75295197e-01\n",
      " -2.53521238e+00 -2.53520934e+00 -2.53523092e+00 -2.53527034e+00\n",
      "  9.08443252e-01  9.08435545e-01  9.08519184e-01  9.08452146e-01\n",
      " -4.87557836e-01 -4.87543521e-01 -4.87522558e-01 -4.87565059e-01\n",
      " -1.74072329e+00 -1.74074810e+00 -1.74071300e+00 -1.74071153e+00\n",
      "  5.78788356e-01  5.78797077e-01  5.78825305e-01  5.78834190e-01\n",
      " -1.91688100e+00 -1.91688923e+00 -1.91688260e+00 -1.91692147e+00\n",
      " -1.97340740e+00 -1.97342992e+00 -1.97344668e+00 -1.97342956e+00\n",
      "  1.34372488e+00  1.34369833e+00  1.34365851e+00  1.34371081e+00\n",
      "  2.69983289e+00  2.69982265e+00  2.69984041e+00  2.69981074e+00\n",
      " -1.67484666e-01 -1.67496471e-01 -1.67500131e-01 -1.67499163e-01\n",
      "  4.07592671e+00  4.07601822e+00  4.07600782e+00  4.07592064e+00\n",
      "  1.39248041e+00  1.39243460e+00  1.39243800e+00  1.39244451e+00\n",
      "  8.21035015e-01  8.21043397e-01  1.07248694e+00  1.07247118e+00\n",
      "  4.93160226e+00  4.93160701e+00  2.77098997e+00  2.77106692e+00\n",
      "  2.90555958e+00  2.90557356e+00 -1.02034129e+00 -1.02033705e+00\n",
      " -7.42351044e-01 -7.42357594e-01  1.73412269e+00  1.73418046e+00\n",
      " -9.20778978e-01 -9.20815758e-01  1.04327347e-01  1.04344563e-01\n",
      " -5.59730673e-01 -5.59761671e-01  6.69872186e-01  6.69820645e-01\n",
      "  1.57191287e+00  1.57188497e+00  5.77952832e-01  5.77914464e-01\n",
      "  1.70620851e+00  1.70623343e+00 -2.97820105e-01 -2.97814357e-01\n",
      "  6.89403815e-01  6.89440628e-01  1.86371289e-01  1.86346923e-01\n",
      "  1.17378348e+00  1.17373180e+00  6.41516505e-01  6.41513432e-01\n",
      " -3.38088547e-02 -3.38492939e-02  8.80910344e-01  8.80921876e-01\n",
      " -1.10800786e+00 -1.10797100e+00]\n"
     ]
    }
   ],
   "source": [
    "error = compute_cross_validation_error(rawsoaps,y,kernel,jitter,cv)\n",
    "print np.sqrt(np.mean(error**2))\n",
    "print error"
   ]
  },
  {
   "cell_type": "markdown",
   "metadata": {},
   "source": [
    "# LC"
   ]
  },
  {
   "cell_type": "code",
   "execution_count": 8,
   "metadata": {},
   "outputs": [],
   "source": [
    "sp = 1\n",
    "path = './'\n",
    "xyzPath = path + ''\n",
    "fn = xyzPath + 'CSD500.xyz'\n",
    "frames = read(fn,index=':20')\n",
    "global_species=[1, 6, 7, 8]\n",
    "nocenters = copy(global_species)\n",
    "nocenters.remove(sp)\n",
    "prop = []\n",
    "for cc in frames:\n",
    "    numb = cc.get_atomic_numbers()\n",
    "    prop.extend(cc.get_array('CS')[numb==sp])\n",
    "y = np.array(prop)\n",
    "mapping = get_sp_mapping(frames,sp)"
   ]
  },
  {
   "cell_type": "code",
   "execution_count": 9,
   "metadata": {},
   "outputs": [],
   "source": [
    "delta = np.std(y)\n",
    "zeta = 2\n",
    "jitter = 1e-8\n",
    "\n",
    "soap_params = dict(rc=5, nmax=12, lmax=9, awidth=0.4,\n",
    "                    cutoff_transition_width=0.5,\n",
    "                    cutoff_dexp=0, cutoff_scale=1,cutoff_rate=1,\n",
    "                    centerweight=1.,global_species=global_species,nocenters=nocenters,\n",
    "                   fast_avg=False,is_sparse=False,disable_pbar=True)\n",
    "\n",
    "kernel = KernelPower(zeta,delta)\n",
    "trainer = TrainerCholesky(memory_efficient=True)\n",
    "representation = RawSoapQUIP(**soap_params)\n",
    "krr = KRR(jitter,trainer)\n"
   ]
  },
  {
   "cell_type": "code",
   "execution_count": 10,
   "metadata": {},
   "outputs": [],
   "source": [
    "rawsoaps = representation.transform(frames)\n",
    "K = kernel.transform(rawsoaps)"
   ]
  },
  {
   "cell_type": "code",
   "execution_count": 11,
   "metadata": {},
   "outputs": [],
   "source": [
    "lc = LCSplit(EnvironmentalShuffleSplit, n_repeats=[5,5],train_sizes=[5,10],test_size=10, random_state=10,mapping=mapping)\n"
   ]
  },
  {
   "cell_type": "code",
   "execution_count": 12,
   "metadata": {},
   "outputs": [
    {
     "data": {
      "application/vnd.jupyter.widget-view+json": {
       "model_id": "cb76131066b3417e892d0e74bd743b7e",
       "version_major": 2,
       "version_minor": 0
      },
      "text/html": [
       "<p>Failed to display Jupyter Widget of type <code>HBox</code>.</p>\n",
       "<p>\n",
       "  If you're reading this message in the Jupyter Notebook or JupyterLab Notebook, it may mean\n",
       "  that the widgets JavaScript is still loading. If this message persists, it\n",
       "  likely means that the widgets JavaScript library is either not installed or\n",
       "  not enabled. See the <a href=\"https://ipywidgets.readthedocs.io/en/stable/user_install.html\">Jupyter\n",
       "  Widgets Documentation</a> for setup instructions.\n",
       "</p>\n",
       "<p>\n",
       "  If you're reading this message in another frontend (for example, a static\n",
       "  rendering on GitHub or <a href=\"https://nbviewer.jupyter.org/\">NBViewer</a>),\n",
       "  it may mean that your frontend doesn't currently support widgets.\n",
       "</p>\n"
      ],
      "text/plain": [
       "HBox(children=(IntProgress(value=0, max=10), HTML(value=u'')))"
      ]
     },
     "metadata": {},
     "output_type": "display_data"
    },
    {
     "name": "stdout",
     "output_type": "stream",
     "text": [
      "\n"
     ]
    }
   ],
   "source": [
    "score = []\n",
    "for train,test in tqdm_notebook(lc.split(rawsoaps),total=lc.n_splits):\n",
    "    k_train = K[np.ix_(train,train)]\n",
    "    y_train = y[train]\n",
    "    k_test = K[np.ix_(test,train)]\n",
    "    krr.fit(k_train,y_train)\n",
    "    y_pred = krr.predict(k_test)\n",
    "    score.append(get_score(y_pred,y[test]))"
   ]
  },
  {
   "cell_type": "code",
   "execution_count": 13,
   "metadata": {},
   "outputs": [
    {
     "data": {
      "text/plain": [
       "[(1.5040761150245494,\n",
       "  2.0170012924798995,\n",
       "  7.1407129556284055,\n",
       "  0.6238729855304694,\n",
       "  0.8351685950959058),\n",
       " (1.8873528946165328,\n",
       "  2.6422783537895853,\n",
       "  10.284922030440192,\n",
       "  0.449863735634615,\n",
       "  0.7045435866250319),\n",
       " (2.370721459963461,\n",
       "  3.1508081966117762,\n",
       "  10.25660212709925,\n",
       "  0.21106256897226416,\n",
       "  0.6581540077884626),\n",
       " (1.8132095878687884,\n",
       "  2.4344083428252534,\n",
       "  9.77793574686686,\n",
       "  0.130078274393702,\n",
       "  0.7058873155215595),\n",
       " (2.0395784125758576,\n",
       "  2.6574837168083176,\n",
       "  8.171710137547052,\n",
       "  0.07577558422537345,\n",
       "  0.732689786229516),\n",
       " (1.5609877835110493,\n",
       "  2.153401763043191,\n",
       "  6.506300750486552,\n",
       "  0.6065280691052959,\n",
       "  0.8280476400320381),\n",
       " (1.552557466697036,\n",
       "  2.272520953277722,\n",
       "  7.987756671943718,\n",
       "  0.5083343135812903,\n",
       "  0.7985794887599824),\n",
       " (1.4780148054543294,\n",
       "  1.9712179054388586,\n",
       "  8.414909720681607,\n",
       "  0.6523318257472059,\n",
       "  0.8384631430925863),\n",
       " (1.7242058401302203,\n",
       "  2.234832691875089,\n",
       "  7.342592677637004,\n",
       "  0.2554672312337254,\n",
       "  0.771131928716742),\n",
       " (1.418823593694992,\n",
       "  2.0491617754925495,\n",
       "  8.72279796586372,\n",
       "  0.5345153449696924,\n",
       "  0.8440767114452351)]"
      ]
     },
     "execution_count": 13,
     "metadata": {},
     "output_type": "execute_result"
    }
   ],
   "source": [
    "score"
   ]
  },
  {
   "cell_type": "code",
   "execution_count": null,
   "metadata": {},
   "outputs": [],
   "source": []
  }
 ],
 "metadata": {
  "kernelspec": {
   "display_name": "Python 2 glosim",
   "language": "python",
   "name": "glosim"
  },
  "language_info": {
   "codemirror_mode": {
    "name": "ipython",
    "version": 2
   },
   "file_extension": ".py",
   "mimetype": "text/x-python",
   "name": "python",
   "nbconvert_exporter": "python",
   "pygments_lexer": "ipython2",
   "version": "2.7.14"
  },
  "toc": {
   "nav_menu": {},
   "number_sections": true,
   "sideBar": true,
   "skip_h1_title": false,
   "toc_cell": false,
   "toc_position": {},
   "toc_section_display": "block",
   "toc_window_display": false
  }
 },
 "nbformat": 4,
 "nbformat_minor": 2
}
