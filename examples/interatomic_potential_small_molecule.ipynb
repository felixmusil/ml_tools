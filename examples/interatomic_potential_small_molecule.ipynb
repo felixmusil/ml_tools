{
 "cells": [
  {
   "cell_type": "code",
   "execution_count": null,
   "metadata": {},
   "outputs": [],
   "source": [
    "%env NUMBA_NUM_THREADS=4\n",
    "%env OMP_NUM_THREADS=4"
   ]
  },
  {
   "cell_type": "code",
   "execution_count": null,
   "metadata": {
    "scrolled": true
   },
   "outputs": [],
   "source": [
    "%matplotlib inline\n",
    "import matplotlib.pyplot as plt"
   ]
  },
  {
   "cell_type": "code",
   "execution_count": null,
   "metadata": {},
   "outputs": [],
   "source": [
    "import sys,os\n",
    "sys.path.insert(0,'../')"
   ]
  },
  {
   "cell_type": "code",
   "execution_count": null,
   "metadata": {},
   "outputs": [],
   "source": [
    "from ml_tools.descriptors import RawSoapQUIP\n",
    "from ml_tools.models import SoRTrainer,MLCalculator\n",
    "from ml_tools.utils import get_mae,get_rmse,get_sup,get_spearman,get_score,load_pck,dump_obj,load_obj\n",
    "from ml_tools.split import KFold,LCSplit,ShuffleSplit\n",
    "from ml_tools.compressor import FPSFilter,CURFilter"
   ]
  },
  {
   "cell_type": "code",
   "execution_count": null,
   "metadata": {},
   "outputs": [],
   "source": [
    "import numpy as np\n",
    "from ase.io import read,write\n",
    "from ase.visualize import view\n",
    "import ase"
   ]
  },
  {
   "cell_type": "markdown",
   "metadata": {},
   "source": [
    "# Warning \n",
    "\n",
    "The original settings (N=2000) will need ~7Gb of RAM to run properly"
   ]
  },
  {
   "cell_type": "code",
   "execution_count": null,
   "metadata": {},
   "outputs": [],
   "source": [
    "# Total number of structure to load\n",
    "N = 2000\n",
    "# Number of structure to train the model with\n",
    "f = int(0.8*N)\n",
    "\n",
    "# load the structures\n",
    "frames = read('data/molecule_conformers_dftb.xyz',':{}'.format(N))\n",
    "global_species = []\n",
    "for frame in frames:\n",
    "    global_species.extend(frame.get_atomic_numbers())\n",
    "    frame.set_cell(np.eye(3)*30)\n",
    "global_species = np.unique(global_species)\n",
    "\n",
    "# split the structures in 2 sets\n",
    "ids = range(N)\n",
    "np.random.seed(10)\n",
    "np.random.shuffle(ids)\n",
    "\n",
    "frames_train = [frames[ii] for ii in ids[:f]]\n",
    "frames_test = [frames[ii] for ii in ids[f:]]\n",
    "\n",
    "# set up the soap parameters\n",
    "soap_params = dict(rc=3.5, nmax=6, lmax=6, awidth=0.4,\n",
    "                       global_species=global_species,nocenters=[],\n",
    "                       centerweight=1.,cutoff_transition_width=0.5, cutoff_rate=1,\n",
    "                     cutoff_dexp=0, cutoff_scale=1.,grad=True)\n",
    "\n",
    "representation = RawSoapQUIP(**soap_params)\n",
    "\n",
    "# Isolated atom contributions\n",
    "self_en = {\n",
    "    1: -6.492647589968434,\n",
    "    6: -38.054950840332474,\n",
    "    8: -83.97955098636527,\n",
    "}"
   ]
  },
  {
   "cell_type": "code",
   "execution_count": null,
   "metadata": {
    "code_folding": [
     0
    ]
   },
   "outputs": [],
   "source": [
    "# utility functions\n",
    "def extract_ref(frames,info_key,array_key):\n",
    "    y,f = [], []\n",
    "    for frame in frames:\n",
    "        y.append(frame.info[info_key])\n",
    "        if array_key is None:\n",
    "            pass\n",
    "        elif array_key == 'zeros':\n",
    "            f.append(np.zeros(frame.get_positions().shape))\n",
    "        else:\n",
    "            f.append(frame.get_array(array_key))\n",
    "    y= np.array(y)\n",
    "    try:\n",
    "        f = np.concatenate(f)\n",
    "    except:\n",
    "        pass\n",
    "    return y,f\n",
    "def format_score(scores):\n",
    "    return ' '.join(map(lambda x:'{}={:.2e}'.format(*x), scores.items()))\n"
   ]
  },
  {
   "cell_type": "markdown",
   "metadata": {},
   "source": [
    "# Build an interatomic potential"
   ]
  },
  {
   "cell_type": "code",
   "execution_count": null,
   "metadata": {},
   "outputs": [],
   "source": [
    "# extract the reference data\n",
    "y_train, f_train = extract_ref(frames_train,'dftb_energy_eV','dftb_forces_eV_per_Ang')\n",
    "y_test, f_test = extract_ref(frames_test,'dftb_energy_eV','dftb_forces_eV_per_Ang')"
   ]
  },
  {
   "cell_type": "code",
   "execution_count": null,
   "metadata": {},
   "outputs": [],
   "source": [
    "# Compute the soap representation and its gradients\n",
    "X = representation.transform(frames_train)\n",
    "X_test = representation.transform(frames_test)"
   ]
  },
  {
   "cell_type": "code",
   "execution_count": null,
   "metadata": {},
   "outputs": [],
   "source": [
    "# Select pseudo input with CUR decomposition\n",
    "X_pseudo = {}\n",
    "n_pseudo = {1:400,6:300,8:200}\n",
    "\n",
    "compressor = CURFilter(n_pseudo,act_on='sample per specie')\n",
    "compressor.fit(X)\n",
    "\n",
    "X_pseudo = compressor.transform(X)"
   ]
  },
  {
   "cell_type": "code",
   "execution_count": null,
   "metadata": {},
   "outputs": [],
   "source": [
    "# Setup the model parameters and precompute the kernel\n",
    "trainer = SoRTrainer(model_name='krr', kernel_name='gap',\n",
    "                     feature_transformations=representation,zeta = 2,self_energies=self_en)\n",
    "trainer.precompute(y_train, X, X_pseudo, f_train=f_train)"
   ]
  },
  {
   "cell_type": "code",
   "execution_count": null,
   "metadata": {},
   "outputs": [],
   "source": [
    "# train the model and predict on the test set\n",
    "model = trainer.fit(lambdas=[7e-3,1e-2],jitter=6e-7)\n",
    "\n",
    "y_pred = model.predict(X_test,eval_gradient=False)\n",
    "f_pred = -model.predict(X_test,eval_gradient=True)\n",
    "scores = get_score(y_pred,y_test)\n",
    "f_scores = get_score(f_pred.flatten(),f_test.flatten())\n",
    "print format_score(scores)\n",
    "print format_score(f_scores)"
   ]
  },
  {
   "cell_type": "code",
   "execution_count": null,
   "metadata": {},
   "outputs": [],
   "source": [
    "plt.plot(y_pred,y_test,'o',ms=2)"
   ]
  },
  {
   "cell_type": "markdown",
   "metadata": {
    "heading_collapsed": true
   },
   "source": [
    "# Test it on dimer configurations"
   ]
  },
  {
   "cell_type": "code",
   "execution_count": null,
   "metadata": {
    "hidden": true
   },
   "outputs": [],
   "source": [
    "#creating atoms pairs, H is 1, C is 6 and O is 8, the first atom is the origin one\n",
    "pairs = [[1,1],[6,6],[8,8],[6,1],[8,1],[6,8]]\n",
    "ndists = 40 #number of distances to look at\n",
    "dists = np.linspace(0.1,4.9,ndists) #distance list, can be changed \n",
    "print 'Number of configurations: ', len(pairs)*len(dists)"
   ]
  },
  {
   "cell_type": "code",
   "execution_count": null,
   "metadata": {
    "hidden": true
   },
   "outputs": [],
   "source": [
    "frames = []\n",
    "for p in pairs:\n",
    "    for d in dists:\n",
    "        #using ase we can create the cell and place the atoms\n",
    "        atoms = ase.Atoms(numbers=p,pbc=False,cell=np.eye(3)*100,positions=[[0,0,0],[d,0,0]])\n",
    "        frames.append(atoms)\n",
    "e_pairs = model.predict(frames)\n",
    "e_pairs -= e_pairs.mean() "
   ]
  },
  {
   "cell_type": "code",
   "execution_count": null,
   "metadata": {
    "hidden": true,
    "scrolled": true
   },
   "outputs": [],
   "source": [
    "for pair_to_plot in pairs:\n",
    "    i = pairs.index(pair_to_plot)\n",
    "\n",
    "    fig, ax = plt.subplots()\n",
    "    ax.plot(dists,e_pairs[i*ndists:(i+1)*ndists],'--xb',linewidth=1)\n",
    "    # ax.plot(dists,f_pairs[i*ndists:(i+1)*ndists],'--xr',linewidth=1)\n",
    "    ax.set_xlabel('Distance (A)')\n",
    "    ax.set_ylabel('Predicted energy (eV)')\n",
    "    ax.set_title('Bond energy between {} and {}'.format(*pair_to_plot))\n",
    "    plt.tight_layout()\n",
    "    plt.show()"
   ]
  },
  {
   "cell_type": "markdown",
   "metadata": {},
   "source": [
    "# Use it to run a MD simulation"
   ]
  },
  {
   "cell_type": "code",
   "execution_count": null,
   "metadata": {},
   "outputs": [],
   "source": [
    "from ase.md import MDLogger\n",
    "from ase.md.langevin import Langevin\n",
    "from ase import units\n",
    "from ase.io.trajectory import Trajectory\n",
    "from ase.md.velocitydistribution import (MaxwellBoltzmannDistribution,\n",
    "                                         Stationary, ZeroRotation)"
   ]
  },
  {
   "cell_type": "code",
   "execution_count": null,
   "metadata": {},
   "outputs": [],
   "source": [
    "log_fn = 'md.log'\n",
    "filename = 'md.traj'\n",
    "\n",
    "T = 200\n",
    "\n",
    "atoms = read('./data/molecule_conformers_dftb.xyz',0)\n",
    "\n",
    "atoms.set_cell(np.eye(3)*30)\n",
    "atoms.set_pbc(False)\n",
    "\n",
    "MaxwellBoltzmannDistribution(atoms, T* units.kB)\n",
    "Stationary(atoms)\n",
    "ZeroRotation(atoms) \n",
    "\n",
    "calc = MLCalculator(model)\n",
    "\n",
    "atoms.set_calculator(calc)\n",
    "\n",
    "traj = Trajectory(filename, mode='w', atoms=atoms, master=None)\n",
    "\n",
    "dyn = Langevin(atoms, 0.5 * units.fs, units.kB * T, 0.002, trajectory=traj)\n",
    "\n",
    "dyn.attach(MDLogger(dyn, atoms, log_fn, header=True, stress=False,\n",
    "           peratom=False, mode=\"w\"), interval=50)\n",
    "\n",
    "dyn.attach(traj.write, interval=10)\n",
    "\n",
    "dyn.run(1000)"
   ]
  },
  {
   "cell_type": "code",
   "execution_count": null,
   "metadata": {},
   "outputs": [],
   "source": [
    "view(read(filename,':'))"
   ]
  },
  {
   "cell_type": "code",
   "execution_count": null,
   "metadata": {},
   "outputs": [],
   "source": []
  }
 ],
 "metadata": {
  "kernelspec": {
   "display_name": "Python 2.7 GAP",
   "language": "python",
   "name": "gap"
  },
  "language_info": {
   "codemirror_mode": {
    "name": "ipython",
    "version": 2
   },
   "file_extension": ".py",
   "mimetype": "text/x-python",
   "name": "python",
   "nbconvert_exporter": "python",
   "pygments_lexer": "ipython2",
   "version": "2.7.15"
  },
  "toc": {
   "base_numbering": 1,
   "nav_menu": {},
   "number_sections": true,
   "sideBar": true,
   "skip_h1_title": false,
   "title_cell": "Table of Contents",
   "title_sidebar": "Contents",
   "toc_cell": false,
   "toc_position": {},
   "toc_section_display": "block",
   "toc_window_display": false
  }
 },
 "nbformat": 4,
 "nbformat_minor": 2
}
