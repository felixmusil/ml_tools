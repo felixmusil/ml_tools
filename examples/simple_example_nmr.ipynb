{
 "cells": [
  {
   "cell_type": "code",
   "execution_count": 1,
   "metadata": {
    "collapsed": true
   },
   "outputs": [],
   "source": [
    "%matplotlib inline\n",
    "import matplotlib.pyplot as plt"
   ]
  },
  {
   "cell_type": "code",
   "execution_count": 2,
   "metadata": {
    "collapsed": true
   },
   "outputs": [],
   "source": [
    "import numpy as np\n",
    "import ase\n",
    "from ase.io import read,write\n",
    "from ase.visualize import view\n",
    "import sys,os\n",
    "from glob import glob\n",
    "from copy import copy\n",
    "from tqdm import tqdm_notebook\n",
    "import cPickle as pck"
   ]
  },
  {
   "cell_type": "code",
   "execution_count": 3,
   "metadata": {
    "collapsed": true
   },
   "outputs": [],
   "source": [
    "sys.path.insert(0,'/local/git/ml_tools/')"
   ]
  },
  {
   "cell_type": "code",
   "execution_count": 4,
   "metadata": {
    "collapsed": true
   },
   "outputs": [],
   "source": [
    "import quippy as qp"
   ]
  },
  {
   "cell_type": "code",
   "execution_count": 5,
   "metadata": {
    "collapsed": true
   },
   "outputs": [],
   "source": [
    "import sh"
   ]
  },
  {
   "cell_type": "code",
   "execution_count": 6,
   "metadata": {
    "collapsed": true
   },
   "outputs": [],
   "source": [
    "import spglib as spg"
   ]
  },
  {
   "cell_type": "code",
   "execution_count": 7,
   "metadata": {
    "collapsed": true
   },
   "outputs": [],
   "source": [
    "def get_sp_mapping(frames,sp):\n",
    "    ii = 0\n",
    "    fid2gids = {it:[] for it in range(len(frames))}\n",
    "    for iframe,cc in enumerate(frames):\n",
    "        for ss in cc.get_atomic_numbers():\n",
    "            if ss == sp:\n",
    "                fid2gids[iframe].append(ii)\n",
    "                ii += 1\n",
    "    return fid2gids\n"
   ]
  },
  {
   "cell_type": "code",
   "execution_count": 8,
   "metadata": {
    "collapsed": true
   },
   "outputs": [],
   "source": [
    "from ml_tools.descriptors.quippy_interface import RawSoapQUIP\n",
    "from ml_tools.models.KRR import KRR,TrainerCholesky,KRRFastCV\n",
    "from ml_tools.models.pipelines import RegressorPipeline\n",
    "from ml_tools.models.handlers import HashJsonHandler\n",
    "from ml_tools.kernels.kernels import KernelPower,KernelSparseSoR\n",
    "from ml_tools.io_utils import load_pck\n",
    "from ml_tools.utils import get_mae,get_rmse,get_sup,get_spearman,get_score\n",
    "from ml_tools.split.spliter import KFold,EnvironmentalKFold,LCSplit,ShuffleSplit,EnvironmentalShuffleSplit\n",
    "from ml_tools.model_selection.scorer import CrossValidationScorer\n",
    "from ml_tools.model_selection.gs import GridSearch\n",
    "from ml_tools.base import KernelBase,BaseEstimator,TransformerMixin\n",
    "from ml_tools.math_utils.optimized import power\n",
    "from ml_tools.compressor.fps import FPSFilter\n",
    "from ml_tools.compressor.filter import SymmetryFilter"
   ]
  },
  {
   "cell_type": "markdown",
   "metadata": {
    "heading_collapsed": true
   },
   "source": [
    "# train and predict"
   ]
  },
  {
   "cell_type": "code",
   "execution_count": 22,
   "metadata": {
    "collapsed": true,
    "hidden": true
   },
   "outputs": [],
   "source": [
    "sp = 1\n",
    "path = './'\n",
    "xyzPath = path + ''\n",
    "fn = xyzPath + 'CSD500.xyz'\n",
    "frames_train = read(fn,index=':10')\n",
    "global_species=[1, 6, 7, 8]\n",
    "nocenters = copy(global_species)\n",
    "nocenters.remove(sp)\n",
    "prop = []\n",
    "for cc in frames_train:\n",
    "    numb = cc.get_atomic_numbers()\n",
    "    prop.extend(cc.get_array('CS')[numb==sp])\n",
    "y_train = np.array(prop)"
   ]
  },
  {
   "cell_type": "code",
   "execution_count": 23,
   "metadata": {
    "collapsed": true,
    "hidden": true
   },
   "outputs": [],
   "source": [
    "delta = np.std(y)\n",
    "zeta = 2\n",
    "jitter = 1e-8\n",
    "\n",
    "soap_params = dict(rc=5, nmax=12, lmax=9, awidth=0.4,\n",
    "                    cutoff_transition_width=0.5,\n",
    "                    cutoff_dexp=0, cutoff_scale=1,cutoff_rate=1,\n",
    "                    centerweight=1.,global_species=global_species,nocenters=nocenters,\n",
    "                   fast_avg=False,is_sparse=False,disable_pbar=True)\n",
    "\n",
    "kernel = KernelPower(zeta,delta)\n",
    "trainer = TrainerCholesky(memory_efficient=True)\n",
    "representation = RawSoapQUIP(**soap_params)\n",
    "krr = KRR(jitter,trainer)"
   ]
  },
  {
   "cell_type": "code",
   "execution_count": 24,
   "metadata": {
    "collapsed": true,
    "hidden": true
   },
   "outputs": [],
   "source": [
    "rawsoaps = representation.transform(frames_train)\n",
    "kk = kernel.transform(rawsoaps)\n",
    "krr.fit(kk,y_train)"
   ]
  },
  {
   "cell_type": "code",
   "execution_count": 25,
   "metadata": {
    "collapsed": true,
    "hidden": true
   },
   "outputs": [],
   "source": [
    "frames_test = read(fn,index='10:20')\n",
    "prop = []\n",
    "for cc in frames_test:\n",
    "    numb = cc.get_atomic_numbers()\n",
    "    prop.extend(cc.get_array('CS')[numb==sp])\n",
    "y_true = np.array(prop)"
   ]
  },
  {
   "cell_type": "code",
   "execution_count": 27,
   "metadata": {
    "hidden": true
   },
   "outputs": [
    {
     "data": {
      "text/plain": [
       "(1.8079299206273776,\n",
       " 2.4277177081353867,\n",
       " 7.322334419945037,\n",
       " 0.4631398849450846,\n",
       " 0.7504786883833238)"
      ]
     },
     "execution_count": 27,
     "metadata": {},
     "output_type": "execute_result"
    }
   ],
   "source": [
    "rawsoaps_test = representation.transform(frames_test)\n",
    "kk_test = kernel.transform(rawsoaps_test,X_train=rawsoaps)\n",
    "y_pred = krr.predict(kk_test)\n",
    "get_score(y_pred,y_true)"
   ]
  },
  {
   "cell_type": "code",
   "execution_count": null,
   "metadata": {
    "collapsed": true,
    "hidden": true
   },
   "outputs": [],
   "source": []
  },
  {
   "cell_type": "markdown",
   "metadata": {
    "heading_collapsed": true
   },
   "source": [
    "# FPS selection of the samples"
   ]
  },
  {
   "cell_type": "code",
   "execution_count": 10,
   "metadata": {
    "collapsed": true,
    "hidden": true
   },
   "outputs": [],
   "source": [
    "sp = 1\n",
    "path = './'\n",
    "xyzPath = path + ''\n",
    "fn = xyzPath + 'CSD500.xyz'\n",
    "frames_train = read(fn,index=':10')\n",
    "global_species=[1, 6, 7, 8]\n",
    "nocenters = copy(global_species)\n",
    "nocenters.remove(sp)\n",
    "prop = []\n",
    "for cc in frames_train:\n",
    "    numb = cc.get_atomic_numbers()\n",
    "    prop.extend(cc.get_array('CS')[numb==sp])\n",
    "y_train = np.array(prop)"
   ]
  },
  {
   "cell_type": "code",
   "execution_count": 12,
   "metadata": {
    "collapsed": true,
    "hidden": true
   },
   "outputs": [],
   "source": [
    "delta = np.std(y_train)\n",
    "zeta = 2\n",
    "Nselect = 6\n",
    "\n",
    "soap_params = dict(rc=5, nmax=12, lmax=9, awidth=0.4,\n",
    "                    cutoff_transition_width=0.5,\n",
    "                    cutoff_dexp=0, cutoff_scale=1,cutoff_rate=1,\n",
    "                    centerweight=1.,global_species=global_species,nocenters=nocenters,\n",
    "                   fast_avg=False,is_sparse=False,disable_pbar=True)\n",
    "\n",
    "kernel = KernelPower(zeta,delta)\n",
    "representation = RawSoapQUIP(**soap_params)\n",
    "compressor = FPSFilter(Nselect,kernel,act_on='sample',precompute_kernel=True,disable_pbar=True)"
   ]
  },
  {
   "cell_type": "code",
   "execution_count": 16,
   "metadata": {
    "hidden": true
   },
   "outputs": [
    {
     "data": {
      "text/plain": [
       "(650, 11761)"
      ]
     },
     "execution_count": 16,
     "metadata": {},
     "output_type": "execute_result"
    }
   ],
   "source": [
    "rawsoaps = representation.transform(frames_train)\n",
    "rawsoaps.shape"
   ]
  },
  {
   "cell_type": "code",
   "execution_count": 15,
   "metadata": {
    "hidden": true
   },
   "outputs": [
    {
     "data": {
      "image/png": "[encoded data removed]",
      "text/plain": [
       "<matplotlib.figure.Figure at 0x7f109d9fff50>"
      ]
     },
     "metadata": {},
     "output_type": "display_data"
    }
   ],
   "source": [
    "compressor.fit(rawsoaps,dry_run=True)\n",
    "compressor.plot()"
   ]
  },
  {
   "cell_type": "code",
   "execution_count": 17,
   "metadata": {
    "hidden": true
   },
   "outputs": [
    {
     "data": {
      "text/plain": [
       "FPSFilter(Nselect=250, act_on='sample',\n",
       "     kernel=KernelPower(delta=3.222900421236607, zeta=2))"
      ]
     },
     "execution_count": 17,
     "metadata": {},
     "output_type": "execute_result"
    }
   ],
   "source": [
    "Nselect = 250\n",
    "compressor = FPSFilter(Nselect,kernel,act_on='sample',precompute_kernel=True,disable_pbar=True)\n",
    "compressor.fit(rawsoaps)"
   ]
  },
  {
   "cell_type": "markdown",
   "metadata": {
    "heading_collapsed": true
   },
   "source": [
    "# Filter equivalent atoms"
   ]
  },
  {
   "cell_type": "code",
   "execution_count": 32,
   "metadata": {
    "collapsed": true,
    "hidden": true
   },
   "outputs": [],
   "source": [
    "sp = 1\n",
    "path = './'\n",
    "xyzPath = path + ''\n",
    "fn = xyzPath + 'CSD500.xyz'\n",
    "frames_train = read(fn,index=':50')\n",
    "global_species=[1, 6, 7, 8]\n",
    "nocenters = copy(global_species)\n",
    "nocenters.remove(sp)\n",
    "prop = []\n",
    "for cc in frames_train:\n",
    "    numb = cc.get_atomic_numbers()\n",
    "    prop.extend(cc.get_array('CS')[numb==sp])\n",
    "y_train = np.array(prop)"
   ]
  },
  {
   "cell_type": "code",
   "execution_count": 33,
   "metadata": {
    "collapsed": true,
    "hidden": true
   },
   "outputs": [],
   "source": [
    "delta = np.std(y_train)\n",
    "zeta = 2\n",
    "\n",
    "soap_params = dict(rc=5, nmax=9, lmax=6, awidth=0.4,\n",
    "                    cutoff_transition_width=0.5,\n",
    "                    cutoff_dexp=0, cutoff_scale=1,cutoff_rate=1,\n",
    "                    centerweight=1.,global_species=global_species,nocenters=nocenters,\n",
    "                   fast_avg=False,is_sparse=False,disable_pbar=True)\n",
    "representation = RawSoapQUIP(**soap_params)"
   ]
  },
  {
   "cell_type": "code",
   "execution_count": 19,
   "metadata": {
    "collapsed": true,
    "hidden": true
   },
   "outputs": [],
   "source": [
    "rawsoaps = representation.transform(frames_train)"
   ]
  },
  {
   "cell_type": "code",
   "execution_count": 22,
   "metadata": {
    "hidden": true
   },
   "outputs": [
    {
     "name": "stdout",
     "output_type": "stream",
     "text": [
      "(7543, 11761) 7543\n",
      "17857\n",
      "True False\n"
     ]
    }
   ],
   "source": [
    "filt = SymmetryFilter(threshold=1e-4,species=[sp])\n",
    "X_filt, y_filt = filt.fit_transform(dict(frames=frames_train,feature_matrix=rawsoaps),y=y_train)\n",
    "print X_filt.shape,filt.strides[-1]\n",
    "print len(filt.filter_ids_inv)\n",
    "a,b = filt.inverse_transform(X_filt,y_filt)\n",
    "print np.allclose(rawsoaps,a,atol=1e-4),np.allclose(y_train,b,atol=1e-4)\n",
    "\n"
   ]
  },
  {
   "cell_type": "code",
   "execution_count": 21,
   "metadata": {
    "hidden": true
   },
   "outputs": [
    {
     "data": {
      "text/plain": [
       "[<matplotlib.lines.Line2D at 0x7fd64ea511d0>]"
      ]
     },
     "execution_count": 21,
     "metadata": {},
     "output_type": "execute_result"
    },
    {
     "data": {
      "image/png": "[encoded data removed]",
      "text/plain": [
       "<Figure size 432x288 with 1 Axes>"
      ]
     },
     "metadata": {},
     "output_type": "display_data"
    }
   ],
   "source": [
    "plt.plot(y_train-b,'o',ms=1)"
   ]
  },
  {
   "cell_type": "code",
   "execution_count": null,
   "metadata": {
    "collapsed": true,
    "hidden": true
   },
   "outputs": [],
   "source": []
  },
  {
   "cell_type": "markdown",
   "metadata": {
    "heading_collapsed": true
   },
   "source": [
    "# CV"
   ]
  },
  {
   "cell_type": "code",
   "execution_count": 77,
   "metadata": {
    "collapsed": true,
    "hidden": true
   },
   "outputs": [],
   "source": [
    "sp = 1\n",
    "path = './'\n",
    "xyzPath = path + ''\n",
    "fn = xyzPath + 'CSD500.xyz'\n",
    "frames = read(fn,index=':100')\n",
    "global_species=[1, 6, 7, 8]\n",
    "nocenters = copy(global_species)\n",
    "nocenters.remove(sp)\n",
    "prop = []\n",
    "for cc in frames:\n",
    "    numb = cc.get_atomic_numbers()\n",
    "    prop.extend(cc.get_array('CS')[numb==sp])\n",
    "y = np.array(prop)\n",
    "mapping = get_sp_mapping(frames,sp)"
   ]
  },
  {
   "cell_type": "code",
   "execution_count": 81,
   "metadata": {
    "collapsed": true,
    "hidden": true
   },
   "outputs": [],
   "source": [
    "delta = np.std(y)*0.01\n",
    "zeta = 2\n",
    "jitter = 1e-8\n",
    "\n",
    "soap_params = dict(rc=5, nmax=12, lmax=9, awidth=0.4,\n",
    "                    cutoff_transition_width=0.5,\n",
    "                    cutoff_dexp=0, cutoff_scale=1,cutoff_rate=1,\n",
    "                    centerweight=1.,global_species=global_species,nocenters=nocenters,\n",
    "                   fast_avg=False,is_sparse=False,disable_pbar=True)\n",
    "\n",
    "kernel = KernelPower(zeta,delta)\n",
    "trainer = TrainerCholesky(memory_efficient=True)\n",
    "representation = RawSoapQUIP(**soap_params)\n",
    "\n",
    "\n",
    "cv = EnvironmentalKFold(n_splits=6,random_state=10,shuffle=True,mapping=mapping)\n",
    "krr = KRRFastCV(jitter,cv)"
   ]
  },
  {
   "cell_type": "code",
   "execution_count": 82,
   "metadata": {
    "collapsed": true,
    "hidden": true
   },
   "outputs": [],
   "source": [
    "rawsoaps = representation.transform(frames)"
   ]
  },
  {
   "cell_type": "code",
   "execution_count": 83,
   "metadata": {
    "hidden": true
   },
   "outputs": [
    {
     "data": {
      "text/plain": [
       "(0.6573786013644255,\n",
       " 0.9200334849108767,\n",
       " 6.423142269994784,\n",
       " 0.911647617988212,\n",
       " 0.951666531617626)"
      ]
     },
     "execution_count": 83,
     "metadata": {},
     "output_type": "execute_result"
    }
   ],
   "source": [
    "Kmat = kernel.transform(rawsoaps)\n",
    "krr.fit(Kmat,y)\n",
    "y_pred = krr.predict()\n",
    "get_score(y_pred,y)"
   ]
  },
  {
   "cell_type": "markdown",
   "metadata": {
    "hidden": true
   },
   "source": [
    "## test with sparse kernel"
   ]
  },
  {
   "cell_type": "markdown",
   "metadata": {
    "hidden": true
   },
   "source": [
    "### ref"
   ]
  },
  {
   "cell_type": "code",
   "execution_count": 85,
   "metadata": {
    "collapsed": true,
    "hidden": true
   },
   "outputs": [],
   "source": [
    "sp = 1\n",
    "path = './'\n",
    "xyzPath = path + ''\n",
    "fn = xyzPath + 'CSD500.xyz'\n",
    "frames = read(fn,index=':100')\n",
    "global_species=[1, 6, 7, 8]\n",
    "nocenters = copy(global_species)\n",
    "nocenters.remove(sp)\n",
    "prop = []\n",
    "for cc in frames:\n",
    "    numb = cc.get_atomic_numbers()\n",
    "    prop.extend(cc.get_array('CS')[numb==sp])\n",
    "y = np.array(prop)\n",
    "mapping = get_sp_mapping(frames,sp)"
   ]
  },
  {
   "cell_type": "code",
   "execution_count": 86,
   "metadata": {
    "collapsed": true,
    "hidden": true
   },
   "outputs": [],
   "source": [
    "delta = np.std(y)*0.01\n",
    "zeta = 2\n",
    "jitter = 1e-8\n",
    "Nselect = 10\n",
    "\n",
    "soap_params = dict(rc=5, nmax=12, lmax=9, awidth=0.4,\n",
    "                    cutoff_transition_width=0.5,\n",
    "                    cutoff_dexp=0, cutoff_scale=1,cutoff_rate=1,\n",
    "                    centerweight=1.,global_species=global_species,nocenters=nocenters,\n",
    "                   fast_avg=False,is_sparse=False,disable_pbar=True)\n",
    "\n",
    "kern = KernelPower(zeta,delta)\n",
    "kernel = KernelSparseSoR(kern)\n",
    "trainer = TrainerCholesky(memory_efficient=True)\n",
    "representation = RawSoapQUIP(**soap_params)\n",
    "compressor = FPSFilter(Nselect,kern,act_on='sample',precompute_kernel=True,disable_pbar=True)\n",
    "filt = SymmetryFilter(threshold=1e-4,species=[sp])\n",
    "\n",
    "cv = EnvironmentalKFold(n_splits=6,random_state=10,shuffle=True,mapping=mapping)\n",
    "krr = KRR(jitter,trainer)"
   ]
  },
  {
   "cell_type": "code",
   "execution_count": 87,
   "metadata": {
    "collapsed": true,
    "hidden": true
   },
   "outputs": [],
   "source": [
    "rawsoaps = representation.transform(frames)"
   ]
  },
  {
   "cell_type": "code",
   "execution_count": 88,
   "metadata": {
    "collapsed": true,
    "hidden": true
   },
   "outputs": [],
   "source": [
    "X_filt, y_filt = filt.fit_transform(dict(frames=frames,feature_matrix=rawsoaps),y=y)"
   ]
  },
  {
   "cell_type": "code",
   "execution_count": 89,
   "metadata": {
    "hidden": true
   },
   "outputs": [
    {
     "data": {
      "image/png": "[encoded data removed]",
      "text/plain": [
       "<Figure size 432x288 with 1 Axes>"
      ]
     },
     "metadata": {},
     "output_type": "display_data"
    }
   ],
   "source": [
    "compressor.fit(X_filt,dry_run=True)\n",
    "compressor.plot()"
   ]
  },
  {
   "cell_type": "code",
   "execution_count": 91,
   "metadata": {
    "hidden": true
   },
   "outputs": [
    {
     "name": "stdout",
     "output_type": "stream",
     "text": [
      "[0.92307202 1.26436442 5.68397433 0.80199702 0.90468017]\n"
     ]
    }
   ],
   "source": [
    "X_pseudo = rawsoaps[compressor.selected_ids[:1000]]\n",
    "scores = []\n",
    "error = []\n",
    "for train,test in cv.split(rawsoaps):\n",
    "    Ktrain,ytrain = kernel.transform(X=rawsoaps[train],y=y[train],X_pseudo=X_pseudo) \n",
    "    Ktest = kernel.transform(X=rawsoaps[test],X_train=X_pseudo) \n",
    "    krr.fit(Ktrain,ytrain)\n",
    "    y_pred = krr.predict(Ktest)\n",
    "    error.extend(y_pred-y[test])\n",
    "    scores.append(get_score(y_pred,y[test]))\n",
    "#score = (np.mean(np.abs(error)),np.sqrt(np.mean(np.square(error))))\n",
    "score = np.mean(scores,axis=0)\n",
    "print score"
   ]
  },
  {
   "cell_type": "markdown",
   "metadata": {
    "hidden": true
   },
   "source": [
    "### test fast"
   ]
  },
  {
   "cell_type": "code",
   "execution_count": 103,
   "metadata": {
    "collapsed": true,
    "hidden": true
   },
   "outputs": [],
   "source": [
    "sp = 1\n",
    "path = './'\n",
    "xyzPath = path + ''\n",
    "fn = xyzPath + 'CSD500.xyz'\n",
    "frames = read(fn,index=':100')\n",
    "global_species=[1, 6, 7, 8]\n",
    "nocenters = copy(global_species)\n",
    "nocenters.remove(sp)\n",
    "prop = []\n",
    "for cc in frames:\n",
    "    numb = cc.get_atomic_numbers()\n",
    "    prop.extend(cc.get_array('CS')[numb==sp])\n",
    "y = np.array(prop)\n",
    "mapping = get_sp_mapping(frames,sp)"
   ]
  },
  {
   "cell_type": "code",
   "execution_count": 104,
   "metadata": {
    "collapsed": true,
    "hidden": true
   },
   "outputs": [],
   "source": [
    "delta = np.std(y)*0.01\n",
    "zeta = 2\n",
    "jitter = 1e-8\n",
    "Nselect = 10\n",
    "\n",
    "soap_params = dict(rc=5, nmax=12, lmax=9, awidth=0.4,\n",
    "                    cutoff_transition_width=0.5,\n",
    "                    cutoff_dexp=0, cutoff_scale=1,cutoff_rate=1,\n",
    "                    centerweight=1.,global_species=global_species,nocenters=nocenters,\n",
    "                   fast_avg=False,is_sparse=False,disable_pbar=True)\n",
    "\n",
    "kern = KernelPower(zeta,delta)\n",
    "kernel = KernelSparseSoR(kern)\n",
    "trainer = TrainerCholesky(memory_efficient=True)\n",
    "representation = RawSoapQUIP(**soap_params)\n",
    "compressor = FPSFilter(Nselect,kern,act_on='sample',precompute_kernel=True,disable_pbar=True)\n",
    "filt = SymmetryFilter(threshold=1e-4,species=[sp])\n",
    "\n",
    "cv = KFold(n_splits=6,random_state=10,shuffle=True)\n",
    "krr = KRR(jitter,trainer)"
   ]
  },
  {
   "cell_type": "code",
   "execution_count": 105,
   "metadata": {
    "collapsed": true,
    "hidden": true
   },
   "outputs": [],
   "source": [
    "rawsoaps = representation.transform(frames)"
   ]
  },
  {
   "cell_type": "code",
   "execution_count": 106,
   "metadata": {
    "collapsed": true,
    "hidden": true
   },
   "outputs": [],
   "source": [
    "X_filt, y_filt = filt.fit_transform(dict(frames=frames,feature_matrix=rawsoaps),y=y)"
   ]
  },
  {
   "cell_type": "code",
   "execution_count": 107,
   "metadata": {
    "hidden": true
   },
   "outputs": [
    {
     "data": {
      "image/png": "[encoded data removed]",
      "text/plain": [
       "<Figure size 432x288 with 1 Axes>"
      ]
     },
     "metadata": {},
     "output_type": "display_data"
    }
   ],
   "source": [
    "compressor.fit(X_filt,dry_run=True)\n",
    "compressor.plot()"
   ]
  },
  {
   "cell_type": "code",
   "execution_count": 108,
   "metadata": {
    "collapsed": true,
    "hidden": true
   },
   "outputs": [],
   "source": [
    "X_pseudo = rawsoaps[compressor.selected_ids[:1000]]"
   ]
  },
  {
   "cell_type": "code",
   "execution_count": 110,
   "metadata": {
    "hidden": true
   },
   "outputs": [
    {
     "name": "stdout",
     "output_type": "stream",
     "text": [
      "[9.14823797e+07 1.18827264e+08 6.26699926e+08 6.87426007e-01\n",
      " 7.73560571e-01]\n"
     ]
    }
   ],
   "source": [
    "\n",
    "spK,spY = kernel.transform(X=rawsoaps,y=y,X_pseudo=X_pseudo) \n",
    "kMN_inv = np.linalg.pinv(kernel.kernel(X_pseudo,Y=rawsoaps))\n",
    "\n",
    "Q_inv = np.linalg.inv(spK)\n",
    "alpha = np.dot(Q_inv,spY)\n",
    "Cii = []\n",
    "beta = np.zeros(alpha.shape)\n",
    "y_pred = np.zeros(y.shape)\n",
    "error = np.zeros(y.shape)\n",
    "for _,test in cv.split(spK):\n",
    "    Cii = Q_inv[np.ix_(test,test)]\n",
    "    beta[test] = np.linalg.solve(Cii,alpha[test]) \n",
    "error = np.dot(kMN_inv,beta) # beta = y_true - y_pred \n",
    "y_pred = y - error\n",
    "scores.append(get_score(y_pred,y))\n",
    "#score = (np.mean(np.abs(error)),np.sqrt(np.mean(np.square(error))))\n",
    "score = np.mean(scores,axis=0)\n",
    "print score"
   ]
  },
  {
   "cell_type": "code",
   "execution_count": 113,
   "metadata": {
    "hidden": true
   },
   "outputs": [
    {
     "data": {
      "text/plain": [
       "(1000,)"
      ]
     },
     "execution_count": 113,
     "metadata": {},
     "output_type": "execute_result"
    }
   ],
   "source": [
    "beta.shape"
   ]
  },
  {
   "cell_type": "markdown",
   "metadata": {
    "heading_collapsed": true
   },
   "source": [
    "# LC"
   ]
  },
  {
   "cell_type": "code",
   "execution_count": 8,
   "metadata": {
    "collapsed": true,
    "hidden": true
   },
   "outputs": [],
   "source": [
    "sp = 1\n",
    "path = './'\n",
    "xyzPath = path + ''\n",
    "fn = xyzPath + 'CSD500.xyz'\n",
    "frames = read(fn,index=':20')\n",
    "global_species=[1, 6, 7, 8]\n",
    "nocenters = copy(global_species)\n",
    "nocenters.remove(sp)\n",
    "prop = []\n",
    "for cc in frames:\n",
    "    numb = cc.get_atomic_numbers()\n",
    "    prop.extend(cc.get_array('CS')[numb==sp])\n",
    "y = np.array(prop)\n",
    "mapping = get_sp_mapping(frames,sp)"
   ]
  },
  {
   "cell_type": "code",
   "execution_count": 9,
   "metadata": {
    "collapsed": true,
    "hidden": true
   },
   "outputs": [],
   "source": [
    "delta = np.std(y)\n",
    "zeta = 2\n",
    "jitter = 1e-8\n",
    "\n",
    "soap_params = dict(rc=5, nmax=12, lmax=9, awidth=0.4,\n",
    "                    cutoff_transition_width=0.5,\n",
    "                    cutoff_dexp=0, cutoff_scale=1,cutoff_rate=1,\n",
    "                    centerweight=1.,global_species=global_species,nocenters=nocenters,\n",
    "                   fast_avg=False,is_sparse=False,disable_pbar=True)\n",
    "\n",
    "kernel = KernelPower(zeta,delta)\n",
    "trainer = TrainerCholesky(memory_efficient=True)\n",
    "representation = RawSoapQUIP(**soap_params)\n",
    "krr = KRR(jitter,trainer)\n"
   ]
  },
  {
   "cell_type": "code",
   "execution_count": 10,
   "metadata": {
    "collapsed": true,
    "hidden": true
   },
   "outputs": [],
   "source": [
    "rawsoaps = representation.transform(frames)\n",
    "K = kernel.transform(rawsoaps)"
   ]
  },
  {
   "cell_type": "code",
   "execution_count": 11,
   "metadata": {
    "collapsed": true,
    "hidden": true
   },
   "outputs": [],
   "source": [
    "lc = LCSplit(EnvironmentalShuffleSplit, n_repeats=[5,5],train_sizes=[5,10],test_size=10, random_state=10,mapping=mapping)\n"
   ]
  },
  {
   "cell_type": "code",
   "execution_count": 12,
   "metadata": {
    "hidden": true
   },
   "outputs": [
    {
     "data": {
      "application/vnd.jupyter.widget-view+json": {
       "model_id": "cb76131066b3417e892d0e74bd743b7e",
       "version_major": 2,
       "version_minor": 0
      },
      "text/html": [
       "<p>Failed to display Jupyter Widget of type <code>HBox</code>.</p>\n",
       "<p>\n",
       "  If you're reading this message in the Jupyter Notebook or JupyterLab Notebook, it may mean\n",
       "  that the widgets JavaScript is still loading. If this message persists, it\n",
       "  likely means that the widgets JavaScript library is either not installed or\n",
       "  not enabled. See the <a href=\"https://ipywidgets.readthedocs.io/en/stable/user_install.html\">Jupyter\n",
       "  Widgets Documentation</a> for setup instructions.\n",
       "</p>\n",
       "<p>\n",
       "  If you're reading this message in another frontend (for example, a static\n",
       "  rendering on GitHub or <a href=\"https://nbviewer.jupyter.org/\">NBViewer</a>),\n",
       "  it may mean that your frontend doesn't currently support widgets.\n",
       "</p>\n"
      ],
      "text/plain": [
       "HBox(children=(IntProgress(value=0, max=10), HTML(value=u'')))"
      ]
     },
     "metadata": {},
     "output_type": "display_data"
    },
    {
     "name": "stdout",
     "output_type": "stream",
     "text": [
      "\n"
     ]
    }
   ],
   "source": [
    "score = []\n",
    "for train,test in tqdm_notebook(lc.split(rawsoaps),total=lc.n_splits):\n",
    "    k_train = K[np.ix_(train,train)]\n",
    "    y_train = y[train]\n",
    "    k_test = K[np.ix_(test,train)]\n",
    "    krr.fit(k_train,y_train)\n",
    "    y_pred = krr.predict(k_test)\n",
    "    score.append(get_score(y_pred,y[test]))"
   ]
  },
  {
   "cell_type": "code",
   "execution_count": 15,
   "metadata": {
    "hidden": true
   },
   "outputs": [
    {
     "data": {
      "text/plain": [
       "9.8"
      ]
     },
     "execution_count": 15,
     "metadata": {},
     "output_type": "execute_result"
    }
   ],
   "source": [
    "35000**2*8/1e9"
   ]
  },
  {
   "cell_type": "markdown",
   "metadata": {},
   "source": [
    "# Procedure of the paper (updated)"
   ]
  },
  {
   "cell_type": "markdown",
   "metadata": {
    "heading_collapsed": true
   },
   "source": [
    "## detect outlier in the train set"
   ]
  },
  {
   "cell_type": "code",
   "execution_count": 49,
   "metadata": {
    "collapsed": true,
    "hidden": true
   },
   "outputs": [],
   "source": [
    "sp = 1\n",
    "path = './'\n",
    "xyzPath = path + ''\n",
    "fn = xyzPath + 'CSD500.xyz'\n",
    "frames_train = read(fn,index=':50')\n",
    "global_species=[1, 6, 7, 8]\n",
    "nocenters = copy(global_species)\n",
    "nocenters.remove(sp)\n",
    "prop = []\n",
    "for cc in frames_train:\n",
    "    numb = cc.get_atomic_numbers()\n",
    "    prop.extend(cc.get_array('CS')[numb==sp])\n",
    "y_train = np.array(prop)\n"
   ]
  },
  {
   "cell_type": "code",
   "execution_count": 50,
   "metadata": {
    "collapsed": true,
    "hidden": true
   },
   "outputs": [],
   "source": [
    "delta = np.std(y_train)*0.1\n",
    "zeta = 2\n",
    "jitter = 1e-8\n",
    "\n",
    "soap_params = dict(rc=3.5, nmax=9, lmax=6, awidth=0.4,\n",
    "                    cutoff_transition_width=0.5,\n",
    "                    cutoff_dexp=0, cutoff_scale=1,cutoff_rate=1,\n",
    "                    centerweight=1.,global_species=global_species,nocenters=nocenters,\n",
    "                   fast_avg=False,is_sparse=False,disable_pbar=True)\n",
    "\n",
    "kernel = KernelPower(zeta,delta)\n",
    "representation = RawSoapQUIP(**soap_params)\n",
    "filt = SymmetryFilter(threshold=1e-4,species=[sp])\n"
   ]
  },
  {
   "cell_type": "code",
   "execution_count": 51,
   "metadata": {
    "collapsed": true,
    "hidden": true
   },
   "outputs": [],
   "source": [
    "rawsoaps = representation.transform(frames_train)\n",
    "\n",
    "X_filt, y_filt = filt.fit_transform(dict(frames=frames_train,feature_matrix=rawsoaps),y=y_train)\n",
    "Kmat = kernel.transform(X_filt)"
   ]
  },
  {
   "cell_type": "code",
   "execution_count": 52,
   "metadata": {
    "collapsed": true,
    "hidden": true
   },
   "outputs": [],
   "source": [
    "mapping = {}\n",
    "for iframe,(st,nd) in enumerate(zip(filt.strides[:-1],filt.strides[1:])):\n",
    "    mapping[iframe] = range(st,nd)"
   ]
  },
  {
   "cell_type": "code",
   "execution_count": 91,
   "metadata": {
    "hidden": true
   },
   "outputs": [
    {
     "data": {
      "application/vnd.jupyter.widget-view+json": {
       "model_id": "c58100e0354b478092d7d14ab6ba5de9",
       "version_major": 2,
       "version_minor": 0
      },
      "text/html": [
       "<p>Failed to display Jupyter Widget of type <code>HBox</code>.</p>\n",
       "<p>\n",
       "  If you're reading this message in the Jupyter Notebook or JupyterLab Notebook, it may mean\n",
       "  that the widgets JavaScript is still loading. If this message persists, it\n",
       "  likely means that the widgets JavaScript library is either not installed or\n",
       "  not enabled. See the <a href=\"https://ipywidgets.readthedocs.io/en/stable/user_install.html\">Jupyter\n",
       "  Widgets Documentation</a> for setup instructions.\n",
       "</p>\n",
       "<p>\n",
       "  If you're reading this message in another frontend (for example, a static\n",
       "  rendering on GitHub or <a href=\"https://nbviewer.jupyter.org/\">NBViewer</a>),\n",
       "  it may mean that your frontend doesn't currently support widgets.\n",
       "</p>\n"
      ],
      "text/plain": [
       "HBox(children=(IntProgress(value=0), HTML(value=u'')))"
      ]
     },
     "metadata": {},
     "output_type": "display_data"
    },
    {
     "name": "stdout",
     "output_type": "stream",
     "text": [
      "\n"
     ]
    }
   ],
   "source": [
    "np.random.seed(10)\n",
    "seeds = np.random.randint(low=0,high=1000,size=(100,))\n",
    "preds = []\n",
    "for seed in tqdm_notebook(seeds):\n",
    "    cv = EnvironmentalKFold(n_splits=3,random_state=seed,shuffle=True,mapping=mapping)\n",
    "    krr = KRRFastCV(jitter,cv)\n",
    "    \n",
    "    krr.fit(Kmat,y_filt)\n",
    "    \n",
    "    yp_filt = krr.predict()\n",
    "    _,y_pred = filt.inverse_transform(y=yp_filt)\n",
    "    preds.append(y_pred)\n",
    "preds = np.array(preds)"
   ]
  },
  {
   "cell_type": "code",
   "execution_count": 92,
   "metadata": {
    "collapsed": true,
    "hidden": true
   },
   "outputs": [],
   "source": [
    "m = np.mean(preds-y_train,axis=0)\n",
    "s = np.std(preds-y_train,axis=0)"
   ]
  },
  {
   "cell_type": "code",
   "execution_count": 93,
   "metadata": {
    "hidden": true
   },
   "outputs": [
    {
     "data": {
      "text/plain": [
       "[<matplotlib.lines.Line2D at 0x7fd64e0b3ed0>]"
      ]
     },
     "execution_count": 93,
     "metadata": {},
     "output_type": "execute_result"
    },
    {
     "data": {
      "image/png": "[encoded data removed]",
      "text/plain": [
       "<Figure size 432x288 with 1 Axes>"
      ]
     },
     "metadata": {},
     "output_type": "display_data"
    }
   ],
   "source": [
    "plt.plot(s,'o',ms=2,)\n",
    "plt.plot(3*s.mean()*np.ones(len(m)),'-',ms=2,)"
   ]
  },
  {
   "cell_type": "code",
   "execution_count": 94,
   "metadata": {
    "hidden": true
   },
   "outputs": [
    {
     "data": {
      "text/plain": [
       "[<matplotlib.lines.Line2D at 0x7fd64e225650>]"
      ]
     },
     "execution_count": 94,
     "metadata": {},
     "output_type": "execute_result"
    },
    {
     "data": {
      "image/png": "[encoded data removed]",
      "text/plain": [
       "<Figure size 432x288 with 1 Axes>"
      ]
     },
     "metadata": {},
     "output_type": "display_data"
    }
   ],
   "source": [
    "plt.plot(y_train,'o',ms=2)\n",
    "plt.plot(np.where(s>3*s.mean())[0],y_train[s>3*s.mean()],'ro',ms=2,)"
   ]
  },
  {
   "cell_type": "code",
   "execution_count": 95,
   "metadata": {
    "hidden": true
   },
   "outputs": [
    {
     "data": {
      "text/plain": [
       "array([18])"
      ]
     },
     "execution_count": 95,
     "metadata": {},
     "output_type": "execute_result"
    }
   ],
   "source": [
    "mapping_sp = get_sp_mapping(frames_train,sp)\n",
    "\n",
    "iii = np.where(s>3*s.mean())[0]\n",
    "suspicious_center = iii\n",
    "sp,name=1,'ccsd'\n",
    "suspicious_frame = []\n",
    "for icenter in iii:\n",
    "    for iframe,centers in mapping_sp.iteritems():\n",
    "        if icenter in centers:\n",
    "            suspicious_frame.append(iframe)\n",
    "            break\n",
    "\n",
    "#print np.unique(suspicious_frame)\n",
    "suspicious_frame = np.unique(suspicious_frame)\n",
    "suspicious_frame"
   ]
  },
  {
   "cell_type": "markdown",
   "metadata": {
    "heading_collapsed": true
   },
   "source": [
    "## FPS filtering"
   ]
  },
  {
   "cell_type": "code",
   "execution_count": 112,
   "metadata": {
    "collapsed": true,
    "hidden": true
   },
   "outputs": [],
   "source": [
    "sp = 1\n",
    "path = './'\n",
    "xyzPath = path + ''\n",
    "fn = xyzPath + 'CSD500.xyz'\n",
    "frames_train = read(fn,index=':50')\n",
    "global_species=[1, 6, 7, 8]\n",
    "nocenters = copy(global_species)\n",
    "nocenters.remove(sp)"
   ]
  },
  {
   "cell_type": "code",
   "execution_count": 113,
   "metadata": {
    "hidden": true
   },
   "outputs": [
    {
     "name": "stdout",
     "output_type": "stream",
     "text": [
      "49\n"
     ]
    }
   ],
   "source": [
    "suspicious_frames = [18]\n",
    "for idx in suspicious_frames:\n",
    "    frames_train.pop(idx)\n",
    "print len(frames_train)\n",
    "\n",
    "prop = []\n",
    "for cc in frames_train:\n",
    "    numb = cc.get_atomic_numbers()\n",
    "    prop.extend(cc.get_array('CS')[numb==sp])\n",
    "y_train = np.array(prop)"
   ]
  },
  {
   "cell_type": "code",
   "execution_count": 114,
   "metadata": {
    "collapsed": true,
    "hidden": true
   },
   "outputs": [],
   "source": [
    "delta = np.std(y_train)\n",
    "zeta = 2\n",
    "Nselect = 6\n",
    "\n",
    "soap_params = dict(rc=5, nmax=12, lmax=9, awidth=0.4,\n",
    "                    cutoff_transition_width=0.5,\n",
    "                    cutoff_dexp=0, cutoff_scale=1,cutoff_rate=1,\n",
    "                    centerweight=1.,global_species=global_species,nocenters=nocenters,\n",
    "                   fast_avg=False,is_sparse=False,disable_pbar=True)\n",
    "\n",
    "kernel = KernelPower(zeta,delta)\n",
    "representation = RawSoapQUIP(**soap_params)\n",
    "compressor = FPSFilter(Nselect,kernel,act_on='sample',precompute_kernel=True,disable_pbar=True)\n",
    "filt = SymmetryFilter(threshold=1e-4,species=[sp])"
   ]
  },
  {
   "cell_type": "code",
   "execution_count": 115,
   "metadata": {
    "collapsed": true,
    "hidden": true
   },
   "outputs": [],
   "source": [
    "rawsoaps = representation.transform(frames_train)\n",
    "\n",
    "X_filt, y_filt = filt.fit_transform(dict(frames=frames_train,feature_matrix=rawsoaps),y=y_train)\n"
   ]
  },
  {
   "cell_type": "code",
   "execution_count": 116,
   "metadata": {
    "hidden": true,
    "scrolled": true
   },
   "outputs": [
    {
     "data": {
      "image/png": "[encoded data removed]",
      "text/plain": [
       "<Figure size 432x288 with 1 Axes>"
      ]
     },
     "metadata": {},
     "output_type": "display_data"
    }
   ],
   "source": [
    "compressor.fit(X_filt,dry_run=True)\n",
    "compressor.plot()"
   ]
  },
  {
   "cell_type": "markdown",
   "metadata": {
    "heading_collapsed": true
   },
   "source": [
    "## CV score for a model"
   ]
  },
  {
   "cell_type": "code",
   "execution_count": 100,
   "metadata": {
    "collapsed": true,
    "hidden": true
   },
   "outputs": [],
   "source": [
    "sp = 1\n",
    "path = './'\n",
    "xyzPath = path + ''\n",
    "fn = xyzPath + 'CSD500.xyz'\n",
    "frames_train = read(fn,index=':50')\n",
    "global_species=[1, 6, 7, 8]\n",
    "nocenters = copy(global_species)\n",
    "nocenters.remove(sp)"
   ]
  },
  {
   "cell_type": "code",
   "execution_count": 101,
   "metadata": {
    "hidden": true
   },
   "outputs": [
    {
     "name": "stdout",
     "output_type": "stream",
     "text": [
      "49\n"
     ]
    }
   ],
   "source": [
    "suspicious_frames = [18]\n",
    "for idx in suspicious_frames:\n",
    "    frames_train.pop(idx)\n",
    "print len(frames_train)"
   ]
  },
  {
   "cell_type": "code",
   "execution_count": 102,
   "metadata": {
    "collapsed": true,
    "hidden": true
   },
   "outputs": [],
   "source": [
    "prop = []\n",
    "for cc in frames_train:\n",
    "    numb = cc.get_atomic_numbers()\n",
    "    prop.extend(cc.get_array('CS')[numb==sp])\n",
    "y_train = np.array(prop)"
   ]
  },
  {
   "cell_type": "code",
   "execution_count": 107,
   "metadata": {
    "collapsed": true,
    "hidden": true
   },
   "outputs": [],
   "source": [
    "delta = np.std(y_train)*0.1\n",
    "zeta = 2\n",
    "jitter = 1e-8\n",
    "Nselect = 1000\n",
    "\n",
    "soap_params = dict(rc=3.5, nmax=9, lmax=6, awidth=0.4,\n",
    "                    cutoff_transition_width=0.5,\n",
    "                    cutoff_dexp=0, cutoff_scale=1,cutoff_rate=1,\n",
    "                    centerweight=1.,global_species=global_species,nocenters=nocenters,\n",
    "                   fast_avg=False,is_sparse=False,disable_pbar=True)\n",
    "\n",
    "kernel = KernelPower(zeta,delta)\n",
    "representation = RawSoapQUIP(**soap_params)\n",
    "filt = SymmetryFilter(threshold=1e-4,species=[sp])\n",
    "compressor = FPSFilter(Nselect,kernel,act_on='sample',precompute_kernel=True,disable_pbar=True)\n",
    "\n"
   ]
  },
  {
   "cell_type": "code",
   "execution_count": 108,
   "metadata": {
    "collapsed": true,
    "hidden": true
   },
   "outputs": [],
   "source": [
    "rawsoaps = representation.transform(frames_train)\n",
    "\n",
    "X_filt, y_filt = filt.fit_transform(dict(frames=frames_train,feature_matrix=rawsoaps),y=y_train)\n",
    "Kmat = kernel.transform(X_filt)"
   ]
  },
  {
   "cell_type": "code",
   "execution_count": 109,
   "metadata": {
    "collapsed": true,
    "hidden": true
   },
   "outputs": [],
   "source": [
    "mapping = {}\n",
    "for iframe,(st,nd) in enumerate(zip(filt.strides[:-1],filt.strides[1:])):\n",
    "    mapping[iframe] = range(st,nd)"
   ]
  },
  {
   "cell_type": "code",
   "execution_count": 110,
   "metadata": {
    "collapsed": true,
    "hidden": true
   },
   "outputs": [],
   "source": [
    "\n",
    "cv = EnvironmentalKFold(n_splits=10,random_state=seed,shuffle=True,mapping=mapping)\n",
    "krr = KRRFastCV(jitter,cv)"
   ]
  },
  {
   "cell_type": "code",
   "execution_count": 111,
   "metadata": {
    "hidden": true
   },
   "outputs": [
    {
     "data": {
      "text/plain": [
       "(0.7476413086559425,\n",
       " 0.9923627295631735,\n",
       " 6.964805883089406,\n",
       " 0.902222396797154,\n",
       " 0.9456986647400127)"
      ]
     },
     "execution_count": 111,
     "metadata": {},
     "output_type": "execute_result"
    }
   ],
   "source": [
    "\n",
    "krr.fit(Kmat,y_filt)\n",
    "\n",
    "yp_filt = krr.predict()\n",
    "_,y_pred = filt.inverse_transform(y=yp_filt)\n",
    "\n",
    "get_score(y_train,y_pred)"
   ]
  },
  {
   "cell_type": "code",
   "execution_count": null,
   "metadata": {
    "collapsed": true,
    "hidden": true
   },
   "outputs": [],
   "source": []
  },
  {
   "cell_type": "code",
   "execution_count": null,
   "metadata": {
    "collapsed": true,
    "hidden": true
   },
   "outputs": [],
   "source": []
  }
 ],
 "metadata": {
  "kernelspec": {
   "display_name": "Python 2.7 GAP",
   "language": "python",
   "name": "gap"
  },
  "language_info": {
   "codemirror_mode": {
    "name": "ipython",
    "version": 2
   },
   "file_extension": ".py",
   "mimetype": "text/x-python",
   "name": "python",
   "nbconvert_exporter": "python",
   "pygments_lexer": "ipython2",
   "version": "2.7.14"
  },
  "toc": {
   "base_numbering": 1,
   "nav_menu": {},
   "number_sections": true,
   "sideBar": true,
   "skip_h1_title": false,
   "title_cell": "Table of Contents",
   "title_sidebar": "Contents",
   "toc_cell": false,
   "toc_position": {},
   "toc_section_display": "block",
   "toc_window_display": false
  }
 },
 "nbformat": 4,
 "nbformat_minor": 2
}
