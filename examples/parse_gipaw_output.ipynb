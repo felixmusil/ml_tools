{
 "cells": [
  {
   "cell_type": "code",
   "execution_count": 1,
   "metadata": {
    "collapsed": true
   },
   "outputs": [],
   "source": [
    "%matplotlib inline\n",
    "import matplotlib.pyplot as plt"
   ]
  },
  {
   "cell_type": "code",
   "execution_count": 2,
   "metadata": {
    "collapsed": true
   },
   "outputs": [],
   "source": [
    "import numpy as np\n",
    "import ase\n",
    "from ase.io import read,write\n",
    "from ase.visualize import view\n",
    "import sys,os\n",
    "from glob import glob\n",
    "from copy import copy\n",
    "from tqdm import tqdm_notebook\n",
    "import cPickle as pck"
   ]
  },
  {
   "cell_type": "code",
   "execution_count": 3,
   "metadata": {
    "collapsed": true
   },
   "outputs": [],
   "source": [
    "sys.path.insert(0,'/local/git/ml_tools/')"
   ]
  },
  {
   "cell_type": "code",
   "execution_count": 4,
   "metadata": {
    "collapsed": true
   },
   "outputs": [],
   "source": [
    "from ml_tools.utils.gipaw_out_reader import (\n",
    "get_shift_local,get_shift_maroscopic,get_shift_total\n",
    ")"
   ]
  },
  {
   "cell_type": "code",
   "execution_count": 5,
   "metadata": {
    "collapsed": true
   },
   "outputs": [],
   "source": [
    "fn = 'data/AHOXOL.scf.out'\n",
    "frame = read(fn)"
   ]
  },
  {
   "cell_type": "code",
   "execution_count": 26,
   "metadata": {
    "collapsed": true
   },
   "outputs": [],
   "source": [
    "fn = 'data/AHOXOL.nmr.out'\n",
    "cs_local = get_shift_local(fn)\n",
    "frame.set_array('CS_local',np.array(cs_local))\n",
    "cs_global = get_shift_maroscopic(fn)\n",
    "frame.info['CS_global'] = cs_global\n",
    "cs_total = get_shift_total(fn)\n",
    "frame.set_array('CS_total',np.array(cs_total))"
   ]
  },
  {
   "cell_type": "code",
   "execution_count": 27,
   "metadata": {},
   "outputs": [
    {
     "data": {
      "text/plain": [
       "True"
      ]
     },
     "execution_count": 27,
     "metadata": {},
     "output_type": "execute_result"
    }
   ],
   "source": [
    "np.allclose(cs_local+cs_global,cs_total,atol=1e-2)"
   ]
  },
  {
   "cell_type": "markdown",
   "metadata": {},
   "source": [
    "Note the rounding discrepencies. I am not sure how it is done in GIPAW-QE so if you want total use the total entry instead of the sum of the local and global contributions."
   ]
  },
  {
   "cell_type": "code",
   "execution_count": 29,
   "metadata": {},
   "outputs": [
    {
     "data": {
      "text/plain": [
       "array([-63.13, -71.  , -22.56, -35.29,  76.17,  90.18,  20.47,  32.64,\n",
       "        62.37,  70.7 ,  65.21,  42.18, 101.33,  95.7 , -19.11, -17.72,\n",
       "        87.01,  88.97, 109.55, 113.29,  20.65,  20.6 ,  48.15,  38.63,\n",
       "        22.35,  23.06,  56.29,  52.77,  24.1 ,  24.06,  57.99,  57.78,\n",
       "        23.73,  24.33,  42.14,  39.57,   6.27,   8.44, 129.14, 123.43,\n",
       "        29.01,  27.71,  28.83,  27.74, 151.27, 152.  ,  28.51,  28.98,\n",
       "        30.14,  29.62, 132.56, 124.36,  29.29,  27.54,  31.05,  28.64,\n",
       "        78.52,  78.65,  99.48,  98.6 ,  23.93,  22.94,  20.07,  15.85,\n",
       "        14.89,  14.7 ,  80.16,  79.68, 140.98, 142.45,  28.78,  27.5 ,\n",
       "        28.5 ,  28.13,  30.63,  29.85, 147.18, 143.39,  29.01,  29.39,\n",
       "        29.13,  27.42,  28.32,  28.97, 134.71, 138.11,  28.76,  27.97,\n",
       "        28.73,  28.62,  29.84,  30.33,  19.02,  19.86,  87.16,  66.08,\n",
       "       150.47, 143.73,  30.05,  29.75,  29.29,  28.28,  27.49,  27.35,\n",
       "       146.6 , 146.1 ,  28.48,  28.59,  28.48,  28.57,  27.75,  29.19,\n",
       "       139.86, 138.92,  29.61,  30.07,  30.43,  29.83,  28.77,  28.67])"
      ]
     },
     "execution_count": 29,
     "metadata": {},
     "output_type": "execute_result"
    }
   ],
   "source": [
    "np.round(cs_local+cs_global,decimals=2,)"
   ]
  },
  {
   "cell_type": "code",
   "execution_count": 30,
   "metadata": {},
   "outputs": [
    {
     "data": {
      "text/plain": [
       "array([-63.12, -70.99, -22.55, -35.28,  76.17,  90.19,  20.48,  32.65,\n",
       "        62.38,  70.71,  65.21,  42.18, 101.33,  95.7 , -19.12, -17.72,\n",
       "        87.01,  88.97, 109.55, 113.29,  20.65,  20.61,  48.15,  38.64,\n",
       "        22.36,  23.06,  56.3 ,  52.77,  24.11,  24.06,  57.99,  57.79,\n",
       "        23.73,  24.33,  42.14,  39.58,   6.27,   8.44, 129.15, 123.44,\n",
       "        29.01,  27.71,  28.83,  27.74, 151.28, 152.  ,  28.52,  28.98,\n",
       "        30.14,  29.62, 132.56, 124.37,  29.3 ,  27.55,  31.05,  28.65,\n",
       "        78.52,  78.65,  99.49,  98.6 ,  23.94,  22.94,  20.07,  15.85,\n",
       "        14.89,  14.7 ,  80.16,  79.68, 140.98, 142.46,  28.79,  27.5 ,\n",
       "        28.51,  28.14,  30.64,  29.85, 147.18, 143.39,  29.01,  29.4 ,\n",
       "        29.13,  27.42,  28.33,  28.97, 134.72, 138.11,  28.77,  27.98,\n",
       "        28.74,  28.63,  29.84,  30.34,  19.03,  19.87,  87.16,  66.08,\n",
       "       150.47, 143.74,  30.05,  29.75,  29.29,  28.28,  27.49,  27.36,\n",
       "       146.6 , 146.1 ,  28.49,  28.59,  28.48,  28.57,  27.76,  29.19,\n",
       "       139.87, 138.93,  29.61,  30.07,  30.43,  29.84,  28.78,  28.68])"
      ]
     },
     "execution_count": 30,
     "metadata": {},
     "output_type": "execute_result"
    }
   ],
   "source": [
    "cs_total"
   ]
  },
  {
   "cell_type": "code",
   "execution_count": null,
   "metadata": {
    "collapsed": true
   },
   "outputs": [],
   "source": []
  }
 ],
 "metadata": {
  "kernelspec": {
   "display_name": "Python 2.7 GAP",
   "language": "python",
   "name": "gap"
  },
  "language_info": {
   "codemirror_mode": {
    "name": "ipython",
    "version": 2
   },
   "file_extension": ".py",
   "mimetype": "text/x-python",
   "name": "python",
   "nbconvert_exporter": "python",
   "pygments_lexer": "ipython2",
   "version": "2.7.14"
  },
  "toc": {
   "base_numbering": 1,
   "nav_menu": {},
   "number_sections": true,
   "sideBar": true,
   "skip_h1_title": false,
   "title_cell": "Table of Contents",
   "title_sidebar": "Contents",
   "toc_cell": false,
   "toc_position": {},
   "toc_section_display": true,
   "toc_window_display": false
  }
 },
 "nbformat": 4,
 "nbformat_minor": 2
}
